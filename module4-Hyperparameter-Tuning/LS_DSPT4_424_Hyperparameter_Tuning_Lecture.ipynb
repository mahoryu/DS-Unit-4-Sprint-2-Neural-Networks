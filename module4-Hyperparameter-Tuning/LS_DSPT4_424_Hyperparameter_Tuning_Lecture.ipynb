{
  "nbformat": 4,
  "nbformat_minor": 0,
  "metadata": {
    "kernelspec": {
      "name": "python3",
      "display_name": "Python 3"
    },
    "colab": {
      "name": "LS_DSPT4_424_Hyperparameter_Tuning_Lecture.ipynb",
      "provenance": [],
      "collapsed_sections": [],
      "include_colab_link": true
    },
    "accelerator": "GPU"
  },
  "cells": [
    {
      "cell_type": "markdown",
      "metadata": {
        "id": "view-in-github",
        "colab_type": "text"
      },
      "source": [
        "<a href=\"https://colab.research.google.com/github/mahoryu/DS-Unit-4-Sprint-2-Neural-Networks/blob/master/module4-Hyperparameter-Tuning/LS_DSPT4_424_Hyperparameter_Tuning_Lecture.ipynb\" target=\"_parent\"><img src=\"https://colab.research.google.com/assets/colab-badge.svg\" alt=\"Open In Colab\"/></a>"
      ]
    },
    {
      "cell_type": "markdown",
      "metadata": {
        "colab_type": "text",
        "id": "41TS0Sa0rDNx"
      },
      "source": [
        "Lambda School Data Science\n",
        "\n",
        "*Unit 4, Sprint 2, Module 4*\n",
        "\n",
        "---"
      ]
    },
    {
      "cell_type": "markdown",
      "metadata": {
        "colab_type": "text",
        "id": "5i1SHgOuyytz"
      },
      "source": [
        "# Neural Networks & GPUs (Prepare)\n",
        "*aka Hyperparameter Tuning*\n",
        "\n",
        "*aka Big Servers for Big Problems*"
      ]
    },
    {
      "cell_type": "markdown",
      "metadata": {
        "colab_type": "text",
        "id": "N0AhmEvdyyt0"
      },
      "source": [
        "## Learning Objectives\n",
        "* <a href=\"#p1\">Part 1</a>: Describe the major hyperparemeters to tune\n",
        "* <a href=\"#p2\">Part 2</a>: Implement an experiment tracking framework\n",
        "* <a href=\"#p3\">Part 3</a>: Search the hyperparameter space using RandomSearch (Optional)"
      ]
    },
    {
      "cell_type": "code",
      "metadata": {
        "id": "N39NgMlPyyt0",
        "colab_type": "code",
        "colab": {}
      },
      "source": [
        "wandb_group = \"bjanota\"\n",
        "wandb_project = \"dspt4_inclass\""
      ],
      "execution_count": 0,
      "outputs": []
    },
    {
      "cell_type": "code",
      "metadata": {
        "id": "Ry-c9m93z2so",
        "colab_type": "code",
        "colab": {
          "base_uri": "https://localhost:8080/",
          "height": 1000
        },
        "outputId": "05bb8f3a-e183-44be-b633-962d2be9a075"
      },
      "source": [
        "!pip install wandb"
      ],
      "execution_count": 1,
      "outputs": [
        {
          "output_type": "stream",
          "text": [
            "Collecting wandb\n",
            "\u001b[?25l  Downloading https://files.pythonhosted.org/packages/d1/c7/8bf2c62c3f133f45e135a8a116e4e0f162043248e3db54de30996eaf1a8a/wandb-0.8.36-py2.py3-none-any.whl (1.4MB)\n",
            "\u001b[K     |████████████████████████████████| 1.4MB 8.6MB/s \n",
            "\u001b[?25hRequirement already satisfied: six>=1.10.0 in /usr/local/lib/python3.6/dist-packages (from wandb) (1.12.0)\n",
            "Requirement already satisfied: requests>=2.0.0 in /usr/local/lib/python3.6/dist-packages (from wandb) (2.23.0)\n",
            "Collecting configparser>=3.8.1\n",
            "  Downloading https://files.pythonhosted.org/packages/4b/6b/01baa293090240cf0562cc5eccb69c6f5006282127f2b846fad011305c79/configparser-5.0.0-py3-none-any.whl\n",
            "Collecting gql==0.2.0\n",
            "  Downloading https://files.pythonhosted.org/packages/c4/6f/cf9a3056045518f06184e804bae89390eb706168349daa9dff8ac609962a/gql-0.2.0.tar.gz\n",
            "Collecting subprocess32>=3.5.3\n",
            "\u001b[?25l  Downloading https://files.pythonhosted.org/packages/32/c8/564be4d12629b912ea431f1a50eb8b3b9d00f1a0b1ceff17f266be190007/subprocess32-3.5.4.tar.gz (97kB)\n",
            "\u001b[K     |████████████████████████████████| 102kB 10.3MB/s \n",
            "\u001b[?25hRequirement already satisfied: Click>=7.0 in /usr/local/lib/python3.6/dist-packages (from wandb) (7.1.2)\n",
            "Collecting docker-pycreds>=0.4.0\n",
            "  Downloading https://files.pythonhosted.org/packages/f5/e8/f6bd1eee09314e7e6dee49cbe2c5e22314ccdb38db16c9fc72d2fa80d054/docker_pycreds-0.4.0-py2.py3-none-any.whl\n",
            "Requirement already satisfied: nvidia-ml-py3>=7.352.0 in /usr/local/lib/python3.6/dist-packages (from wandb) (7.352.0)\n",
            "Collecting shortuuid>=0.5.0\n",
            "  Downloading https://files.pythonhosted.org/packages/25/a6/2ecc1daa6a304e7f1b216f0896b26156b78e7c38e1211e9b798b4716c53d/shortuuid-1.0.1-py3-none-any.whl\n",
            "Collecting GitPython>=1.0.0\n",
            "\u001b[?25l  Downloading https://files.pythonhosted.org/packages/44/33/917e6fde1cad13daa7053f39b7c8af3be287314f75f1b1ea8d3fe37a8571/GitPython-3.1.2-py3-none-any.whl (451kB)\n",
            "\u001b[K     |████████████████████████████████| 460kB 42.7MB/s \n",
            "\u001b[?25hCollecting watchdog>=0.8.3\n",
            "\u001b[?25l  Downloading https://files.pythonhosted.org/packages/73/c3/ed6d992006837e011baca89476a4bbffb0a91602432f73bd4473816c76e2/watchdog-0.10.2.tar.gz (95kB)\n",
            "\u001b[K     |████████████████████████████████| 102kB 12.7MB/s \n",
            "\u001b[?25hRequirement already satisfied: PyYAML>=3.10 in /usr/local/lib/python3.6/dist-packages (from wandb) (3.13)\n",
            "Requirement already satisfied: psutil>=5.0.0 in /usr/local/lib/python3.6/dist-packages (from wandb) (5.4.8)\n",
            "Requirement already satisfied: python-dateutil>=2.6.1 in /usr/local/lib/python3.6/dist-packages (from wandb) (2.8.1)\n",
            "Collecting sentry-sdk>=0.4.0\n",
            "\u001b[?25l  Downloading https://files.pythonhosted.org/packages/1b/95/9a20eebcedab2c1c63fad59fe19a0469edfc2a25b8576497e8084629c2ff/sentry_sdk-0.14.4-py2.py3-none-any.whl (104kB)\n",
            "\u001b[K     |████████████████████████████████| 112kB 53.1MB/s \n",
            "\u001b[?25hRequirement already satisfied: chardet<4,>=3.0.2 in /usr/local/lib/python3.6/dist-packages (from requests>=2.0.0->wandb) (3.0.4)\n",
            "Requirement already satisfied: urllib3!=1.25.0,!=1.25.1,<1.26,>=1.21.1 in /usr/local/lib/python3.6/dist-packages (from requests>=2.0.0->wandb) (1.24.3)\n",
            "Requirement already satisfied: certifi>=2017.4.17 in /usr/local/lib/python3.6/dist-packages (from requests>=2.0.0->wandb) (2020.4.5.1)\n",
            "Requirement already satisfied: idna<3,>=2.5 in /usr/local/lib/python3.6/dist-packages (from requests>=2.0.0->wandb) (2.9)\n",
            "Collecting graphql-core<2,>=0.5.0\n",
            "\u001b[?25l  Downloading https://files.pythonhosted.org/packages/b0/89/00ad5e07524d8c523b14d70c685e0299a8b0de6d0727e368c41b89b7ed0b/graphql-core-1.1.tar.gz (70kB)\n",
            "\u001b[K     |████████████████████████████████| 71kB 9.5MB/s \n",
            "\u001b[?25hRequirement already satisfied: promise<3,>=2.0 in /usr/local/lib/python3.6/dist-packages (from gql==0.2.0->wandb) (2.3)\n",
            "Collecting gitdb<5,>=4.0.1\n",
            "\u001b[?25l  Downloading https://files.pythonhosted.org/packages/48/11/d1800bca0a3bae820b84b7d813ad1eff15a48a64caea9c823fc8c1b119e8/gitdb-4.0.5-py3-none-any.whl (63kB)\n",
            "\u001b[K     |████████████████████████████████| 71kB 10.5MB/s \n",
            "\u001b[?25hCollecting pathtools>=0.1.1\n",
            "  Downloading https://files.pythonhosted.org/packages/e7/7f/470d6fcdf23f9f3518f6b0b76be9df16dcc8630ad409947f8be2eb0ed13a/pathtools-0.1.2.tar.gz\n",
            "Collecting smmap<4,>=3.0.1\n",
            "  Downloading https://files.pythonhosted.org/packages/b0/9a/4d409a6234eb940e6a78dfdfc66156e7522262f5f2fecca07dc55915952d/smmap-3.0.4-py2.py3-none-any.whl\n",
            "Building wheels for collected packages: gql, subprocess32, watchdog, graphql-core, pathtools\n",
            "  Building wheel for gql (setup.py) ... \u001b[?25l\u001b[?25hdone\n",
            "  Created wheel for gql: filename=gql-0.2.0-cp36-none-any.whl size=7630 sha256=d834411581bb80e7c26835c7c53fc1317a29fb57099dadf001f51fdb1db61006\n",
            "  Stored in directory: /root/.cache/pip/wheels/ce/0e/7b/58a8a5268655b3ad74feef5aa97946f0addafb3cbb6bd2da23\n",
            "  Building wheel for subprocess32 (setup.py) ... \u001b[?25l\u001b[?25hdone\n",
            "  Created wheel for subprocess32: filename=subprocess32-3.5.4-cp36-none-any.whl size=6489 sha256=3c7537ea10af653a55e34f14962e81176295315b49f76a2a5f32a2feecfb666d\n",
            "  Stored in directory: /root/.cache/pip/wheels/68/39/1a/5e402bdfdf004af1786c8b853fd92f8c4a04f22aad179654d1\n",
            "  Building wheel for watchdog (setup.py) ... \u001b[?25l\u001b[?25hdone\n",
            "  Created wheel for watchdog: filename=watchdog-0.10.2-cp36-none-any.whl size=73605 sha256=fa2786486b3594485a0955b5b131bd599c0fad1a27c2921ffec3672b8aff8102\n",
            "  Stored in directory: /root/.cache/pip/wheels/bc/ed/6c/028dea90d31b359cd2a7c8b0da4db80e41d24a59614154072e\n",
            "  Building wheel for graphql-core (setup.py) ... \u001b[?25l\u001b[?25hdone\n",
            "  Created wheel for graphql-core: filename=graphql_core-1.1-cp36-none-any.whl size=104650 sha256=6b2b68c83b64b59f662f4d087fb1fc31e68ed90ac42e3b13479a3c719f79e1a4\n",
            "  Stored in directory: /root/.cache/pip/wheels/45/99/d7/c424029bb0fe910c63b68dbf2aa20d3283d023042521bcd7d5\n",
            "  Building wheel for pathtools (setup.py) ... \u001b[?25l\u001b[?25hdone\n",
            "  Created wheel for pathtools: filename=pathtools-0.1.2-cp36-none-any.whl size=8784 sha256=6d55d708874c5b8983a93ae06b877975dd4c802d7f223959da92323add946a92\n",
            "  Stored in directory: /root/.cache/pip/wheels/0b/04/79/c3b0c3a0266a3cb4376da31e5bfe8bba0c489246968a68e843\n",
            "Successfully built gql subprocess32 watchdog graphql-core pathtools\n",
            "Installing collected packages: configparser, graphql-core, gql, subprocess32, docker-pycreds, shortuuid, smmap, gitdb, GitPython, pathtools, watchdog, sentry-sdk, wandb\n",
            "Successfully installed GitPython-3.1.2 configparser-5.0.0 docker-pycreds-0.4.0 gitdb-4.0.5 gql-0.2.0 graphql-core-1.1 pathtools-0.1.2 sentry-sdk-0.14.4 shortuuid-1.0.1 smmap-3.0.4 subprocess32-3.5.4 wandb-0.8.36 watchdog-0.10.2\n"
          ],
          "name": "stdout"
        }
      ]
    },
    {
      "cell_type": "code",
      "metadata": {
        "id": "JVJNai9fzz36",
        "colab_type": "code",
        "colab": {
          "base_uri": "https://localhost:8080/",
          "height": 51
        },
        "outputId": "4efbe547-f700-4a27-e85e-42a447c9e70f"
      },
      "source": [
        "!wandb login f84ce165a164e5ad0f747f7c9ede7441314d23f9"
      ],
      "execution_count": 2,
      "outputs": [
        {
          "output_type": "stream",
          "text": [
            "\u001b[34m\u001b[1mwandb\u001b[0m: Appending key for api.wandb.ai to your netrc file: /root/.netrc\n",
            "\u001b[32mSuccessfully logged in to Weights & Biases!\u001b[0m\n"
          ],
          "name": "stdout"
        }
      ]
    },
    {
      "cell_type": "markdown",
      "metadata": {
        "id": "SXbtQW5Oyyt3",
        "colab_type": "text"
      },
      "source": [
        "# Hyperparameter Options (Learn)\n",
        "<a id=\"p1\"></a>"
      ]
    },
    {
      "cell_type": "markdown",
      "metadata": {
        "id": "HyGF_2Tsyyt4",
        "colab_type": "text"
      },
      "source": [
        "## Overview\n",
        "\n",
        "Hyperparameter tuning is much more important with neural networks than it has been with any other models that we have considered up to this point. Other supervised learning models might have a couple of parameters, but neural networks can have dozens. These can substantially affect the accuracy of our models and although it can be a time consuming process is a necessary step when working with neural networks.\n",
        "​\n",
        "Hyperparameter tuning comes with a challenge. How can we compare models specified with different hyperparameters if our model's final error metric can vary somewhat erratically? How do we avoid just getting unlucky and selecting the wrong hyperparameter? This is a problem that to a certain degree we just have to live with as we test and test again. However, we can minimize it somewhat by pairing our experiments with Cross Validation to reduce the variance of our final accuracy values."
      ]
    },
    {
      "cell_type": "markdown",
      "metadata": {
        "colab_type": "text",
        "id": "0s0o2pqBs88q"
      },
      "source": [
        "### Load Boston Housing Data"
      ]
    },
    {
      "cell_type": "code",
      "metadata": {
        "id": "iDUd2Mq2yyt5",
        "colab_type": "code",
        "colab": {
          "base_uri": "https://localhost:8080/",
          "height": 51
        },
        "outputId": "44e18670-7db7-4804-8975-44796d3fe391"
      },
      "source": [
        "from tensorflow.keras.datasets import boston_housing\n",
        "\n",
        "(X_train, y_train), (X_test, y_test) = boston_housing.load_data()"
      ],
      "execution_count": 4,
      "outputs": [
        {
          "output_type": "stream",
          "text": [
            "Downloading data from https://storage.googleapis.com/tensorflow/tf-keras-datasets/boston_housing.npz\n",
            "57344/57026 [==============================] - 0s 0us/step\n"
          ],
          "name": "stdout"
        }
      ]
    },
    {
      "cell_type": "markdown",
      "metadata": {
        "colab_type": "text",
        "id": "Pm7zow5IvaTt"
      },
      "source": [
        "### Normalizing Input Data\n",
        "\n",
        "It's not 100% necessary to normalize/scale your input data before feeding it to a neural network, the network can learn the appropriate weights to deal with data of as long as it is numerically represented,  but it is recommended as it can help **make training faster** and **reduces the chances that gradient descent might get stuck in a local optimum**.\n",
        "\n",
        "<https://stackoverflow.com/questions/4674623/why-do-we-have-to-normalize-the-input-for-an-artificial-neural-network>"
      ]
    },
    {
      "cell_type": "code",
      "metadata": {
        "id": "TNkw8wzayyt7",
        "colab_type": "code",
        "colab": {
          "base_uri": "https://localhost:8080/",
          "height": 527
        },
        "outputId": "83c90e02-120b-4503-b6dd-0faf47902af1"
      },
      "source": [
        "from sklearn.preprocessing import StandardScaler\n",
        "\n",
        "scaler = StandardScaler()\n",
        "\n",
        "X_train = scaler.fit_transform(X_train)\n",
        "X_test = scaler.transform(X_test)\n",
        "print(X_train[:10])"
      ],
      "execution_count": 6,
      "outputs": [
        {
          "output_type": "stream",
          "text": [
            "[[-0.27224633 -0.48361547 -0.43576161 -0.25683275 -0.1652266  -0.1764426\n",
            "   0.81306188  0.1166983  -0.62624905 -0.59517003  1.14850044  0.44807713\n",
            "   0.8252202 ]\n",
            " [-0.40342651  2.99178419 -1.33391162 -0.25683275 -1.21518188  1.89434613\n",
            "  -1.91036058  1.24758524 -0.85646254 -0.34843254 -1.71818909  0.43190599\n",
            "  -1.32920239]\n",
            " [ 0.1249402  -0.48361547  1.0283258  -0.25683275  0.62864202 -1.82968811\n",
            "   1.11048828 -1.18743907  1.67588577  1.5652875   0.78447637  0.22061726\n",
            "  -1.30850006]\n",
            " [-0.40149354 -0.48361547 -0.86940196 -0.25683275 -0.3615597  -0.3245576\n",
            "  -1.23667187  1.10717989 -0.51114231 -1.094663    0.78447637  0.44807713\n",
            "  -0.65292624]\n",
            " [-0.0056343  -0.48361547  1.0283258  -0.25683275  1.32861221  0.15364225\n",
            "   0.69480801 -0.57857203  1.67588577  1.5652875   0.78447637  0.3898823\n",
            "   0.26349695]\n",
            " [-0.37502238 -0.48361547 -0.54747912 -0.25683275 -0.54935658 -0.78865126\n",
            "   0.18954148  0.48371503 -0.51114231 -0.71552978  0.51145832  0.38669063\n",
            "  -0.13812828]\n",
            " [ 0.58963463 -0.48361547  1.0283258  -0.25683275  1.21764133 -1.03127774\n",
            "   1.11048828 -1.06518235  1.67588577  1.5652875   0.78447637  0.44807713\n",
            "   1.49873604]\n",
            " [ 0.0381708  -0.48361547  1.24588095 -0.25683275  2.67733525 -1.12719983\n",
            "   1.11048828 -1.14833073 -0.51114231 -0.01744323 -1.71818909  0.44807713\n",
            "   1.88793986]\n",
            " [-0.17228416 -0.48361547  1.24588095 -0.25683275  2.67733525 -0.90150078\n",
            "   1.11048828 -1.09664657 -0.51114231 -0.01744323 -1.71818909 -1.97365769\n",
            "   0.53952803]\n",
            " [-0.22932104 -0.48361547  1.58544339 -0.25683275  0.56888847 -1.76056777\n",
            "   1.11048828 -1.13471925 -0.62624905  0.18716835  1.23950646  0.44807713\n",
            "   2.99068404]]\n"
          ],
          "name": "stdout"
        }
      ]
    },
    {
      "cell_type": "markdown",
      "metadata": {
        "colab_type": "text",
        "id": "l6hgCWbir90R"
      },
      "source": [
        "### Model Validation using an automatic verification Dataset\n",
        "\n",
        "Instead of doing seperate train test split class, Keras has a really nice feature that you can set the validation.data argument when fitting your model and Keras will take that portion of your test data and use it as a validation dataset. "
      ]
    },
    {
      "cell_type": "code",
      "metadata": {
        "id": "WSoMihMMD8Wj",
        "colab_type": "code",
        "colab": {
          "base_uri": "https://localhost:8080/",
          "height": 34
        },
        "outputId": "ee7d415c-3613-4de0-ce18-c24cf94b76e8"
      },
      "source": [
        "y_train.mean(), y_train.std()"
      ],
      "execution_count": 8,
      "outputs": [
        {
          "output_type": "execute_result",
          "data": {
            "text/plain": [
              "(22.395049504950492, 9.199035423364862)"
            ]
          },
          "metadata": {
            "tags": []
          },
          "execution_count": 8
        }
      ]
    },
    {
      "cell_type": "code",
      "metadata": {
        "colab_type": "code",
        "id": "GMXVfmzXp1Oo",
        "colab": {
          "base_uri": "https://localhost:8080/",
          "height": 1000
        },
        "outputId": "893c5579-a282-4a73-9e27-fbb47dd121ff"
      },
      "source": [
        "from tensorflow import keras\n",
        "from tensorflow.keras.models import Sequential\n",
        "from tensorflow.keras.layers import Dense\n",
        "\n",
        "# Important Hyperparameters\n",
        "inputs = X_train.shape[1]\n",
        "epochs = 75\n",
        "batch_size = 10\n",
        "\n",
        "# Create Model\n",
        "model = Sequential()\n",
        "model.add(Dense(64, activation='relu', input_shape=(inputs,)))\n",
        "model.add(Dense(64, activation='relu'))\n",
        "model.add(Dense(1))\n",
        "\n",
        "# Compile Model\n",
        "model.compile(optimizer='adam', loss='mse', metrics=['mae'])\n",
        "\n",
        "# Fit Model\n",
        "results = model.fit(X_train, y_train, \n",
        "            validation_data=(X_test,y_test), \n",
        "            epochs=epochs, \n",
        "            batch_size=batch_size)"
      ],
      "execution_count": 10,
      "outputs": [
        {
          "output_type": "stream",
          "text": [
            "Epoch 1/75\n",
            "41/41 [==============================] - 0s 4ms/step - loss: 524.7194 - mae: 20.9776 - val_loss: 441.6050 - val_mae: 19.0928\n",
            "Epoch 2/75\n",
            "41/41 [==============================] - 0s 3ms/step - loss: 283.1248 - mae: 14.4722 - val_loss: 140.3293 - val_mae: 10.0308\n",
            "Epoch 3/75\n",
            "41/41 [==============================] - 0s 3ms/step - loss: 85.2049 - mae: 7.0325 - val_loss: 56.8742 - val_mae: 6.0072\n",
            "Epoch 4/75\n",
            "41/41 [==============================] - 0s 3ms/step - loss: 40.5307 - mae: 4.6513 - val_loss: 35.5367 - val_mae: 4.7141\n",
            "Epoch 5/75\n",
            "41/41 [==============================] - 0s 3ms/step - loss: 26.8791 - mae: 3.7120 - val_loss: 28.2435 - val_mae: 4.1490\n",
            "Epoch 6/75\n",
            "41/41 [==============================] - 0s 3ms/step - loss: 22.1833 - mae: 3.3069 - val_loss: 24.9070 - val_mae: 3.7922\n",
            "Epoch 7/75\n",
            "41/41 [==============================] - 0s 3ms/step - loss: 19.3113 - mae: 3.0538 - val_loss: 23.7465 - val_mae: 3.6801\n",
            "Epoch 8/75\n",
            "41/41 [==============================] - 0s 3ms/step - loss: 17.3032 - mae: 2.9365 - val_loss: 22.9681 - val_mae: 3.5180\n",
            "Epoch 9/75\n",
            "41/41 [==============================] - 0s 3ms/step - loss: 15.7399 - mae: 2.7473 - val_loss: 21.9284 - val_mae: 3.3602\n",
            "Epoch 10/75\n",
            "41/41 [==============================] - 0s 3ms/step - loss: 14.4782 - mae: 2.6834 - val_loss: 22.5955 - val_mae: 3.3620\n",
            "Epoch 11/75\n",
            "41/41 [==============================] - 0s 3ms/step - loss: 13.5267 - mae: 2.6002 - val_loss: 23.2608 - val_mae: 3.3970\n",
            "Epoch 12/75\n",
            "41/41 [==============================] - 0s 3ms/step - loss: 12.8116 - mae: 2.5740 - val_loss: 21.8465 - val_mae: 3.2233\n",
            "Epoch 13/75\n",
            "41/41 [==============================] - 0s 3ms/step - loss: 12.3401 - mae: 2.5124 - val_loss: 22.7636 - val_mae: 3.2801\n",
            "Epoch 14/75\n",
            "41/41 [==============================] - 0s 3ms/step - loss: 11.7462 - mae: 2.4312 - val_loss: 21.9015 - val_mae: 3.1394\n",
            "Epoch 15/75\n",
            "41/41 [==============================] - 0s 3ms/step - loss: 11.2739 - mae: 2.4101 - val_loss: 21.9938 - val_mae: 3.1483\n",
            "Epoch 16/75\n",
            "41/41 [==============================] - 0s 3ms/step - loss: 10.9540 - mae: 2.3639 - val_loss: 22.5677 - val_mae: 3.1542\n",
            "Epoch 17/75\n",
            "41/41 [==============================] - 0s 3ms/step - loss: 10.8389 - mae: 2.3569 - val_loss: 22.7324 - val_mae: 3.1252\n",
            "Epoch 18/75\n",
            "41/41 [==============================] - 0s 3ms/step - loss: 10.3749 - mae: 2.3062 - val_loss: 22.7599 - val_mae: 3.1713\n",
            "Epoch 19/75\n",
            "41/41 [==============================] - 0s 3ms/step - loss: 10.2513 - mae: 2.2800 - val_loss: 23.7974 - val_mae: 3.1664\n",
            "Epoch 20/75\n",
            "41/41 [==============================] - 0s 3ms/step - loss: 10.2560 - mae: 2.3093 - val_loss: 25.8280 - val_mae: 3.3579\n",
            "Epoch 21/75\n",
            "41/41 [==============================] - 0s 3ms/step - loss: 9.9933 - mae: 2.2642 - val_loss: 24.9949 - val_mae: 3.2816\n",
            "Epoch 22/75\n",
            "41/41 [==============================] - 0s 3ms/step - loss: 9.6112 - mae: 2.2408 - val_loss: 22.3679 - val_mae: 3.0450\n",
            "Epoch 23/75\n",
            "41/41 [==============================] - 0s 3ms/step - loss: 9.2733 - mae: 2.1747 - val_loss: 21.8493 - val_mae: 3.0653\n",
            "Epoch 24/75\n",
            "41/41 [==============================] - 0s 3ms/step - loss: 9.4678 - mae: 2.2040 - val_loss: 23.0531 - val_mae: 3.0959\n",
            "Epoch 25/75\n",
            "41/41 [==============================] - 0s 3ms/step - loss: 8.7635 - mae: 2.1162 - val_loss: 21.2225 - val_mae: 2.9502\n",
            "Epoch 26/75\n",
            "41/41 [==============================] - 0s 3ms/step - loss: 8.9905 - mae: 2.1361 - val_loss: 23.1481 - val_mae: 3.0768\n",
            "Epoch 27/75\n",
            "41/41 [==============================] - 0s 3ms/step - loss: 8.7034 - mae: 2.1170 - val_loss: 22.0473 - val_mae: 2.9780\n",
            "Epoch 28/75\n",
            "41/41 [==============================] - 0s 3ms/step - loss: 8.7066 - mae: 2.1175 - val_loss: 22.0821 - val_mae: 2.9815\n",
            "Epoch 29/75\n",
            "41/41 [==============================] - 0s 3ms/step - loss: 8.5297 - mae: 2.0969 - val_loss: 23.0822 - val_mae: 3.0426\n",
            "Epoch 30/75\n",
            "41/41 [==============================] - 0s 3ms/step - loss: 8.3441 - mae: 2.0894 - val_loss: 20.8312 - val_mae: 2.9341\n",
            "Epoch 31/75\n",
            "41/41 [==============================] - 0s 3ms/step - loss: 8.5987 - mae: 2.1066 - val_loss: 21.9566 - val_mae: 3.0377\n",
            "Epoch 32/75\n",
            "41/41 [==============================] - 0s 3ms/step - loss: 8.5521 - mae: 2.0951 - val_loss: 23.9721 - val_mae: 3.1476\n",
            "Epoch 33/75\n",
            "41/41 [==============================] - 0s 3ms/step - loss: 8.0921 - mae: 2.0165 - val_loss: 23.0525 - val_mae: 3.0019\n",
            "Epoch 34/75\n",
            "41/41 [==============================] - 0s 3ms/step - loss: 8.0388 - mae: 2.0252 - val_loss: 21.7498 - val_mae: 2.9349\n",
            "Epoch 35/75\n",
            "41/41 [==============================] - 0s 3ms/step - loss: 7.9065 - mae: 2.0014 - val_loss: 23.1196 - val_mae: 3.1563\n",
            "Epoch 36/75\n",
            "41/41 [==============================] - 0s 3ms/step - loss: 7.8816 - mae: 2.0096 - val_loss: 21.2510 - val_mae: 2.9462\n",
            "Epoch 37/75\n",
            "41/41 [==============================] - 0s 3ms/step - loss: 7.8564 - mae: 2.0345 - val_loss: 23.4617 - val_mae: 2.9920\n",
            "Epoch 38/75\n",
            "41/41 [==============================] - 0s 3ms/step - loss: 7.4494 - mae: 1.9526 - val_loss: 20.6871 - val_mae: 2.8599\n",
            "Epoch 39/75\n",
            "41/41 [==============================] - 0s 3ms/step - loss: 7.6685 - mae: 1.9977 - val_loss: 20.7048 - val_mae: 2.8820\n",
            "Epoch 40/75\n",
            "41/41 [==============================] - 0s 3ms/step - loss: 7.6933 - mae: 1.9598 - val_loss: 20.9811 - val_mae: 2.9345\n",
            "Epoch 41/75\n",
            "41/41 [==============================] - 0s 3ms/step - loss: 7.5349 - mae: 1.9422 - val_loss: 20.3183 - val_mae: 2.9576\n",
            "Epoch 42/75\n",
            "41/41 [==============================] - 0s 3ms/step - loss: 7.0620 - mae: 1.8936 - val_loss: 20.1014 - val_mae: 2.7950\n",
            "Epoch 43/75\n",
            "41/41 [==============================] - 0s 3ms/step - loss: 7.2640 - mae: 1.9420 - val_loss: 20.8730 - val_mae: 2.8148\n",
            "Epoch 44/75\n",
            "41/41 [==============================] - 0s 3ms/step - loss: 7.2978 - mae: 1.9159 - val_loss: 22.4886 - val_mae: 2.9943\n",
            "Epoch 45/75\n",
            "41/41 [==============================] - 0s 3ms/step - loss: 7.0674 - mae: 1.8960 - val_loss: 20.2960 - val_mae: 2.7900\n",
            "Epoch 46/75\n",
            "41/41 [==============================] - 0s 3ms/step - loss: 6.8775 - mae: 1.8586 - val_loss: 20.8092 - val_mae: 2.8622\n",
            "Epoch 47/75\n",
            "41/41 [==============================] - 0s 3ms/step - loss: 6.8206 - mae: 1.8724 - val_loss: 19.9456 - val_mae: 2.8800\n",
            "Epoch 48/75\n",
            "41/41 [==============================] - 0s 3ms/step - loss: 6.7611 - mae: 1.8521 - val_loss: 19.6118 - val_mae: 2.7730\n",
            "Epoch 49/75\n",
            "41/41 [==============================] - 0s 3ms/step - loss: 6.6336 - mae: 1.8225 - val_loss: 20.5301 - val_mae: 2.8621\n",
            "Epoch 50/75\n",
            "41/41 [==============================] - 0s 3ms/step - loss: 6.7720 - mae: 1.9113 - val_loss: 18.7093 - val_mae: 2.7904\n",
            "Epoch 51/75\n",
            "41/41 [==============================] - 0s 3ms/step - loss: 6.6173 - mae: 1.8329 - val_loss: 19.2227 - val_mae: 2.8191\n",
            "Epoch 52/75\n",
            "41/41 [==============================] - 0s 3ms/step - loss: 6.5740 - mae: 1.8122 - val_loss: 19.9957 - val_mae: 2.8802\n",
            "Epoch 53/75\n",
            "41/41 [==============================] - 0s 3ms/step - loss: 6.5067 - mae: 1.8081 - val_loss: 19.9165 - val_mae: 2.7739\n",
            "Epoch 54/75\n",
            "41/41 [==============================] - 0s 3ms/step - loss: 6.5421 - mae: 1.8418 - val_loss: 19.7122 - val_mae: 2.7460\n",
            "Epoch 55/75\n",
            "41/41 [==============================] - 0s 3ms/step - loss: 6.3989 - mae: 1.8120 - val_loss: 19.0358 - val_mae: 2.7761\n",
            "Epoch 56/75\n",
            "41/41 [==============================] - 0s 3ms/step - loss: 6.3440 - mae: 1.8297 - val_loss: 18.5692 - val_mae: 2.8142\n",
            "Epoch 57/75\n",
            "41/41 [==============================] - 0s 3ms/step - loss: 6.4024 - mae: 1.8014 - val_loss: 19.5470 - val_mae: 2.8318\n",
            "Epoch 58/75\n",
            "41/41 [==============================] - 0s 3ms/step - loss: 6.2896 - mae: 1.7825 - val_loss: 19.1100 - val_mae: 2.7467\n",
            "Epoch 59/75\n",
            "41/41 [==============================] - 0s 3ms/step - loss: 6.0683 - mae: 1.7402 - val_loss: 19.7520 - val_mae: 2.8108\n",
            "Epoch 60/75\n",
            "41/41 [==============================] - 0s 3ms/step - loss: 6.1089 - mae: 1.7474 - val_loss: 19.1377 - val_mae: 2.7301\n",
            "Epoch 61/75\n",
            "41/41 [==============================] - 0s 3ms/step - loss: 6.0114 - mae: 1.7543 - val_loss: 17.3481 - val_mae: 2.6525\n",
            "Epoch 62/75\n",
            "41/41 [==============================] - 0s 3ms/step - loss: 6.0836 - mae: 1.7783 - val_loss: 18.2449 - val_mae: 2.7235\n",
            "Epoch 63/75\n",
            "41/41 [==============================] - 0s 3ms/step - loss: 5.8304 - mae: 1.7323 - val_loss: 17.8345 - val_mae: 2.6920\n",
            "Epoch 64/75\n",
            "41/41 [==============================] - 0s 3ms/step - loss: 6.2295 - mae: 1.7580 - val_loss: 16.8067 - val_mae: 2.5902\n",
            "Epoch 65/75\n",
            "41/41 [==============================] - 0s 3ms/step - loss: 5.6766 - mae: 1.7321 - val_loss: 19.4439 - val_mae: 2.8257\n",
            "Epoch 66/75\n",
            "41/41 [==============================] - 0s 3ms/step - loss: 5.7034 - mae: 1.7141 - val_loss: 17.3956 - val_mae: 2.6514\n",
            "Epoch 67/75\n",
            "41/41 [==============================] - 0s 4ms/step - loss: 5.6829 - mae: 1.7389 - val_loss: 18.4245 - val_mae: 2.8246\n",
            "Epoch 68/75\n",
            "41/41 [==============================] - 0s 3ms/step - loss: 5.9093 - mae: 1.7961 - val_loss: 18.1762 - val_mae: 2.7643\n",
            "Epoch 69/75\n",
            "41/41 [==============================] - 0s 3ms/step - loss: 5.5373 - mae: 1.6926 - val_loss: 17.3190 - val_mae: 2.6737\n",
            "Epoch 70/75\n",
            "41/41 [==============================] - 0s 3ms/step - loss: 5.6924 - mae: 1.7338 - val_loss: 16.6198 - val_mae: 2.6232\n",
            "Epoch 71/75\n",
            "41/41 [==============================] - 0s 3ms/step - loss: 5.4208 - mae: 1.6579 - val_loss: 16.5512 - val_mae: 2.5769\n",
            "Epoch 72/75\n",
            "41/41 [==============================] - 0s 3ms/step - loss: 5.3401 - mae: 1.6517 - val_loss: 16.6241 - val_mae: 2.6145\n",
            "Epoch 73/75\n",
            "41/41 [==============================] - 0s 3ms/step - loss: 5.3222 - mae: 1.6841 - val_loss: 17.4952 - val_mae: 2.6720\n",
            "Epoch 74/75\n",
            "41/41 [==============================] - 0s 3ms/step - loss: 5.2031 - mae: 1.6546 - val_loss: 19.2843 - val_mae: 2.8250\n",
            "Epoch 75/75\n",
            "41/41 [==============================] - 0s 3ms/step - loss: 5.3070 - mae: 1.6760 - val_loss: 17.2505 - val_mae: 2.6219\n"
          ],
          "name": "stdout"
        }
      ]
    },
    {
      "cell_type": "code",
      "metadata": {
        "id": "kqT533cD0Cq9",
        "colab_type": "code",
        "colab": {
          "base_uri": "https://localhost:8080/",
          "height": 34
        },
        "outputId": "1d6db8ec-60c5-45d1-edc8-70bf2654c493"
      },
      "source": [
        "results.history.keys()"
      ],
      "execution_count": 11,
      "outputs": [
        {
          "output_type": "execute_result",
          "data": {
            "text/plain": [
              "dict_keys(['loss', 'mae', 'val_loss', 'val_mae'])"
            ]
          },
          "metadata": {
            "tags": []
          },
          "execution_count": 11
        }
      ]
    },
    {
      "cell_type": "code",
      "metadata": {
        "id": "oyZO6ILy0Bku",
        "colab_type": "code",
        "colab": {
          "base_uri": "https://localhost:8080/",
          "height": 444
        },
        "outputId": "abbdce1c-43e1-4a67-f8c5-c0fccbce8a45"
      },
      "source": [
        "import matplotlib.pyplot as plt\n",
        "import seaborn as sns\n",
        "sns.set()\n",
        "\n",
        "plt.figure(figsize=(8,6))\n",
        "plt.plot(results.history['loss'], label='Training')\n",
        "plt.plot(results.history['val_loss'], label='Validation')\n",
        "plt.title('Learning Curve for Boston Housing Dataset')\n",
        "plt.xlabel('Epochs')\n",
        "plt.ylabel('Loss')\n",
        "plt.legend();"
      ],
      "execution_count": 12,
      "outputs": [
        {
          "output_type": "stream",
          "text": [
            "/usr/local/lib/python3.6/dist-packages/statsmodels/tools/_testing.py:19: FutureWarning: pandas.util.testing is deprecated. Use the functions in the public API at pandas.testing instead.\n",
            "  import pandas.util.testing as tm\n"
          ],
          "name": "stderr"
        },
        {
          "output_type": "display_data",
          "data": {
            "image/png": "[encoded data removed]",
            "text/plain": [
              "<Figure size 576x432 with 1 Axes>"
            ]
          },
          "metadata": {
            "tags": []
          }
        }
      ]
    },
    {
      "cell_type": "markdown",
      "metadata": {
        "colab_type": "text",
        "id": "sYJ8t_ezHP4W"
      },
      "source": [
        "### Hyperparameter Tuning Approaches:\n",
        "\n",
        "#### 1) Babysitting AKA \"Grad Student Descent\".\n",
        "\n",
        "If you fiddled with any hyperparameters yesterday, this is basically what you did. This approach is 100% manual and is pretty common among researchers where finding that 1 exact specification that jumps your model to a level of accuracy never seen before is the difference between publishing and not publishing a paper. Of course the professors don't do this themselves, that's grunt work. This is also known as the fiddle with hyperparameters until you run out of time method.\n",
        "\n",
        "#### 2) Grid Search\n",
        "\n",
        "Grid Search is the Grad Student galaxy brain realization of: why don't I just specify all the experiments I want to run and let the computer try every possible combination of them while I go and grab lunch. This has a specific downside in that if I specify 5 hyperparameters with 5 options each then I've just created 5^5 combinations of hyperparameters to check. Which means that I have to train 3125 different versions of my model Then if I use 5-fold Cross Validation on that then my model has to run 15,525 times. This is the brute-force method of hyperparameter tuning, but it can be very profitable if done wisely. \n",
        "\n",
        "When using Grid Search here's what I suggest: don't use it to test combinations of different hyperparameters, only use it to test different specifications of **a single** hyperparameter. It's rare that combinations between different hyperparameters lead to big performance gains. You'll get 90-95% of the way there if you just Grid Search one parameter and take the best result, then retain that best result while you test another, and then retain the best specification from that while you train another. This at least makes the situation much more manageable and leads to pretty good results. \n",
        "\n",
        "#### 3) Random Search\n",
        "\n",
        "Do Grid Search for a couple of hours and you'll say to yourself - \"There's got to be a better way.\" Enter Random Search. For Random search you specify a hyperparameter space and it picks specifications from that randomly, tries them out, gives you the best results and says - That's going to have to be good enough, go home and spend time with your family. \n",
        "\n",
        "Grid Search treats every parameter as if it was equally important, but this just isn't the case, some are known to move the needle a lot more than others (we'll talk about that in a minute). Random Search allows searching to be specified along the most important parameter and experiments less along the dimensions of less important hyperparameters. The downside of Random search is that it won't find the absolute best hyperparameters, but it is much less costly to perform than Grid Search. \n",
        "\n",
        "#### 4) Bayesian Methods\n",
        "\n",
        "One thing that can make more manual methods like babysitting and gridsearch effective is that as the experimenter sees results he can then make updates to his future searches taking into account the results of past specifications. If only we could hyperparameter tune our hyperparameter tuning. Well, we kind of can. Enter Bayesian Optimization. Neural Networks are like an optimization problem within an optimization problem, and Bayesian Optimization is a search strategy that tries to take into account the results of past searches in order to improve future ones. Check out the new library `keras-tuner` for easy implementations of Bayesian methods. \n"
      ]
    },
    {
      "cell_type": "markdown",
      "metadata": {
        "colab_type": "text",
        "id": "HfQ7D043OMMn"
      },
      "source": [
        "## What Hyperparameters are there to test?\n",
        "\n",
        "- batch_size\n",
        "- training epochs\n",
        "- optimization algorithms\n",
        "- learning rate\n",
        "- momentum\n",
        "- activation functions\n",
        "- dropout regularization\n",
        "- number of neurons in the hidden layer\n",
        "\n",
        "There are more, but these are the most important."
      ]
    },
    {
      "cell_type": "markdown",
      "metadata": {
        "id": "TkqRNmhwyyuC",
        "colab_type": "text"
      },
      "source": [
        "## Follow Along"
      ]
    },
    {
      "cell_type": "markdown",
      "metadata": {
        "colab_type": "text",
        "id": "Mri5-kXzVKAa"
      },
      "source": [
        "## Batch Size\n",
        "\n",
        "Batch size determines how many observations the model is shown before it calculates loss/error and updates the model weights via gradient descent. You're looking for a sweet spot here where you're showing it enough observations that you have enough information to updates the weights, but not such a large batch size that you don't get a lot of weight update iterations performed in a given epoch. Feed-forward Neural Networks aren't as sensitive to bach_size as other networks, but it is still an important hyperparameter to tune. Smaller batch sizes will also take longer to train. \n",
        "\n",
        "Traditionally, batch size is set in powers of 2 starting at 32 up to 512. Keras defaults to a batch size of 32 if you do not specify it. Yann LeCun famously Twitted: \n",
        "\n",
        "> Training with large minibatches is bad for your health.\n",
        "More importantly, it's bad for your test error.\n",
        "Friends dont let friends use minibatches larger than 32.\n",
        "\n",
        "Check out this paper for more reference on his tweet. https://arxiv.org/abs/1804.07612. \n",
        "\n",
        "Check out this SO question on why batch size is typically set in powers of two: https://datascience.stackexchange.com/questions/20179/what-is-the-advantage-of-keeping-batch-size-a-power-of-2\n",
        "\n"
      ]
    },
    {
      "cell_type": "code",
      "metadata": {
        "colab_type": "code",
        "id": "2smXfriNAGn7",
        "colab": {
          "base_uri": "https://localhost:8080/",
          "height": 204
        },
        "outputId": "c1d6a446-12aa-47b9-f40f-841e01d62478"
      },
      "source": [
        "import numpy\n",
        "import pandas as pd\n",
        "from sklearn.model_selection import GridSearchCV\n",
        "from tensorflow.keras.models import Sequential\n",
        "from tensorflow.keras.layers import Dense\n",
        "from tensorflow.keras.wrappers.scikit_learn import KerasRegressor\n",
        "\n",
        "# fix random seed for reproducibility\n",
        "seed = 7\n",
        "numpy.random.seed(seed)\n",
        "\n",
        "# Function to create model, required for KerasRegressor\n",
        "def create_model():\n",
        "    # Create Model\n",
        "    model = Sequential()\n",
        "    model.add(Dense(64, activation='relu', input_shape=(inputs,)))\n",
        "    model.add(Dense(64, activation='relu'))\n",
        "    model.add(Dense(1))\n",
        "    \n",
        "    # Compile Model\n",
        "    model.compile(optimizer='adam', loss='mse', metrics=['mae'])\n",
        "    return model\n",
        "\n",
        "# Create model\n",
        "model = KerasRegressor(build_fn=create_model, verbose=0)\n",
        "\n",
        "# define the grid search parameters\n",
        "param_grid = {'batch_size': [8, 16, 32, 64, 128],\n",
        "              'epochs': [20]}\n",
        "\n",
        "# Create Grid Search\n",
        "grid = GridSearchCV(estimator=model, param_grid=param_grid, n_jobs=1)\n",
        "grid_result = grid.fit(X_train, y_train)\n",
        "\n",
        "# Report Results\n",
        "print(f\"Best: {-grid_result.best_score_} using {grid_result.best_params_}\")\n",
        "means = -grid_result.cv_results_['mean_test_score']\n",
        "stds = grid_result.cv_results_['std_test_score']\n",
        "params = grid_result.cv_results_['params']\n",
        "for mean, stdev, param in zip(means, stds, params):\n",
        "    print(f\"Means: {mean}, Stdev: {stdev} with: {param}\") "
      ],
      "execution_count": 15,
      "outputs": [
        {
          "output_type": "stream",
          "text": [
            "Best: 13.00827465057373 using {'batch_size': 8, 'epochs': 40}\n",
            "Means: 13.172399711608886, Stdev: 4.562186688669628 with: {'batch_size': 8, 'epochs': 20}\n",
            "Means: 13.00827465057373, Stdev: 4.185570007410171 with: {'batch_size': 8, 'epochs': 40}\n",
            "Means: 16.100107192993164, Stdev: 5.206571300421603 with: {'batch_size': 16, 'epochs': 20}\n",
            "Means: 13.374347305297851, Stdev: 4.30766324711505 with: {'batch_size': 16, 'epochs': 40}\n",
            "Means: 21.566429328918456, Stdev: 5.089995150704878 with: {'batch_size': 32, 'epochs': 20}\n",
            "Means: 15.164078903198241, Stdev: 5.347486823400501 with: {'batch_size': 32, 'epochs': 40}\n",
            "Means: 40.5250904083252, Stdev: 10.334037487330303 with: {'batch_size': 64, 'epochs': 20}\n",
            "Means: 21.091273880004884, Stdev: 4.9153329093590115 with: {'batch_size': 64, 'epochs': 40}\n",
            "Means: 194.9142059326172, Stdev: 27.602760642857277 with: {'batch_size': 128, 'epochs': 20}\n",
            "Means: 31.664027404785156, Stdev: 5.795196314350064 with: {'batch_size': 128, 'epochs': 40}\n"
          ],
          "name": "stdout"
        }
      ]
    },
    {
      "cell_type": "markdown",
      "metadata": {
        "colab_type": "text",
        "id": "EKcuY6OiaLfz"
      },
      "source": [
        "## Optimizer\n",
        "\n",
        "Remember that there's a different optimizers [optimizers](https://keras.io/optimizers/). At some point, take some time to read up on them a little bit. \"adam\" usually gives the best results. The thing to know about choosing an optimizer is that different optimizers have different hyperparameters like learning rate, momentum, etc. So based on the optimizer you choose you might also have to tune the learning rate and momentum of those optimizers after that. "
      ]
    },
    {
      "cell_type": "markdown",
      "metadata": {
        "colab_type": "text",
        "id": "DG3wq5iOaLig"
      },
      "source": [
        "## Learning Rate\n",
        "\n",
        "Remember that the Learning Rate is a hyperparameter that is specific to your gradient-descent based optimizer selection. A learning rate that is too high will cause divergent behavior, but a Learning Rate that is too low will fail to converge, again, you're looking for the sweet spot. I would start out tuning learning rates by orders of magnitude: [.001, .01, .1, .2, .3, .5] etc. I wouldn't go above .5, but you can try it and see what the behavior is like. \n",
        "\n",
        "Once you have narrowed it down, make the window even smaller and try it again. If after running the above specification your model reports that .1 is the best optimizer, then you should probably try things like [.05, .08, .1, .12, .15] to try and narrow it down. \n",
        "\n",
        "It can also be good to tune the number of epochs in combination with the learning rate since the number of iterations that you allow the learning rate to reach the minimum can determine if you have let it run long enough to converge to the minimum. "
      ]
    },
    {
      "cell_type": "code",
      "metadata": {
        "id": "pc1i5G33yyuG",
        "colab_type": "code",
        "colab": {
          "base_uri": "https://localhost:8080/",
          "height": 238
        },
        "outputId": "8ff903a1-eb8d-453f-c145-dc691b05911a"
      },
      "source": [
        "\n",
        "from tensorflow.keras.optimizers import Adam\n",
        "\n",
        "# Function to create model, required for KerasRegressor\n",
        "def create_model(lr=0.001):\n",
        "\n",
        "    # Define Adam optimizer\n",
        "    opt = Adam(learning_rate=lr)\n",
        "\n",
        "    # Create Model\n",
        "    model = Sequential()\n",
        "    model.add(Dense(64, activation='relu', input_shape=(inputs,)))\n",
        "    model.add(Dense(64, activation='relu'))\n",
        "    model.add(Dense(1))\n",
        "    \n",
        "    # Compile Model\n",
        "    model.compile(optimizer=opt, loss='mse', metrics=['mae'])\n",
        "    return model\n",
        "\n",
        "# Create model\n",
        "model = KerasRegressor(build_fn=create_model, verbose=0)\n",
        "\n",
        "# define the grid search parameters\n",
        "param_grid = {'lr': [0.0001, 0.001, 0.01, 0.05, 0.1, 0.25],\n",
        "              'batch_size': [8, 16],\n",
        "              'epochs': [20]}\n",
        "\n",
        "# Create Grid Search\n",
        "grid = GridSearchCV(estimator=model, param_grid=param_grid, n_jobs=1)\n",
        "grid_result = grid.fit(X_train, y_train)\n",
        "\n",
        "# Report Results\n",
        "print(f\"Best: {-grid_result.best_score_} using {grid_result.best_params_}\")\n",
        "means = -grid_result.cv_results_['mean_test_score']\n",
        "stds = grid_result.cv_results_['std_test_score']\n",
        "params = grid_result.cv_results_['params']\n",
        "for mean, stdev, param in zip(means, stds, params):\n",
        "    print(f\"Means: {mean}, Stdev: {stdev} with: {param}\") "
      ],
      "execution_count": 18,
      "outputs": [
        {
          "output_type": "stream",
          "text": [
            "Best: 11.792074871063232 using {'batch_size': 16, 'epochs': 20, 'lr': 0.01}\n",
            "Means: 90.71679306030273, Stdev: 25.981876638409048 with: {'batch_size': 8, 'epochs': 20, 'lr': 0.0001}\n",
            "Means: 14.84203872680664, Stdev: 4.823083105026012 with: {'batch_size': 8, 'epochs': 20, 'lr': 0.001}\n",
            "Means: 13.614326763153077, Stdev: 5.8670254192677165 with: {'batch_size': 8, 'epochs': 20, 'lr': 0.01}\n",
            "Means: 18.394640922546387, Stdev: 8.233049555324206 with: {'batch_size': 8, 'epochs': 20, 'lr': 0.05}\n",
            "Means: 12.858040237426758, Stdev: 4.115134891257477 with: {'batch_size': 8, 'epochs': 20, 'lr': 0.1}\n",
            "Means: 38.839421081542966, Stdev: 36.46290795047357 with: {'batch_size': 8, 'epochs': 20, 'lr': 0.25}\n",
            "Means: 330.6657470703125, Stdev: 41.8088493531925 with: {'batch_size': 16, 'epochs': 20, 'lr': 0.0001}\n",
            "Means: 15.947305870056152, Stdev: 5.171867627700899 with: {'batch_size': 16, 'epochs': 20, 'lr': 0.001}\n",
            "Means: 11.792074871063232, Stdev: 5.248686835493086 with: {'batch_size': 16, 'epochs': 20, 'lr': 0.01}\n",
            "Means: 15.046490669250488, Stdev: 3.5854108346728957 with: {'batch_size': 16, 'epochs': 20, 'lr': 0.05}\n",
            "Means: 15.567495727539063, Stdev: 4.377541979395481 with: {'batch_size': 16, 'epochs': 20, 'lr': 0.1}\n",
            "Means: 67.85104827880859, Stdev: 36.03286232596351 with: {'batch_size': 16, 'epochs': 20, 'lr': 0.25}\n"
          ],
          "name": "stdout"
        }
      ]
    },
    {
      "cell_type": "markdown",
      "metadata": {
        "colab_type": "text",
        "id": "gNTBUWd1aLlA"
      },
      "source": [
        "## Momentum\n",
        "\n",
        "Momentum is a hyperparameter that is more commonly associated with Stochastic Gradient Descent. SGD is a common optimizer because it's what people understand and know, but I doubt it will get you the best results, you can try hyperparameter tuning its attributes and see if you can beat the performance from adam. Momentum is a property that decides the willingness of an optimizer to overshoot the minimum. Imagine a ball rolling down one side of a bowl and then up the opposite side a little bit before settling back to the bottom. The purpose of momentum is to try and escale local minima."
      ]
    },
    {
      "cell_type": "markdown",
      "metadata": {
        "colab_type": "text",
        "id": "xnEG-bCJaLnZ"
      },
      "source": [
        "## Activation Functions\n",
        "\n",
        "We've talked about this a little bit, typically you'l want to use ReLU for hidden layers and either Sigmoid, or Softmax for output layers of binary and multi-class classification implementations respectively, but try other activation functions and see if you can get any better results with sigmoid or tanh or something. There are a lot of activation functions that we haven't really talked about. Maybe you'll get good results with them. Maybe you won't. :) <https://keras.io/activations/>"
      ]
    },
    {
      "cell_type": "markdown",
      "metadata": {
        "colab_type": "text",
        "id": "oul9sPq-dU-h"
      },
      "source": [
        "## Network Weight Initialization\n",
        "\n",
        "You saw how big of an effect the way that we initialize our network's weights can have on our results. There are **a lot** of what are called initialization modes. I don't understand all of them, but they can have a big affect on your model's initial accuracy. Your model will get further with less epochs if you initialize it with weights that are well suited to the problem you're trying to solve.\n",
        "\n",
        "`init_mode = ['uniform', 'lecun_uniform', 'normal', 'zero', 'glorot_normal', 'glorot_uniform', 'he_normal', 'he_uniform']`"
      ]
    },
    {
      "cell_type": "markdown",
      "metadata": {
        "colab_type": "text",
        "id": "bqtEuxeQaLqE"
      },
      "source": [
        "## Dropout Regularization and the Weight Constraint\n",
        "\n",
        "the Dropout Regularization value is a percentage of neurons that you want to be randomly deactivated during training. The weight constraint is a second regularization parameter that works in tandem with dropout regularization. You should tune these two values at the same time. \n",
        "\n",
        "Using dropout on visible vs hidden layers might have a different effect. Using dropout on hidden layers might not have any effect while using dropout on hidden layers might have a substantial effect. You don't necessarily need to turn use dropout unless you see that your model has overfitting and generalizability problems."
      ]
    },
    {
      "cell_type": "markdown",
      "metadata": {
        "colab_type": "text",
        "id": "P2c5Cv6oaLtO"
      },
      "source": [
        "## Neurons in Hidden Layer \n",
        "\n",
        "Remember that when we only had a single perceptron our model was only able to fit to linearly separable data, but as we have added layers and nodes to those layers our network has become a powerhouse of fitting nonlinearity in data. The larger the network and the more nodes generally the stronger the network's capacity to fit nonlinear patterns in data. The more nodes and layers the longer it will take to train a network, and higher the probability of overfitting. The larger your network gets the more you'll need dropout regularization or other regularization techniques to keep it in check. \n",
        "\n",
        "Typically depth (more layers) is more important than width (more nodes) for neural networks. This is part of why Deep Learning is so highly touted. Certain deep learning architectures have truly been huge breakthroughs for certain machine learning tasks. \n",
        "\n",
        "You might borrow ideas from other network architectures. For example if I was doing image recognition and I wasn't taking cues from state of the art architectures like resnet, alexnet, googlenet, etc. Then I'm probably going to have to do a lot more experimentation on my own before I find something that works.\n",
        "\n",
        "There are some heuristics, but I am highly skeptical of them. I think you're better off experimenting on your own and forming your own intuition for these kinds of problems. \n",
        "\n",
        "- https://machinelearningmastery.com/how-to-configure-the-number-of-layers-and-nodes-in-a-neural-network/"
      ]
    },
    {
      "cell_type": "markdown",
      "metadata": {
        "id": "LnFTs5xzyyuK",
        "colab_type": "text"
      },
      "source": [
        "## Challenge\n",
        "You will be expected to tune several hyperparameters in today's module project. "
      ]
    },
    {
      "cell_type": "markdown",
      "metadata": {
        "id": "GikpbVv7yyuK",
        "colab_type": "text"
      },
      "source": [
        "# Experiment Tracking Framework (Learn)\n",
        "<a id=\"p2\"></a>"
      ]
    },
    {
      "cell_type": "markdown",
      "metadata": {
        "id": "q4ix9DqByyuL",
        "colab_type": "text"
      },
      "source": [
        "## Overview\n",
        "\n",
        "You will notice quickly that managing the results of all the experiments you are running becomes challenging. Which set of parameters did the best? Are my results today different than my results yesterday? Although we use Ipython Notebooks to work, the format is not well suited to logging experimental results. Enter experiment tracking frameworks like [Comet.ml](https://comet.ml) and [Weights and Biases](https://wandb.ai/).\n",
        "\n",
        "Those tools will help you track your experiments, store the results, and the code associated with those experiments. Experimental results can also be readily visualized to see changes in performance across any metric you care about. Data is sent to the tool as each epoch is completed, so you can also see if your model is converging. Let's check out Weights & Biases today. "
      ]
    },
    {
      "cell_type": "markdown",
      "metadata": {
        "id": "DFnIAS3jyyuM",
        "colab_type": "text"
      },
      "source": [
        "## Follow Along\n",
        "\n",
        "Make sure you login into `wandb` in the terminal before running the next cell. "
      ]
    },
    {
      "cell_type": "code",
      "metadata": {
        "id": "JgpZuNodyyuM",
        "colab_type": "code",
        "colab": {}
      },
      "source": [
        "import wandb\n",
        "from wandb.keras import WandbCallback"
      ],
      "execution_count": 0,
      "outputs": []
    },
    {
      "cell_type": "code",
      "metadata": {
        "colab_type": "code",
        "id": "NBuxcn9xyyuP",
        "colab": {
          "base_uri": "https://localhost:8080/",
          "height": 1000
        },
        "outputId": "980bcc93-9e83-439e-e144-61f1766dd1d4"
      },
      "source": [
        "wandb.init(project=wandb_project, entity=wandb_group) #Initializes and Experiment\n",
        "\n",
        "# Important Hyperparameters\n",
        "X =  X_train\n",
        "y =  y_train\n",
        "\n",
        "inputs = X.shape[1]\n",
        "wandb.config.epochs = 50\n",
        "wandb.config.batch_size = 10\n",
        "\n",
        "# Create Model\n",
        "model = Sequential()\n",
        "model.add(Dense(64, activation='relu', input_shape=(inputs,)))\n",
        "model.add(Dense(64, activation='relu'))\n",
        "model.add(Dense(64, activation='relu'))\n",
        "model.add(Dense(1))\n",
        "# Compile Model\n",
        "model.compile(optimizer='adam', loss='mse', metrics=['mse', 'mae'])\n",
        "\n",
        "# Fit Model\n",
        "model.fit(X, y, \n",
        "          validation_split=0.33, \n",
        "          epochs=wandb.config.epochs, \n",
        "          batch_size=wandb.config.batch_size, \n",
        "          callbacks=[WandbCallback()])"
      ],
      "execution_count": 20,
      "outputs": [
        {
          "output_type": "display_data",
          "data": {
            "text/html": [
              "\n",
              "                Logging results to <a href=\"https://wandb.com\" target=\"_blank\">Weights & Biases</a> <a href=\"https://docs.wandb.com/integrations/jupyter.html\" target=\"_blank\">(Documentation)</a>.<br/>\n",
              "                Project page: <a href=\"https://app.wandb.ai/bjanota/dspt4_inclass\" target=\"_blank\">https://app.wandb.ai/bjanota/dspt4_inclass</a><br/>\n",
              "                Run page: <a href=\"https://app.wandb.ai/bjanota/dspt4_inclass/runs/2ko8xxny\" target=\"_blank\">https://app.wandb.ai/bjanota/dspt4_inclass/runs/2ko8xxny</a><br/>\n",
              "            "
            ],
            "text/plain": [
              "<IPython.core.display.HTML object>"
            ]
          },
          "metadata": {
            "tags": []
          }
        },
        {
          "output_type": "stream",
          "text": [
            "Epoch 1/50\n",
            "27/27 [==============================] - 1s 20ms/step - loss: 490.8426 - mse: 490.8426 - mae: 20.1112 - val_loss: 476.8514 - val_mse: 476.8514 - val_mae: 19.1120\n",
            "Epoch 2/50\n",
            "27/27 [==============================] - 0s 5ms/step - loss: 234.9062 - mse: 234.9062 - mae: 12.5349 - val_loss: 122.8476 - val_mse: 122.8476 - val_mae: 8.1312\n",
            "Epoch 3/50\n",
            "27/27 [==============================] - 0s 5ms/step - loss: 67.3750 - mse: 67.3750 - mae: 6.3097 - val_loss: 68.8526 - val_mse: 68.8526 - val_mae: 5.8872\n",
            "Epoch 4/50\n",
            "27/27 [==============================] - 0s 5ms/step - loss: 34.8368 - mse: 34.8368 - mae: 4.3355 - val_loss: 36.3748 - val_mse: 36.3748 - val_mae: 3.9970\n",
            "Epoch 5/50\n",
            "27/27 [==============================] - 0s 5ms/step - loss: 20.8430 - mse: 20.8430 - mae: 3.2493 - val_loss: 29.5550 - val_mse: 29.5550 - val_mae: 3.4773\n",
            "Epoch 6/50\n",
            "27/27 [==============================] - 0s 5ms/step - loss: 16.6804 - mse: 16.6804 - mae: 3.0284 - val_loss: 27.4398 - val_mse: 27.4398 - val_mae: 3.2793\n",
            "Epoch 7/50\n",
            "27/27 [==============================] - 0s 5ms/step - loss: 14.4430 - mse: 14.4430 - mae: 2.7346 - val_loss: 23.7239 - val_mse: 23.7239 - val_mae: 3.0749\n",
            "Epoch 8/50\n",
            "27/27 [==============================] - 0s 5ms/step - loss: 12.6177 - mse: 12.6177 - mae: 2.6667 - val_loss: 23.6178 - val_mse: 23.6178 - val_mae: 2.9866\n",
            "Epoch 9/50\n",
            "27/27 [==============================] - 0s 6ms/step - loss: 11.2978 - mse: 11.2978 - mae: 2.4807 - val_loss: 22.4488 - val_mse: 22.4488 - val_mae: 2.9097\n",
            "Epoch 10/50\n",
            "27/27 [==============================] - 0s 5ms/step - loss: 10.2200 - mse: 10.2200 - mae: 2.3586 - val_loss: 20.5799 - val_mse: 20.5799 - val_mae: 2.8616\n",
            "Epoch 11/50\n",
            "27/27 [==============================] - 0s 5ms/step - loss: 9.8881 - mse: 9.8881 - mae: 2.3576 - val_loss: 20.1979 - val_mse: 20.1979 - val_mae: 2.8649\n",
            "Epoch 12/50\n",
            "27/27 [==============================] - 0s 6ms/step - loss: 9.2258 - mse: 9.2258 - mae: 2.2673 - val_loss: 18.8950 - val_mse: 18.8950 - val_mae: 2.7721\n",
            "Epoch 13/50\n",
            "27/27 [==============================] - 0s 5ms/step - loss: 8.7004 - mse: 8.7004 - mae: 2.2138 - val_loss: 18.7457 - val_mse: 18.7457 - val_mae: 2.7861\n",
            "Epoch 14/50\n",
            "27/27 [==============================] - 0s 5ms/step - loss: 8.3839 - mse: 8.3839 - mae: 2.1603 - val_loss: 18.1252 - val_mse: 18.1252 - val_mae: 2.7656\n",
            "Epoch 15/50\n",
            "27/27 [==============================] - 0s 4ms/step - loss: 7.8297 - mse: 7.8297 - mae: 2.1086 - val_loss: 18.6137 - val_mse: 18.6137 - val_mae: 2.8344\n",
            "Epoch 16/50\n",
            "27/27 [==============================] - 0s 5ms/step - loss: 7.5278 - mse: 7.5278 - mae: 2.0725 - val_loss: 17.3055 - val_mse: 17.3055 - val_mae: 2.7955\n",
            "Epoch 17/50\n",
            "27/27 [==============================] - 0s 4ms/step - loss: 7.8277 - mse: 7.8277 - mae: 2.1256 - val_loss: 18.1722 - val_mse: 18.1722 - val_mae: 2.7945\n",
            "Epoch 18/50\n",
            "27/27 [==============================] - 0s 4ms/step - loss: 7.3371 - mse: 7.3371 - mae: 2.0416 - val_loss: 18.4724 - val_mse: 18.4724 - val_mae: 2.8233\n",
            "Epoch 19/50\n",
            "27/27 [==============================] - 0s 5ms/step - loss: 7.2399 - mse: 7.2399 - mae: 2.0186 - val_loss: 17.2237 - val_mse: 17.2237 - val_mae: 2.7475\n",
            "Epoch 20/50\n",
            "27/27 [==============================] - 0s 5ms/step - loss: 6.4452 - mse: 6.4452 - mae: 1.8905 - val_loss: 16.0784 - val_mse: 16.0784 - val_mae: 2.6755\n",
            "Epoch 21/50\n",
            "27/27 [==============================] - 0s 4ms/step - loss: 6.4460 - mse: 6.4460 - mae: 1.9068 - val_loss: 16.3946 - val_mse: 16.3946 - val_mae: 2.6988\n",
            "Epoch 22/50\n",
            "27/27 [==============================] - 0s 4ms/step - loss: 6.1648 - mse: 6.1648 - mae: 1.8754 - val_loss: 17.3113 - val_mse: 17.3113 - val_mae: 2.7518\n",
            "Epoch 23/50\n",
            "27/27 [==============================] - 0s 4ms/step - loss: 6.0709 - mse: 6.0709 - mae: 1.8650 - val_loss: 16.1146 - val_mse: 16.1146 - val_mae: 2.6611\n",
            "Epoch 24/50\n",
            "27/27 [==============================] - 0s 5ms/step - loss: 5.9857 - mse: 5.9857 - mae: 1.8142 - val_loss: 15.7299 - val_mse: 15.7299 - val_mae: 2.6138\n",
            "Epoch 25/50\n",
            "27/27 [==============================] - 0s 4ms/step - loss: 5.9941 - mse: 5.9941 - mae: 1.8366 - val_loss: 16.0098 - val_mse: 16.0098 - val_mae: 2.6296\n",
            "Epoch 26/50\n",
            "27/27 [==============================] - 0s 5ms/step - loss: 5.5819 - mse: 5.5819 - mae: 1.7524 - val_loss: 15.7147 - val_mse: 15.7147 - val_mae: 2.6160\n",
            "Epoch 27/50\n",
            "27/27 [==============================] - 0s 4ms/step - loss: 5.3545 - mse: 5.3545 - mae: 1.7149 - val_loss: 15.9203 - val_mse: 15.9203 - val_mae: 2.6844\n",
            "Epoch 28/50\n",
            "27/27 [==============================] - 0s 4ms/step - loss: 5.2280 - mse: 5.2280 - mae: 1.6987 - val_loss: 16.0489 - val_mse: 16.0489 - val_mae: 2.6689\n",
            "Epoch 29/50\n",
            "27/27 [==============================] - 0s 4ms/step - loss: 5.0628 - mse: 5.0628 - mae: 1.6570 - val_loss: 16.0052 - val_mse: 16.0052 - val_mae: 2.7007\n",
            "Epoch 30/50\n",
            "27/27 [==============================] - 0s 4ms/step - loss: 5.0907 - mse: 5.0907 - mae: 1.6903 - val_loss: 17.1394 - val_mse: 17.1394 - val_mae: 2.8589\n",
            "Epoch 31/50\n",
            "27/27 [==============================] - 0s 4ms/step - loss: 5.2387 - mse: 5.2387 - mae: 1.7055 - val_loss: 16.0917 - val_mse: 16.0917 - val_mae: 2.6433\n",
            "Epoch 32/50\n",
            "27/27 [==============================] - 0s 4ms/step - loss: 5.0646 - mse: 5.0646 - mae: 1.6850 - val_loss: 16.0930 - val_mse: 16.0930 - val_mae: 2.6658\n",
            "Epoch 33/50\n",
            "27/27 [==============================] - 0s 4ms/step - loss: 4.6637 - mse: 4.6637 - mae: 1.5862 - val_loss: 16.3015 - val_mse: 16.3015 - val_mae: 2.7188\n",
            "Epoch 34/50\n",
            "27/27 [==============================] - 0s 6ms/step - loss: 4.5453 - mse: 4.5453 - mae: 1.5919 - val_loss: 15.3644 - val_mse: 15.3644 - val_mae: 2.5645\n",
            "Epoch 35/50\n",
            "27/27 [==============================] - 0s 5ms/step - loss: 4.2224 - mse: 4.2224 - mae: 1.5116 - val_loss: 15.2908 - val_mse: 15.2908 - val_mae: 2.6072\n",
            "Epoch 36/50\n",
            "27/27 [==============================] - 0s 4ms/step - loss: 4.3043 - mse: 4.3043 - mae: 1.5406 - val_loss: 15.8787 - val_mse: 15.8787 - val_mae: 2.6378\n",
            "Epoch 37/50\n",
            "27/27 [==============================] - 0s 5ms/step - loss: 4.2887 - mse: 4.2887 - mae: 1.5415 - val_loss: 15.1544 - val_mse: 15.1544 - val_mae: 2.5772\n",
            "Epoch 38/50\n",
            "27/27 [==============================] - 0s 4ms/step - loss: 4.0836 - mse: 4.0836 - mae: 1.5019 - val_loss: 15.4280 - val_mse: 15.4280 - val_mae: 2.5633\n",
            "Epoch 39/50\n",
            "27/27 [==============================] - 0s 4ms/step - loss: 4.0198 - mse: 4.0198 - mae: 1.4635 - val_loss: 15.6401 - val_mse: 15.6401 - val_mae: 2.5614\n",
            "Epoch 40/50\n",
            "27/27 [==============================] - 0s 5ms/step - loss: 4.0105 - mse: 4.0105 - mae: 1.4667 - val_loss: 14.9866 - val_mse: 14.9866 - val_mae: 2.5258\n",
            "Epoch 41/50\n",
            "27/27 [==============================] - 0s 4ms/step - loss: 3.8756 - mse: 3.8756 - mae: 1.4636 - val_loss: 15.1467 - val_mse: 15.1467 - val_mae: 2.5760\n",
            "Epoch 42/50\n",
            "27/27 [==============================] - 0s 4ms/step - loss: 3.9298 - mse: 3.9298 - mae: 1.4447 - val_loss: 15.5521 - val_mse: 15.5521 - val_mae: 2.6403\n",
            "Epoch 43/50\n",
            "27/27 [==============================] - 0s 5ms/step - loss: 3.7033 - mse: 3.7033 - mae: 1.4236 - val_loss: 15.0848 - val_mse: 15.0848 - val_mae: 2.5204\n",
            "Epoch 44/50\n",
            "27/27 [==============================] - 0s 4ms/step - loss: 3.6538 - mse: 3.6538 - mae: 1.4124 - val_loss: 15.2628 - val_mse: 15.2628 - val_mae: 2.5908\n",
            "Epoch 45/50\n",
            "27/27 [==============================] - 0s 4ms/step - loss: 3.5746 - mse: 3.5746 - mae: 1.3884 - val_loss: 15.1749 - val_mse: 15.1749 - val_mae: 2.6338\n",
            "Epoch 46/50\n",
            "27/27 [==============================] - 0s 5ms/step - loss: 3.6917 - mse: 3.6917 - mae: 1.5012 - val_loss: 15.2644 - val_mse: 15.2644 - val_mae: 2.5705\n",
            "Epoch 47/50\n",
            "27/27 [==============================] - 0s 4ms/step - loss: 3.3332 - mse: 3.3332 - mae: 1.3230 - val_loss: 15.2510 - val_mse: 15.2510 - val_mae: 2.6348\n",
            "Epoch 48/50\n",
            "27/27 [==============================] - 0s 4ms/step - loss: 3.6100 - mse: 3.6100 - mae: 1.3946 - val_loss: 16.0781 - val_mse: 16.0781 - val_mae: 2.6181\n",
            "Epoch 49/50\n",
            "27/27 [==============================] - 0s 5ms/step - loss: 3.4537 - mse: 3.4537 - mae: 1.3818 - val_loss: 14.3814 - val_mse: 14.3814 - val_mae: 2.4611\n",
            "Epoch 50/50\n",
            "27/27 [==============================] - 0s 4ms/step - loss: 3.3344 - mse: 3.3344 - mae: 1.3155 - val_loss: 14.5985 - val_mse: 14.5985 - val_mae: 2.4757\n"
          ],
          "name": "stdout"
        },
        {
          "output_type": "execute_result",
          "data": {
            "text/plain": [
              "<tensorflow.python.keras.callbacks.History at 0x7fa07d0517f0>"
            ]
          },
          "metadata": {
            "tags": []
          },
          "execution_count": 20
        }
      ]
    },
    {
      "cell_type": "markdown",
      "metadata": {
        "id": "3-HPe3ovyyuR",
        "colab_type": "text"
      },
      "source": [
        "### Your Turn\n",
        "\n",
        "Pick a few hyparameters that we *have not* tuned. Using the same code above, try changing a few parameters you're interested in and submitting the results to weights & biases. :) "
      ]
    },
    {
      "cell_type": "code",
      "metadata": {
        "id": "P-1kJrNYyyuR",
        "colab_type": "code",
        "colab": {}
      },
      "source": [
        "wandb.init(project=wandb_project, entity=wand_group) #Initializes and Experiment\n",
        "wandb.config.epochs = 50\n",
        "wandb.config.batch_size = 10\n",
        "\n",
        "# Fit Model\n",
        "model.fit(callbacks=[WandbCallback()])"
      ],
      "execution_count": 0,
      "outputs": []
    },
    {
      "cell_type": "markdown",
      "metadata": {
        "id": "6DDTnk-tyyuT",
        "colab_type": "text"
      },
      "source": [
        "## Challenge\n",
        "\n",
        "You will be expected to use Weights & Biases to try to tune your model during your module assignment today. "
      ]
    },
    {
      "cell_type": "markdown",
      "metadata": {
        "id": "zso0Z-nCyyuU",
        "colab_type": "text"
      },
      "source": [
        "# Hyperparameters with RandomSearchCV (Learn)"
      ]
    },
    {
      "cell_type": "markdown",
      "metadata": {
        "id": "p90lAWA8yyuU",
        "colab_type": "text"
      },
      "source": [
        "## Overview\n",
        "\n",
        "Basically `GridSearchCV` takes forever. You'll want to adopt a slightly more sophiscated strategy.\n",
        "\n",
        "Let's also take a look at an alternative with Keras-Tuner."
      ]
    },
    {
      "cell_type": "code",
      "metadata": {
        "id": "_q4UNepfyyuU",
        "colab_type": "code",
        "colab": {
          "base_uri": "https://localhost:8080/",
          "height": 510
        },
        "outputId": "9f506575-0e1c-4232-c2d0-774cd136f7d2"
      },
      "source": [
        "!pip install keras-tuner\n",
        "# work this again with the recording"
      ],
      "execution_count": 21,
      "outputs": [
        {
          "output_type": "stream",
          "text": [
            "Collecting keras-tuner\n",
            "\u001b[?25l  Downloading https://files.pythonhosted.org/packages/a7/f7/4b41b6832abf4c9bef71a664dc563adb25afc5812831667c6db572b1a261/keras-tuner-1.0.1.tar.gz (54kB)\n",
            "\r\u001b[K     |██████                          | 10kB 23.2MB/s eta 0:00:01\r\u001b[K     |████████████                    | 20kB 5.9MB/s eta 0:00:01\r\u001b[K     |██████████████████              | 30kB 8.4MB/s eta 0:00:01\r\u001b[K     |████████████████████████        | 40kB 10.7MB/s eta 0:00:01\r\u001b[K     |██████████████████████████████  | 51kB 6.8MB/s eta 0:00:01\r\u001b[K     |████████████████████████████████| 61kB 4.3MB/s \n",
            "\u001b[?25hRequirement already satisfied: future in /usr/local/lib/python3.6/dist-packages (from keras-tuner) (0.16.0)\n",
            "Requirement already satisfied: numpy in /usr/local/lib/python3.6/dist-packages (from keras-tuner) (1.18.4)\n",
            "Requirement already satisfied: tabulate in /usr/local/lib/python3.6/dist-packages (from keras-tuner) (0.8.7)\n",
            "Collecting terminaltables\n",
            "  Downloading https://files.pythonhosted.org/packages/9b/c4/4a21174f32f8a7e1104798c445dacdc1d4df86f2f26722767034e4de4bff/terminaltables-3.1.0.tar.gz\n",
            "Collecting colorama\n",
            "  Downloading https://files.pythonhosted.org/packages/c9/dc/45cdef1b4d119eb96316b3117e6d5708a08029992b2fee2c143c7a0a5cc5/colorama-0.4.3-py2.py3-none-any.whl\n",
            "Requirement already satisfied: tqdm in /usr/local/lib/python3.6/dist-packages (from keras-tuner) (4.41.1)\n",
            "Requirement already satisfied: requests in /usr/local/lib/python3.6/dist-packages (from keras-tuner) (2.23.0)\n",
            "Requirement already satisfied: scipy in /usr/local/lib/python3.6/dist-packages (from keras-tuner) (1.4.1)\n",
            "Requirement already satisfied: scikit-learn in /usr/local/lib/python3.6/dist-packages (from keras-tuner) (0.22.2.post1)\n",
            "Requirement already satisfied: idna<3,>=2.5 in /usr/local/lib/python3.6/dist-packages (from requests->keras-tuner) (2.9)\n",
            "Requirement already satisfied: chardet<4,>=3.0.2 in /usr/local/lib/python3.6/dist-packages (from requests->keras-tuner) (3.0.4)\n",
            "Requirement already satisfied: certifi>=2017.4.17 in /usr/local/lib/python3.6/dist-packages (from requests->keras-tuner) (2020.4.5.1)\n",
            "Requirement already satisfied: urllib3!=1.25.0,!=1.25.1,<1.26,>=1.21.1 in /usr/local/lib/python3.6/dist-packages (from requests->keras-tuner) (1.24.3)\n",
            "Requirement already satisfied: joblib>=0.11 in /usr/local/lib/python3.6/dist-packages (from scikit-learn->keras-tuner) (0.15.1)\n",
            "Building wheels for collected packages: keras-tuner, terminaltables\n",
            "  Building wheel for keras-tuner (setup.py) ... \u001b[?25l\u001b[?25hdone\n",
            "  Created wheel for keras-tuner: filename=keras_tuner-1.0.1-cp36-none-any.whl size=73200 sha256=cd677bb8b61dd657e3e99f8a8dc23c501fe8848e6bc685155232c446897e650a\n",
            "  Stored in directory: /root/.cache/pip/wheels/b9/cc/62/52716b70dd90f3db12519233c3a93a5360bc672da1a10ded43\n",
            "  Building wheel for terminaltables (setup.py) ... \u001b[?25l\u001b[?25hdone\n",
            "  Created wheel for terminaltables: filename=terminaltables-3.1.0-cp36-none-any.whl size=15356 sha256=3a8ee0c66d2c6d8b2f2c7ce40b27cc13f640c02af08ac82c78adceb47bd5b300\n",
            "  Stored in directory: /root/.cache/pip/wheels/30/6b/50/6c75775b681fb36cdfac7f19799888ef9d8813aff9e379663e\n",
            "Successfully built keras-tuner terminaltables\n",
            "Installing collected packages: terminaltables, colorama, keras-tuner\n",
            "Successfully installed colorama-0.4.3 keras-tuner-1.0.1 terminaltables-3.1.0\n"
          ],
          "name": "stdout"
        }
      ]
    },
    {
      "cell_type": "markdown",
      "metadata": {
        "id": "5p1TlmaoyyuW",
        "colab_type": "text"
      },
      "source": [
        "## Follow Along"
      ]
    },
    {
      "cell_type": "code",
      "metadata": {
        "id": "KX2evVqLyyuW",
        "colab_type": "code",
        "colab": {}
      },
      "source": [
        "from tensorflow import keras\n",
        "from tensorflow.keras import layers\n",
        "from kerastuner.tuners import RandomSearch\n",
        "\n",
        "\"\"\"\n",
        "This model Tunes:\n",
        "- Number of Neurons in the Hidden Layer\n",
        "- Learning Rate in Adam\n",
        "\n",
        "\"\"\"\n",
        "\n",
        "def build_model(hp):\n",
        "    model = keras.Sequential()\n",
        "    model.add(layers.Dense(units=hp.Int('units',\n",
        "                                        min_value=32,\n",
        "                                        max_value=512,\n",
        "                                        step=32),\n",
        "                           activation='relu'))\n",
        "    model.add(layers.Dense(10, activation='softmax'))\n",
        "    model.compile(\n",
        "        optimizer=keras.optimizers.Adam(\n",
        "            hp.Choice('learning_rate',\n",
        "                      values=[1e-2, 1e-3, 1e-4])),\n",
        "        loss='sparse_categorical_crossentropy',\n",
        "        metrics=['accuracy'])\n",
        "    \n",
        "    return model"
      ],
      "execution_count": 0,
      "outputs": []
    },
    {
      "cell_type": "code",
      "metadata": {
        "id": "-uhwKYI3yyuZ",
        "colab_type": "code",
        "colab": {}
      },
      "source": [
        "tuner = RandomSearch(\n",
        "    build_model,\n",
        "    objective='val_loss',\n",
        "    max_trials=5,\n",
        "    executions_per_trial=3,\n",
        "    directory='./keras-tuner-trial',\n",
        "    project_name='helloworld')"
      ],
      "execution_count": 0,
      "outputs": []
    },
    {
      "cell_type": "code",
      "metadata": {
        "id": "-DfotHwNyyub",
        "colab_type": "code",
        "colab": {
          "base_uri": "https://localhost:8080/",
          "height": 281
        },
        "outputId": "3ba5efc7-233b-4294-b722-fd676b9ba216"
      },
      "source": [
        "tuner.search_space_summary()"
      ],
      "execution_count": 27,
      "outputs": [
        {
          "output_type": "display_data",
          "data": {
            "text/html": [
              "<span style=\"color:#4527A0\"><h1 style=\"font-size:18px\">Search space summary</h1></span>"
            ],
            "text/plain": [
              "<IPython.core.display.HTML object>"
            ]
          },
          "metadata": {
            "tags": []
          }
        },
        {
          "output_type": "display_data",
          "data": {
            "text/html": [
              "<span style=\"color:cyan\"> |-Default search space size: 2</span>"
            ],
            "text/plain": [
              "<IPython.core.display.HTML object>"
            ]
          },
          "metadata": {
            "tags": []
          }
        },
        {
          "output_type": "display_data",
          "data": {
            "text/html": [
              "<span style=\"color:#7E57C2\"><h2 style=\"font-size:16px\">units (Int)</h2></span>"
            ],
            "text/plain": [
              "<IPython.core.display.HTML object>"
            ]
          },
          "metadata": {
            "tags": []
          }
        },
        {
          "output_type": "display_data",
          "data": {
            "text/html": [
              "<span style=\"color:cyan\"> |-default: None</span>"
            ],
            "text/plain": [
              "<IPython.core.display.HTML object>"
            ]
          },
          "metadata": {
            "tags": []
          }
        },
        {
          "output_type": "display_data",
          "data": {
            "text/html": [
              "<span style=\"color:blue\"> |-max_value: 512</span>"
            ],
            "text/plain": [
              "<IPython.core.display.HTML object>"
            ]
          },
          "metadata": {
            "tags": []
          }
        },
        {
          "output_type": "display_data",
          "data": {
            "text/html": [
              "<span style=\"color:cyan\"> |-min_value: 32</span>"
            ],
            "text/plain": [
              "<IPython.core.display.HTML object>"
            ]
          },
          "metadata": {
            "tags": []
          }
        },
        {
          "output_type": "display_data",
          "data": {
            "text/html": [
              "<span style=\"color:blue\"> |-sampling: None</span>"
            ],
            "text/plain": [
              "<IPython.core.display.HTML object>"
            ]
          },
          "metadata": {
            "tags": []
          }
        },
        {
          "output_type": "display_data",
          "data": {
            "text/html": [
              "<span style=\"color:cyan\"> |-step: 32</span>"
            ],
            "text/plain": [
              "<IPython.core.display.HTML object>"
            ]
          },
          "metadata": {
            "tags": []
          }
        },
        {
          "output_type": "display_data",
          "data": {
            "text/html": [
              "<span style=\"color:#7E57C2\"><h2 style=\"font-size:16px\">learning_rate (Choice)</h2></span>"
            ],
            "text/plain": [
              "<IPython.core.display.HTML object>"
            ]
          },
          "metadata": {
            "tags": []
          }
        },
        {
          "output_type": "display_data",
          "data": {
            "text/html": [
              "<span style=\"color:cyan\"> |-default: 0.01</span>"
            ],
            "text/plain": [
              "<IPython.core.display.HTML object>"
            ]
          },
          "metadata": {
            "tags": []
          }
        },
        {
          "output_type": "display_data",
          "data": {
            "text/html": [
              "<span style=\"color:blue\"> |-ordered: True</span>"
            ],
            "text/plain": [
              "<IPython.core.display.HTML object>"
            ]
          },
          "metadata": {
            "tags": []
          }
        },
        {
          "output_type": "display_data",
          "data": {
            "text/html": [
              "<span style=\"color:cyan\"> |-values: [0.01, 0.001, 0.0001]</span>"
            ],
            "text/plain": [
              "<IPython.core.display.HTML object>"
            ]
          },
          "metadata": {
            "tags": []
          }
        }
      ]
    },
    {
      "cell_type": "code",
      "metadata": {
        "id": "iEhRGqG2yyud",
        "colab_type": "code",
        "colab": {
          "base_uri": "https://localhost:8080/",
          "height": 1000
        },
        "outputId": "4866e8e6-b3bf-4eee-810c-a448b8b23802"
      },
      "source": [
        "tuner.search(X, y,\n",
        "             epochs=20,\n",
        "             verbose= 0,\n",
        "             validation_data=(X_test, y_test))"
      ],
      "execution_count": 29,
      "outputs": [
        {
          "output_type": "stream",
          "text": [
            "/usr/local/lib/python3.6/dist-packages/kerastuner/engine/metrics_tracking.py:92: RuntimeWarning: All-NaN axis encountered\n",
            "  return np.nanmin(values)\n"
          ],
          "name": "stderr"
        },
        {
          "output_type": "display_data",
          "data": {
            "text/html": [
              "<span style=\"color:#4527A0\"><h1 style=\"font-size:18px\">Trial complete</h1></span>"
            ],
            "text/plain": [
              "<IPython.core.display.HTML object>"
            ]
          },
          "metadata": {
            "tags": []
          }
        },
        {
          "output_type": "display_data",
          "data": {
            "text/html": [
              "<span style=\"color:#4527A0\"><h1 style=\"font-size:18px\">Trial summary</h1></span>"
            ],
            "text/plain": [
              "<IPython.core.display.HTML object>"
            ]
          },
          "metadata": {
            "tags": []
          }
        },
        {
          "output_type": "display_data",
          "data": {
            "text/html": [
              "<span style=\"color:cyan\"> |-Trial ID: 6c9631d628fbce9a7b30e556106926a1</span>"
            ],
            "text/plain": [
              "<IPython.core.display.HTML object>"
            ]
          },
          "metadata": {
            "tags": []
          }
        },
        {
          "output_type": "display_data",
          "data": {
            "text/html": [
              "<span style=\"color:cyan\"> |-Score: nan</span>"
            ],
            "text/plain": [
              "<IPython.core.display.HTML object>"
            ]
          },
          "metadata": {
            "tags": []
          }
        },
        {
          "output_type": "display_data",
          "data": {
            "text/html": [
              "<span style=\"color:cyan\"> |-Best step: None</span>"
            ],
            "text/plain": [
              "<IPython.core.display.HTML object>"
            ]
          },
          "metadata": {
            "tags": []
          }
        },
        {
          "output_type": "display_data",
          "data": {
            "text/html": [
              "<span style=\"color:#7E57C2\"><h2 style=\"font-size:16px\">Hyperparameters:</h2></span>"
            ],
            "text/plain": [
              "<IPython.core.display.HTML object>"
            ]
          },
          "metadata": {
            "tags": []
          }
        },
        {
          "output_type": "display_data",
          "data": {
            "text/html": [
              "<span style=\"color:cyan\"> |-learning_rate: 0.01</span>"
            ],
            "text/plain": [
              "<IPython.core.display.HTML object>"
            ]
          },
          "metadata": {
            "tags": []
          }
        },
        {
          "output_type": "display_data",
          "data": {
            "text/html": [
              "<span style=\"color:blue\"> |-units: 448</span>"
            ],
            "text/plain": [
              "<IPython.core.display.HTML object>"
            ]
          },
          "metadata": {
            "tags": []
          }
        },
        {
          "output_type": "display_data",
          "data": {
            "text/html": [
              "<span style=\"color:#4527A0\"><h1 style=\"font-size:18px\">Trial complete</h1></span>"
            ],
            "text/plain": [
              "<IPython.core.display.HTML object>"
            ]
          },
          "metadata": {
            "tags": []
          }
        },
        {
          "output_type": "display_data",
          "data": {
            "text/html": [
              "<span style=\"color:#4527A0\"><h1 style=\"font-size:18px\">Trial summary</h1></span>"
            ],
            "text/plain": [
              "<IPython.core.display.HTML object>"
            ]
          },
          "metadata": {
            "tags": []
          }
        },
        {
          "output_type": "display_data",
          "data": {
            "text/html": [
              "<span style=\"color:cyan\"> |-Trial ID: 481f3d22974cca8612cc54fff3e40083</span>"
            ],
            "text/plain": [
              "<IPython.core.display.HTML object>"
            ]
          },
          "metadata": {
            "tags": []
          }
        },
        {
          "output_type": "display_data",
          "data": {
            "text/html": [
              "<span style=\"color:cyan\"> |-Score: nan</span>"
            ],
            "text/plain": [
              "<IPython.core.display.HTML object>"
            ]
          },
          "metadata": {
            "tags": []
          }
        },
        {
          "output_type": "display_data",
          "data": {
            "text/html": [
              "<span style=\"color:cyan\"> |-Best step: None</span>"
            ],
            "text/plain": [
              "<IPython.core.display.HTML object>"
            ]
          },
          "metadata": {
            "tags": []
          }
        },
        {
          "output_type": "display_data",
          "data": {
            "text/html": [
              "<span style=\"color:#7E57C2\"><h2 style=\"font-size:16px\">Hyperparameters:</h2></span>"
            ],
            "text/plain": [
              "<IPython.core.display.HTML object>"
            ]
          },
          "metadata": {
            "tags": []
          }
        },
        {
          "output_type": "display_data",
          "data": {
            "text/html": [
              "<span style=\"color:cyan\"> |-learning_rate: 0.01</span>"
            ],
            "text/plain": [
              "<IPython.core.display.HTML object>"
            ]
          },
          "metadata": {
            "tags": []
          }
        },
        {
          "output_type": "display_data",
          "data": {
            "text/html": [
              "<span style=\"color:blue\"> |-units: 416</span>"
            ],
            "text/plain": [
              "<IPython.core.display.HTML object>"
            ]
          },
          "metadata": {
            "tags": []
          }
        },
        {
          "output_type": "display_data",
          "data": {
            "text/html": [
              "<span style=\"color:#4527A0\"><h1 style=\"font-size:18px\">Trial complete</h1></span>"
            ],
            "text/plain": [
              "<IPython.core.display.HTML object>"
            ]
          },
          "metadata": {
            "tags": []
          }
        },
        {
          "output_type": "display_data",
          "data": {
            "text/html": [
              "<span style=\"color:#4527A0\"><h1 style=\"font-size:18px\">Trial summary</h1></span>"
            ],
            "text/plain": [
              "<IPython.core.display.HTML object>"
            ]
          },
          "metadata": {
            "tags": []
          }
        },
        {
          "output_type": "display_data",
          "data": {
            "text/html": [
              "<span style=\"color:cyan\"> |-Trial ID: 8517b5d64fc999241f7c00473cab6ba9</span>"
            ],
            "text/plain": [
              "<IPython.core.display.HTML object>"
            ]
          },
          "metadata": {
            "tags": []
          }
        },
        {
          "output_type": "display_data",
          "data": {
            "text/html": [
              "<span style=\"color:cyan\"> |-Score: nan</span>"
            ],
            "text/plain": [
              "<IPython.core.display.HTML object>"
            ]
          },
          "metadata": {
            "tags": []
          }
        },
        {
          "output_type": "display_data",
          "data": {
            "text/html": [
              "<span style=\"color:cyan\"> |-Best step: None</span>"
            ],
            "text/plain": [
              "<IPython.core.display.HTML object>"
            ]
          },
          "metadata": {
            "tags": []
          }
        },
        {
          "output_type": "display_data",
          "data": {
            "text/html": [
              "<span style=\"color:#7E57C2\"><h2 style=\"font-size:16px\">Hyperparameters:</h2></span>"
            ],
            "text/plain": [
              "<IPython.core.display.HTML object>"
            ]
          },
          "metadata": {
            "tags": []
          }
        },
        {
          "output_type": "display_data",
          "data": {
            "text/html": [
              "<span style=\"color:cyan\"> |-learning_rate: 0.001</span>"
            ],
            "text/plain": [
              "<IPython.core.display.HTML object>"
            ]
          },
          "metadata": {
            "tags": []
          }
        },
        {
          "output_type": "display_data",
          "data": {
            "text/html": [
              "<span style=\"color:blue\"> |-units: 448</span>"
            ],
            "text/plain": [
              "<IPython.core.display.HTML object>"
            ]
          },
          "metadata": {
            "tags": []
          }
        },
        {
          "output_type": "display_data",
          "data": {
            "text/html": [
              "<span style=\"color:#4527A0\"><h1 style=\"font-size:18px\">Trial complete</h1></span>"
            ],
            "text/plain": [
              "<IPython.core.display.HTML object>"
            ]
          },
          "metadata": {
            "tags": []
          }
        },
        {
          "output_type": "display_data",
          "data": {
            "text/html": [
              "<span style=\"color:#4527A0\"><h1 style=\"font-size:18px\">Trial summary</h1></span>"
            ],
            "text/plain": [
              "<IPython.core.display.HTML object>"
            ]
          },
          "metadata": {
            "tags": []
          }
        },
        {
          "output_type": "display_data",
          "data": {
            "text/html": [
              "<span style=\"color:cyan\"> |-Trial ID: 0bdbe1514f7a91262faac2820319ea08</span>"
            ],
            "text/plain": [
              "<IPython.core.display.HTML object>"
            ]
          },
          "metadata": {
            "tags": []
          }
        },
        {
          "output_type": "display_data",
          "data": {
            "text/html": [
              "<span style=\"color:cyan\"> |-Score: nan</span>"
            ],
            "text/plain": [
              "<IPython.core.display.HTML object>"
            ]
          },
          "metadata": {
            "tags": []
          }
        },
        {
          "output_type": "display_data",
          "data": {
            "text/html": [
              "<span style=\"color:cyan\"> |-Best step: None</span>"
            ],
            "text/plain": [
              "<IPython.core.display.HTML object>"
            ]
          },
          "metadata": {
            "tags": []
          }
        },
        {
          "output_type": "display_data",
          "data": {
            "text/html": [
              "<span style=\"color:#7E57C2\"><h2 style=\"font-size:16px\">Hyperparameters:</h2></span>"
            ],
            "text/plain": [
              "<IPython.core.display.HTML object>"
            ]
          },
          "metadata": {
            "tags": []
          }
        },
        {
          "output_type": "display_data",
          "data": {
            "text/html": [
              "<span style=\"color:cyan\"> |-learning_rate: 0.001</span>"
            ],
            "text/plain": [
              "<IPython.core.display.HTML object>"
            ]
          },
          "metadata": {
            "tags": []
          }
        },
        {
          "output_type": "display_data",
          "data": {
            "text/html": [
              "<span style=\"color:blue\"> |-units: 128</span>"
            ],
            "text/plain": [
              "<IPython.core.display.HTML object>"
            ]
          },
          "metadata": {
            "tags": []
          }
        },
        {
          "output_type": "display_data",
          "data": {
            "text/html": [
              "<span style=\"color:#4527A0\"><h1 style=\"font-size:18px\">Trial complete</h1></span>"
            ],
            "text/plain": [
              "<IPython.core.display.HTML object>"
            ]
          },
          "metadata": {
            "tags": []
          }
        },
        {
          "output_type": "display_data",
          "data": {
            "text/html": [
              "<span style=\"color:#4527A0\"><h1 style=\"font-size:18px\">Trial summary</h1></span>"
            ],
            "text/plain": [
              "<IPython.core.display.HTML object>"
            ]
          },
          "metadata": {
            "tags": []
          }
        },
        {
          "output_type": "display_data",
          "data": {
            "text/html": [
              "<span style=\"color:cyan\"> |-Trial ID: a2543a8a9ff6cde2f005845e26cad753</span>"
            ],
            "text/plain": [
              "<IPython.core.display.HTML object>"
            ]
          },
          "metadata": {
            "tags": []
          }
        },
        {
          "output_type": "display_data",
          "data": {
            "text/html": [
              "<span style=\"color:cyan\"> |-Score: nan</span>"
            ],
            "text/plain": [
              "<IPython.core.display.HTML object>"
            ]
          },
          "metadata": {
            "tags": []
          }
        },
        {
          "output_type": "display_data",
          "data": {
            "text/html": [
              "<span style=\"color:cyan\"> |-Best step: None</span>"
            ],
            "text/plain": [
              "<IPython.core.display.HTML object>"
            ]
          },
          "metadata": {
            "tags": []
          }
        },
        {
          "output_type": "display_data",
          "data": {
            "text/html": [
              "<span style=\"color:#7E57C2\"><h2 style=\"font-size:16px\">Hyperparameters:</h2></span>"
            ],
            "text/plain": [
              "<IPython.core.display.HTML object>"
            ]
          },
          "metadata": {
            "tags": []
          }
        },
        {
          "output_type": "display_data",
          "data": {
            "text/html": [
              "<span style=\"color:cyan\"> |-learning_rate: 0.0001</span>"
            ],
            "text/plain": [
              "<IPython.core.display.HTML object>"
            ]
          },
          "metadata": {
            "tags": []
          }
        },
        {
          "output_type": "display_data",
          "data": {
            "text/html": [
              "<span style=\"color:blue\"> |-units: 96</span>"
            ],
            "text/plain": [
              "<IPython.core.display.HTML object>"
            ]
          },
          "metadata": {
            "tags": []
          }
        },
        {
          "output_type": "stream",
          "text": [
            "INFO:tensorflow:Oracle triggered exit\n"
          ],
          "name": "stdout"
        }
      ]
    },
    {
      "cell_type": "code",
      "metadata": {
        "id": "TMmGVpf2yyuf",
        "colab_type": "code",
        "colab": {
          "base_uri": "https://localhost:8080/",
          "height": 903
        },
        "outputId": "1d470ba9-a66e-448b-f5fa-cbeb22331605"
      },
      "source": [
        "tuner.results_summary()"
      ],
      "execution_count": 30,
      "outputs": [
        {
          "output_type": "display_data",
          "data": {
            "text/html": [
              "<span style=\"color:#4527A0\"><h1 style=\"font-size:18px\">Results summary</h1></span>"
            ],
            "text/plain": [
              "<IPython.core.display.HTML object>"
            ]
          },
          "metadata": {
            "tags": []
          }
        },
        {
          "output_type": "display_data",
          "data": {
            "text/html": [
              "<span style=\"color:cyan\"> |-Results in ./keras-tuner-trial/helloworld</span>"
            ],
            "text/plain": [
              "<IPython.core.display.HTML object>"
            ]
          },
          "metadata": {
            "tags": []
          }
        },
        {
          "output_type": "display_data",
          "data": {
            "text/html": [
              "<span style=\"color:cyan\"> |-Showing 10 best trials</span>"
            ],
            "text/plain": [
              "<IPython.core.display.HTML object>"
            ]
          },
          "metadata": {
            "tags": []
          }
        },
        {
          "output_type": "display_data",
          "data": {
            "text/html": [
              "<span style=\"color:cyan\"> |-Objective(name='val_loss', direction='min')</span>"
            ],
            "text/plain": [
              "<IPython.core.display.HTML object>"
            ]
          },
          "metadata": {
            "tags": []
          }
        },
        {
          "output_type": "display_data",
          "data": {
            "text/html": [
              "<span style=\"color:#4527A0\"><h1 style=\"font-size:18px\">Trial summary</h1></span>"
            ],
            "text/plain": [
              "<IPython.core.display.HTML object>"
            ]
          },
          "metadata": {
            "tags": []
          }
        },
        {
          "output_type": "display_data",
          "data": {
            "text/html": [
              "<span style=\"color:cyan\"> |-Trial ID: 6c9631d628fbce9a7b30e556106926a1</span>"
            ],
            "text/plain": [
              "<IPython.core.display.HTML object>"
            ]
          },
          "metadata": {
            "tags": []
          }
        },
        {
          "output_type": "display_data",
          "data": {
            "text/html": [
              "<span style=\"color:cyan\"> |-Score: nan</span>"
            ],
            "text/plain": [
              "<IPython.core.display.HTML object>"
            ]
          },
          "metadata": {
            "tags": []
          }
        },
        {
          "output_type": "display_data",
          "data": {
            "text/html": [
              "<span style=\"color:cyan\"> |-Best step: None</span>"
            ],
            "text/plain": [
              "<IPython.core.display.HTML object>"
            ]
          },
          "metadata": {
            "tags": []
          }
        },
        {
          "output_type": "display_data",
          "data": {
            "text/html": [
              "<span style=\"color:#7E57C2\"><h2 style=\"font-size:16px\">Hyperparameters:</h2></span>"
            ],
            "text/plain": [
              "<IPython.core.display.HTML object>"
            ]
          },
          "metadata": {
            "tags": []
          }
        },
        {
          "output_type": "display_data",
          "data": {
            "text/html": [
              "<span style=\"color:cyan\"> |-learning_rate: 0.01</span>"
            ],
            "text/plain": [
              "<IPython.core.display.HTML object>"
            ]
          },
          "metadata": {
            "tags": []
          }
        },
        {
          "output_type": "display_data",
          "data": {
            "text/html": [
              "<span style=\"color:blue\"> |-units: 448</span>"
            ],
            "text/plain": [
              "<IPython.core.display.HTML object>"
            ]
          },
          "metadata": {
            "tags": []
          }
        },
        {
          "output_type": "display_data",
          "data": {
            "text/html": [
              "<span style=\"color:#4527A0\"><h1 style=\"font-size:18px\">Trial summary</h1></span>"
            ],
            "text/plain": [
              "<IPython.core.display.HTML object>"
            ]
          },
          "metadata": {
            "tags": []
          }
        },
        {
          "output_type": "display_data",
          "data": {
            "text/html": [
              "<span style=\"color:cyan\"> |-Trial ID: 481f3d22974cca8612cc54fff3e40083</span>"
            ],
            "text/plain": [
              "<IPython.core.display.HTML object>"
            ]
          },
          "metadata": {
            "tags": []
          }
        },
        {
          "output_type": "display_data",
          "data": {
            "text/html": [
              "<span style=\"color:cyan\"> |-Score: nan</span>"
            ],
            "text/plain": [
              "<IPython.core.display.HTML object>"
            ]
          },
          "metadata": {
            "tags": []
          }
        },
        {
          "output_type": "display_data",
          "data": {
            "text/html": [
              "<span style=\"color:cyan\"> |-Best step: None</span>"
            ],
            "text/plain": [
              "<IPython.core.display.HTML object>"
            ]
          },
          "metadata": {
            "tags": []
          }
        },
        {
          "output_type": "display_data",
          "data": {
            "text/html": [
              "<span style=\"color:#7E57C2\"><h2 style=\"font-size:16px\">Hyperparameters:</h2></span>"
            ],
            "text/plain": [
              "<IPython.core.display.HTML object>"
            ]
          },
          "metadata": {
            "tags": []
          }
        },
        {
          "output_type": "display_data",
          "data": {
            "text/html": [
              "<span style=\"color:cyan\"> |-learning_rate: 0.01</span>"
            ],
            "text/plain": [
              "<IPython.core.display.HTML object>"
            ]
          },
          "metadata": {
            "tags": []
          }
        },
        {
          "output_type": "display_data",
          "data": {
            "text/html": [
              "<span style=\"color:blue\"> |-units: 416</span>"
            ],
            "text/plain": [
              "<IPython.core.display.HTML object>"
            ]
          },
          "metadata": {
            "tags": []
          }
        },
        {
          "output_type": "display_data",
          "data": {
            "text/html": [
              "<span style=\"color:#4527A0\"><h1 style=\"font-size:18px\">Trial summary</h1></span>"
            ],
            "text/plain": [
              "<IPython.core.display.HTML object>"
            ]
          },
          "metadata": {
            "tags": []
          }
        },
        {
          "output_type": "display_data",
          "data": {
            "text/html": [
              "<span style=\"color:cyan\"> |-Trial ID: 8517b5d64fc999241f7c00473cab6ba9</span>"
            ],
            "text/plain": [
              "<IPython.core.display.HTML object>"
            ]
          },
          "metadata": {
            "tags": []
          }
        },
        {
          "output_type": "display_data",
          "data": {
            "text/html": [
              "<span style=\"color:cyan\"> |-Score: nan</span>"
            ],
            "text/plain": [
              "<IPython.core.display.HTML object>"
            ]
          },
          "metadata": {
            "tags": []
          }
        },
        {
          "output_type": "display_data",
          "data": {
            "text/html": [
              "<span style=\"color:cyan\"> |-Best step: None</span>"
            ],
            "text/plain": [
              "<IPython.core.display.HTML object>"
            ]
          },
          "metadata": {
            "tags": []
          }
        },
        {
          "output_type": "display_data",
          "data": {
            "text/html": [
              "<span style=\"color:#7E57C2\"><h2 style=\"font-size:16px\">Hyperparameters:</h2></span>"
            ],
            "text/plain": [
              "<IPython.core.display.HTML object>"
            ]
          },
          "metadata": {
            "tags": []
          }
        },
        {
          "output_type": "display_data",
          "data": {
            "text/html": [
              "<span style=\"color:cyan\"> |-learning_rate: 0.001</span>"
            ],
            "text/plain": [
              "<IPython.core.display.HTML object>"
            ]
          },
          "metadata": {
            "tags": []
          }
        },
        {
          "output_type": "display_data",
          "data": {
            "text/html": [
              "<span style=\"color:blue\"> |-units: 448</span>"
            ],
            "text/plain": [
              "<IPython.core.display.HTML object>"
            ]
          },
          "metadata": {
            "tags": []
          }
        },
        {
          "output_type": "display_data",
          "data": {
            "text/html": [
              "<span style=\"color:#4527A0\"><h1 style=\"font-size:18px\">Trial summary</h1></span>"
            ],
            "text/plain": [
              "<IPython.core.display.HTML object>"
            ]
          },
          "metadata": {
            "tags": []
          }
        },
        {
          "output_type": "display_data",
          "data": {
            "text/html": [
              "<span style=\"color:cyan\"> |-Trial ID: 0bdbe1514f7a91262faac2820319ea08</span>"
            ],
            "text/plain": [
              "<IPython.core.display.HTML object>"
            ]
          },
          "metadata": {
            "tags": []
          }
        },
        {
          "output_type": "display_data",
          "data": {
            "text/html": [
              "<span style=\"color:cyan\"> |-Score: nan</span>"
            ],
            "text/plain": [
              "<IPython.core.display.HTML object>"
            ]
          },
          "metadata": {
            "tags": []
          }
        },
        {
          "output_type": "display_data",
          "data": {
            "text/html": [
              "<span style=\"color:cyan\"> |-Best step: None</span>"
            ],
            "text/plain": [
              "<IPython.core.display.HTML object>"
            ]
          },
          "metadata": {
            "tags": []
          }
        },
        {
          "output_type": "display_data",
          "data": {
            "text/html": [
              "<span style=\"color:#7E57C2\"><h2 style=\"font-size:16px\">Hyperparameters:</h2></span>"
            ],
            "text/plain": [
              "<IPython.core.display.HTML object>"
            ]
          },
          "metadata": {
            "tags": []
          }
        },
        {
          "output_type": "display_data",
          "data": {
            "text/html": [
              "<span style=\"color:cyan\"> |-learning_rate: 0.001</span>"
            ],
            "text/plain": [
              "<IPython.core.display.HTML object>"
            ]
          },
          "metadata": {
            "tags": []
          }
        },
        {
          "output_type": "display_data",
          "data": {
            "text/html": [
              "<span style=\"color:blue\"> |-units: 128</span>"
            ],
            "text/plain": [
              "<IPython.core.display.HTML object>"
            ]
          },
          "metadata": {
            "tags": []
          }
        },
        {
          "output_type": "display_data",
          "data": {
            "text/html": [
              "<span style=\"color:#4527A0\"><h1 style=\"font-size:18px\">Trial summary</h1></span>"
            ],
            "text/plain": [
              "<IPython.core.display.HTML object>"
            ]
          },
          "metadata": {
            "tags": []
          }
        },
        {
          "output_type": "display_data",
          "data": {
            "text/html": [
              "<span style=\"color:cyan\"> |-Trial ID: a2543a8a9ff6cde2f005845e26cad753</span>"
            ],
            "text/plain": [
              "<IPython.core.display.HTML object>"
            ]
          },
          "metadata": {
            "tags": []
          }
        },
        {
          "output_type": "display_data",
          "data": {
            "text/html": [
              "<span style=\"color:cyan\"> |-Score: nan</span>"
            ],
            "text/plain": [
              "<IPython.core.display.HTML object>"
            ]
          },
          "metadata": {
            "tags": []
          }
        },
        {
          "output_type": "display_data",
          "data": {
            "text/html": [
              "<span style=\"color:cyan\"> |-Best step: None</span>"
            ],
            "text/plain": [
              "<IPython.core.display.HTML object>"
            ]
          },
          "metadata": {
            "tags": []
          }
        },
        {
          "output_type": "display_data",
          "data": {
            "text/html": [
              "<span style=\"color:#7E57C2\"><h2 style=\"font-size:16px\">Hyperparameters:</h2></span>"
            ],
            "text/plain": [
              "<IPython.core.display.HTML object>"
            ]
          },
          "metadata": {
            "tags": []
          }
        },
        {
          "output_type": "display_data",
          "data": {
            "text/html": [
              "<span style=\"color:cyan\"> |-learning_rate: 0.0001</span>"
            ],
            "text/plain": [
              "<IPython.core.display.HTML object>"
            ]
          },
          "metadata": {
            "tags": []
          }
        },
        {
          "output_type": "display_data",
          "data": {
            "text/html": [
              "<span style=\"color:blue\"> |-units: 96</span>"
            ],
            "text/plain": [
              "<IPython.core.display.HTML object>"
            ]
          },
          "metadata": {
            "tags": []
          }
        }
      ]
    },
    {
      "cell_type": "markdown",
      "metadata": {
        "id": "8_p4ekRPyyui",
        "colab_type": "text"
      },
      "source": [
        "## Challenge\n",
        "\n",
        "Try to apply RandomSearchCV to your module project today. "
      ]
    },
    {
      "cell_type": "markdown",
      "metadata": {
        "id": "Plxehak7yyui",
        "colab_type": "text"
      },
      "source": [
        "# Review\n",
        "* <a href=\"#p1\">Part 1</a>: Describe the major hyperparemeters to tune\n",
        "    - Activation Functions\n",
        "    - Optimizer\n",
        "    - Number of Layers\n",
        "    - Number of Neurons\n",
        "    - Batch Size\n",
        "    - Dropout Regulaization\n",
        "    - Learning Rate\n",
        "    - Number of Epochs\n",
        "    - and many more\n",
        "* <a href=\"#p2\">Part 2</a>: Implement an experiment tracking framework\n",
        "    - Weights & Biases\n",
        "    - Comet.ml\n",
        "    - By Hand / GridSearch\n",
        "* <a href=\"#p3\">Part 3</a>: Search the hyperparameter space using RandomSearch\n",
        "    - Sklearn still useful (haha)\n",
        "    - Integration with Wieghts & Biases\n",
        "* <a href=\"#p4\">Part 4</a>: Discuss emerging hyperparameter tuning strategies\n",
        "    - Bayesian Optimization\n",
        "    - Hyperopt\n",
        "    - Genetic Evolution"
      ]
    },
    {
      "cell_type": "markdown",
      "metadata": {
        "id": "kXX0TFjwyyui",
        "colab_type": "text"
      },
      "source": [
        "# Sources"
      ]
    },
    {
      "cell_type": "markdown",
      "metadata": {
        "id": "XN32sGi6yyuj",
        "colab_type": "text"
      },
      "source": [
        "## Additional Reading\n",
        "- https://machinelearningmastery.com/grid-search-hyperparameters-deep-learning-models-python-keras/\n",
        "- https://blog.floydhub.com/guide-to-hyperparameters-search-for-deep-learning-models/\n",
        "- https://machinelearningmastery.com/dropout-regularization-deep-learning-models-keras/\n",
        "- https://machinelearningmastery.com/introduction-to-weight-constraints-to-reduce-generalization-error-in-deep-learning/\n",
        "- https://machinelearningmastery.com/how-to-configure-the-number-of-layers-and-nodes-in-a-neural-network/"
      ]
    }
  ]
}