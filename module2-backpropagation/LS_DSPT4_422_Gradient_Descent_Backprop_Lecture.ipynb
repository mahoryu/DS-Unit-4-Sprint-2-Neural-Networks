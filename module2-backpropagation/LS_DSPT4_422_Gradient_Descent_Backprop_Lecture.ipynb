{
 "cells": [
  {
   "cell_type": "markdown",
   "metadata": {},
   "source": [
    "Lambda School Data Science\n",
    "\n",
    "*Unit 4, Sprint 2, Module 2*\n",
    "\n",
    "---"
   ]
  },
  {
   "cell_type": "markdown",
   "metadata": {
    "toc-hr-collapsed": true
   },
   "source": [
    "# Backpropagation & Gradient Descent (Prepare)"
   ]
  },
  {
   "cell_type": "markdown",
   "metadata": {},
   "source": [
    "## Learning Objectives\n",
    "* <a href=\"#p1\">Part 1</a>: Explain the intutition behind backproprogation\n",
    "* <a href=\"#p2\">Part 2</a>: Implement gradient descent + backpropagation on a feedforward neural network. "
   ]
  },
  {
   "cell_type": "markdown",
   "metadata": {},
   "source": [
    "## Summary of Yesterday\n",
    "\n",
    "Yesterday, we learned about some of the principal components of Neural Networks: Neurons, Weights, Activation Functions, and layers (input, output, & hidden). Today, we will reinforce our understanding of those components and introduce the mechanics of training a neural network. Feed-forward neural networks, such as multi-layer perceptrons (MLPs), are almost always trained using some variation of gradient descent where the gradient has been calculated by backpropagation.\n",
    "\n",
    "<center><img src=\"https://cdn-images-1.medium.com/max/1600/1*_M4bZyuwaGby6KMiYVYXvg.jpeg\" width=\"400\"></center>\n",
    "\n",
    "- There are three kinds of layers: input, hidden, and output layers.\n",
    "- Each layer is made up of **n** individual neurons (aka activation units) which have a corresponding weight and bias.\n",
    "- Signal is passed from layer to layer through a network by:\n",
    " - Taking in inputs from the training data (or previous layer)\n",
    " - Multiplying each input by its corresponding weight (think arrow/connecting line)\n",
    " - Adding a bias to this weighted some of inputs and weights\n",
    " - Activating this weighted sum + bias by squishifying it with sigmoid or some other activation function. With a single perceptron with three inputs, calculating the output from the node is done like so:\n",
    "\\begin{align}\n",
    " y = sigmoid(\\sum(weight_{1}input_{1} + weight_{2}input_{2} + weight_{3}input_{3}) + bias)\n",
    "\\end{align}\n",
    " - this final activated value is the signal that gets passed onto the next layer of the network.\n",
    " \n",
    " "
   ]
  },
  {
   "cell_type": "markdown",
   "metadata": {},
   "source": [
    "## Training a Neural Network: *Formal Summary*\n",
    "\n",
    "0. Pick a network architecture\n",
    "   - No. of input units = No. of features\n",
    "   - No. of output units = Number of Classes (or expected targets)\n",
    "   - Select the number of hidden layers and number of neurons within each hidden layer\n",
    "1. Randomly initialize weights\n",
    "2. Implement forward propagation to get $h_{\\theta}(x^{(i)})$ for any $x^{(i)}$\n",
    "3. Implement code to compute a cost function $J(\\theta)$\n",
    "4. Implement backpropagation to compute partial derivatives $\\frac{\\delta}{\\delta\\theta_{jk}^{l}}{J(\\theta)}$\n",
    "5. Use gradient descent (or other advanced optimizer) with backpropagation to minimize $J(\\theta)$ as a function of parameters $\\theta\\$\n",
    "6. Repeat steps 2 - 5 until cost function is 'minimized' or some other stopping criteria is met. One pass over steps 2 - 5 is called an iteration or epoch."
   ]
  },
  {
   "cell_type": "markdown",
   "metadata": {
    "toc-hr-collapsed": false
   },
   "source": [
    "## Calculating *\"cost\"*, *\"loss\"* or *\"error\"*\n",
    "\n",
    "We've talked about how in order to evaluate a network's performance, the data is \"fed forward\" until predictions are obtained and then the \"loss\" or \"error\" for a given observation is ascertained by looking at what the network predicted for that observation and comparing it to what it *should* have predicted. \n",
    "\n",
    "The error for a given observation is calculated by taking the square of the difference between the predicted value and the actual value. \n",
    "\n",
    "We can summarize the overall quality of a network's predictions by finding the average error across all observations. This gives us the \"Mean Squared Error.\" which hopefully is a fairly familiar model evaluation metric by now. Graphing the MSE over each epoch (training cycle) is a common practice with Neural Networks. This is what you're seeing in the top right corner of the Tensorflow Playground website as the number of \"epochs\" climbs higher and higher."
   ]
  },
  {
   "cell_type": "markdown",
   "metadata": {},
   "source": [
    "## What is an \"Epoch\"?\n",
    "\n",
    "An \"Epoch\" is one cycle of passing our data forward through the network, measuring error given our specified cost function, and then -via gradient descent- updating weights within our network to hopefully improve the quality of our predictions on the next iteration."
   ]
  },
  {
   "cell_type": "markdown",
   "metadata": {},
   "source": [
    "### Batch vs Minibatch vs Stochastic Gradient Descent Epochs\n",
    "\n",
    "You may have heard these variations on the training process referenced in the 3Blue1Brown videos about backpropagation. \"Minibatch\" Gradient Descent means that instead of passing all of our data through the network for a given epoch (Batch GD), we just pass a randomized portion of our data through the network for each epoch. \n",
    "\n",
    "Stochastic Gradient Descent is when we make updates to our weights after forward propagating each individual training observation."
   ]
  },
  {
   "cell_type": "markdown",
   "metadata": {},
   "source": [
    "### A note about Hyperparameters\n",
    "\n",
    "Neural Networks have many more hyperparameters than other machine learning algorithms which is part of what makes them a beast to train.\n",
    "\n",
    "1. You need more data to train them on. \n",
    "2. They're complex so they take longer to train. \n",
    "3. They have lots and lots of hyperparameters which we need to find the most optimal combination of, so we might end up training our model dozens or hundreds of times with different combinations of hyperparameters in order to try and squeeze out a few more tenths of a percent of accuracy. "
   ]
  },
  {
   "cell_type": "markdown",
   "metadata": {
    "colab_type": "text",
    "id": "aM4CK1IarId4",
    "toc-hr-collapsed": false
   },
   "source": [
    "# Backpropagation (Learn)\n",
    "<a id=\"p1\"></a>"
   ]
  },
  {
   "cell_type": "markdown",
   "metadata": {
    "colab_type": "text",
    "id": "aM4CK1IarId4",
    "toc-hr-collapsed": false
   },
   "source": [
    "## Overview\n",
    "\n",
    "Backpropagation is short for [\"Backwards Propagation of errors\"](https://en.wikipedia.org/wiki/Backpropagation) and refers to a specific (rather calculus intensive) algorithm for how weights in a neural network are updated in reverse order at the end of each training epoch. Our purpose today is to demonstrate the backpropagation algorithm on a simple Feedforward Neural Network and in so doing help you get a grasp on the main process. If you want to understand all of the underlying calculus of how the gradients are calculated then you'll need to dive into it yourself, [3Blue1Brown's video is a great starting place](https://www.youtube.com/watch?v=tIeHLnjs5U8). I also highly recommend this Welch Labs series [Neural Networks Demystified](https://www.youtube.com/watch?v=bxe2T-V8XRs) if you want a rapid yet orderly walkthrough of the main intuitions and math behind the backpropagation algorithm. "
   ]
  },
  {
   "cell_type": "markdown",
   "metadata": {},
   "source": [
    "### What is a Gradient?\n",
    "\n",
    "> In vector calculus, the gradient is a multi-variable generalization of the derivative. \n",
    "\n",
    "The gradients that we will deal with today will be vector representations of the derivative of the activation function. "
   ]
  },
  {
   "cell_type": "markdown",
   "metadata": {
    "toc-hr-collapsed": false
   },
   "source": [
    "## Follow Along\n",
    "\n",
    "In this section, we will again implement a multi-layer perceptron using numpy. We'll focus on using a __Feed Forward Neural Network__ to predict test scores. "
   ]
  },
  {
   "cell_type": "markdown",
   "metadata": {
    "colab_type": "text",
    "id": "Dm2HPETcrgy6",
    "toc-hr-collapsed": true
   },
   "source": [
    "![231 Neural Network](https://cdn-images-1.medium.com/max/1600/1*IjY3wFF24sK9UhiOlf36Bw.png)"
   ]
  },
  {
   "cell_type": "markdown",
   "metadata": {
    "colab_type": "text",
    "id": "4d4tzpwO6B47"
   },
   "source": [
    "### Generate some Fake Data"
   ]
  },
  {
   "cell_type": "code",
   "execution_count": 1,
   "metadata": {
    "colab": {},
    "colab_type": "code",
    "id": "ERyVgeO_IWyV"
   },
   "outputs": [],
   "source": [
    "import numpy as np\n",
    "\n",
    "np.random.seed(812)\n",
    "\n",
    "# hours studying, hours sleep\n",
    "X = np.array(([2,9],\n",
    "              [1,5],\n",
    "              [3,6]), dtype=float)\n",
    "\n",
    "# Exam Scores\n",
    "y = np.array(([90],\n",
    "              [72],\n",
    "              [80]), dtype=float)\n",
    "\n",
    "# y = 2*hours_studying + 4*hours_sleeping + 50\n",
    "# ^ what the network is trying to learn"
   ]
  },
  {
   "cell_type": "markdown",
   "metadata": {},
   "source": [
    "### Feature Normalization"
   ]
  },
  {
   "cell_type": "code",
   "execution_count": 2,
   "metadata": {
    "colab": {},
    "colab_type": "code",
    "id": "cDeUBW6k4Ri4"
   },
   "outputs": [
    {
     "name": "stdout",
     "output_type": "stream",
     "text": [
      "Studying, Sleeping \n",
      " [[0.66666667 1.        ]\n",
      " [0.33333333 0.55555556]\n",
      " [1.         0.66666667]]\n",
      "Test Score \n",
      " [[0.9 ]\n",
      " [0.72]\n",
      " [0.8 ]]\n"
     ]
    }
   ],
   "source": [
    "# Normalizing Data on feature \n",
    "# Neural Network would probably do this on its own, but it will help us converge on a solution faster\n",
    "X = X / np.amax(X, axis=0)\n",
    "y = y / 100\n",
    "\n",
    "print(\"Studying, Sleeping \\n\", X)\n",
    "print(\"Test Score \\n\", y)"
   ]
  },
  {
   "cell_type": "markdown",
   "metadata": {
    "colab_type": "text",
    "id": "bgTf6vTS69Sw"
   },
   "source": [
    "### Neural Network Architecture\n",
    "Lets create a Neural_Network class to contain this functionality"
   ]
  },
  {
   "cell_type": "code",
   "execution_count": 3,
   "metadata": {
    "colab": {},
    "colab_type": "code",
    "id": "RUI8VSR5zyBv"
   },
   "outputs": [],
   "source": [
    "class NeuralNetwork: \n",
    "    \n",
    "    def __init__(self):\n",
    "        # Setup Arch\n",
    "        self.inputs = 2\n",
    "        self.hiddenNodes =3 \n",
    "        self.outputNodes = 1\n",
    "        \n",
    "        # Initialize Weights\n",
    "        # 2x3\n",
    "        self.weights1 = np.random.randn(self.inputs, self.hiddenNodes)\n",
    "        \n",
    "        # 3x1\n",
    "        self.weights2 = np.random.randn(self.hiddenNodes, self.outputNodes)"
   ]
  },
  {
   "cell_type": "markdown",
   "metadata": {
    "colab_type": "text",
    "id": "gbyT_FJ88IlK"
   },
   "source": [
    "### Randomly Initialize Weights\n",
    "How many random weights do we need to initialize? \"Fully-connected Layers\""
   ]
  },
  {
   "cell_type": "code",
   "execution_count": 4,
   "metadata": {
    "colab": {},
    "colab_type": "code",
    "id": "IreIDe6P8H0H"
   },
   "outputs": [],
   "source": [
    "nn = NeuralNetwork()"
   ]
  },
  {
   "cell_type": "code",
   "execution_count": 5,
   "metadata": {},
   "outputs": [
    {
     "name": "stdout",
     "output_type": "stream",
     "text": [
      "Layer 1 weights: \n",
      " [[ 2.48783189  0.11697987 -1.97118428]\n",
      " [-0.48325593 -1.50361209  0.57515126]]\n",
      "Layer 2 weights: \n",
      " [[-0.20672583]\n",
      " [ 0.41271104]\n",
      " [-0.57757999]]\n"
     ]
    }
   ],
   "source": [
    "print(\"Layer 1 weights: \\n\", nn.weights1)\n",
    "print(\"Layer 2 weights: \\n\", nn.weights2)"
   ]
  },
  {
   "cell_type": "markdown",
   "metadata": {
    "colab_type": "text",
    "id": "hbxDhyjQ-RwS"
   },
   "source": [
    "### Implement Feedforward Functionality\n",
    "\n",
    "After this step our neural network should be able to generate an output even though it has not been trained."
   ]
  },
  {
   "cell_type": "code",
   "execution_count": 6,
   "metadata": {
    "colab": {},
    "colab_type": "code",
    "id": "0gGivpEk-VdP"
   },
   "outputs": [],
   "source": [
    "class NeuralNetwork: \n",
    "    \n",
    "    def __init__(self):\n",
    "        # Setup Arch\n",
    "        self.inputs = 2\n",
    "        self.hiddenNodes =3 \n",
    "        self.outputNodes = 1\n",
    "        \n",
    "        # Initialize Weights\n",
    "        # 2x3\n",
    "        self.weights1 = np.random.randn(self.inputs, self.hiddenNodes)\n",
    "        \n",
    "        # 3x1\n",
    "        self.weights2 = np.random.randn(self.hiddenNodes, self.outputNodes)\n",
    "        \n",
    "    def sigmoid(self, s):\n",
    "        return 1 / (1+np.exp(-s))\n",
    "    \n",
    "    def feed_forward(self, X):\n",
    "        \"\"\"\n",
    "        Calculate the NN inference using feed forward.\n",
    "        \"\"\"\n",
    "        \n",
    "        # Weight Sum\n",
    "        self.hidden_sum = np.dot(X, self.weights1)\n",
    "        \n",
    "        # Activation\n",
    "        self.activated_hidden = self.sigmoid(self.hidden_sum)\n",
    "        \n",
    "        # Weighted Sum 2\n",
    "        self.output_sum = np.dot(self.activated_hidden, self.weights2)\n",
    "        \n",
    "        # Final Output\n",
    "        self.activated_output = self.sigmoid(self.output_sum)\n",
    "        \n",
    "        return self.activated_output"
   ]
  },
  {
   "cell_type": "code",
   "execution_count": 7,
   "metadata": {},
   "outputs": [
    {
     "data": {
      "text/plain": [
       "array([[0.66666667, 1.        ],\n",
       "       [0.33333333, 0.55555556],\n",
       "       [1.        , 0.66666667]])"
      ]
     },
     "execution_count": 7,
     "metadata": {},
     "output_type": "execute_result"
    }
   ],
   "source": [
    "X"
   ]
  },
  {
   "cell_type": "markdown",
   "metadata": {
    "colab_type": "text",
    "id": "a1pxdfmDAaJg"
   },
   "source": [
    "### Make a Prediction"
   ]
  },
  {
   "cell_type": "code",
   "execution_count": 8,
   "metadata": {},
   "outputs": [
    {
     "name": "stdout",
     "output_type": "stream",
     "text": [
      "intput [0.66666667 1.        ]\n",
      "output [0.25814933]\n"
     ]
    }
   ],
   "source": [
    "# Try to make a prediction with our updated 'net\n",
    "\n",
    "nn = NeuralNetwork()\n",
    "output = nn.feed_forward(X[0])\n",
    "print(\"intput\", X[0])\n",
    "print(\"output\", output)"
   ]
  },
  {
   "cell_type": "markdown",
   "metadata": {
    "colab_type": "text",
    "id": "3V61yNmAB2T5"
   },
   "source": [
    "### Calculate Error"
   ]
  },
  {
   "cell_type": "code",
   "execution_count": 9,
   "metadata": {},
   "outputs": [
    {
     "name": "stdout",
     "output_type": "stream",
     "text": [
      "[0.64185067]\n"
     ]
    }
   ],
   "source": [
    "error = y[0] - output\n",
    "print(error)"
   ]
  },
  {
   "cell_type": "code",
   "execution_count": 10,
   "metadata": {},
   "outputs": [
    {
     "name": "stdout",
     "output_type": "stream",
     "text": [
      "[[0.25814933]\n",
      " [0.33067192]\n",
      " [0.22642076]]\n",
      "[[0.64185067]\n",
      " [0.38932808]\n",
      " [0.57357924]]\n"
     ]
    }
   ],
   "source": [
    "output_all = nn.feed_forward(X)\n",
    "error_all = y - output_all\n",
    "print(output_all)\n",
    "print(error_all)"
   ]
  },
  {
   "cell_type": "markdown",
   "metadata": {
    "colab_type": "text",
    "id": "26wgCLU0TLvy"
   },
   "source": [
    "Why is my error so big?\n",
    "\n",
    "My error is so big because my prediction is low.\n",
    "\n",
    "Why are my prediction low?\n",
    "\n",
    "Because either:\n",
    "\n",
    "  1) Second layer **weights** are low\n",
    "  \n",
    "  (or)\n",
    "  \n",
    "  2) Activations coming from the first layer are low\n",
    "  \n",
    "How are activations from the first layer determined? \n",
    "\n",
    "  1) By inputs - fixed\n",
    "  \n",
    "  2) by **weights** - variable\n",
    "  \n",
    "The only thing that I have control over throughout this process in order to increase the value of my final predictions is to either increase weights in layer 2 or increase weights in layer 1. \n",
    "\n",
    "Imagine that you could only change your weights by a fixed amount. Say you have .3 and you have to split that up and disperse it over your weights so as to increase your predictions as much as possible. (This isn't actually what happens, but it will help us identify which weights we would benefit the most from moving.)\n",
    "\n",
    "I need to increase weights of my model somewhere, I'll get the biggest bang for my buck if I increase weights in places where I'm already seeing high activation values -because they end up getting multiplied together before being passed to the sigmoid function. \n",
    "\n",
    "> \"Neurons that fire together, wire together\""
   ]
  },
  {
   "cell_type": "markdown",
   "metadata": {
    "colab_type": "text",
    "id": "j_eyzItYIxgm"
   },
   "source": [
    "### Implement Backpropagation \n",
    "\n",
    "> *Assigning blame for bad predictions and delivering justice - repeatedly and a little bit at a time*\n",
    "\n",
    "What in our model could be causing our predictions to suck so bad? \n",
    "\n",
    "Well, we know that our inputs (X) and outputs (y) are correct, if they weren't then we would have bigger problems than understanding backpropagation.\n",
    "\n",
    "We also know that our activation function (sigmoid) is working correctly. It can't be blamed because it just does whatever we tell it to and transforms the data in a known way.\n",
    "\n",
    "So what are the potential culprits for these terrible predictions? The **weights** of our model. Here's the problem though. I have weights that exist in both layers of my model. How do I know if the weights in the first layer are to blame, or the second layer, or both? \n",
    "\n",
    "Lets investigate. And see if we can just eyeball what should be updated."
   ]
  },
  {
   "cell_type": "code",
   "execution_count": 11,
   "metadata": {},
   "outputs": [
    {
     "name": "stdout",
     "output_type": "stream",
     "text": [
      "weights1\n",
      " [[-1.75351135  1.23279898  0.24464757]\n",
      " [-0.06568225  0.30190098  0.79723428]] \n",
      "---------\n",
      "hidden_sum\n",
      " [[-1.23468981  1.12376697  0.96033266]\n",
      " [-0.62099392  0.57865576  0.52445712]\n",
      " [-1.79729952  1.4340663   0.77613709]] \n",
      "---------\n",
      "activated_hidden\n",
      " [[0.22536165 0.75468678 0.7231884 ]\n",
      " [0.34955543 0.64075804 0.6281894 ]\n",
      " [0.14218011 0.8075341  0.68484697]] \n",
      "---------\n",
      "weights2\n",
      " [[ 1.23073545]\n",
      " [-1.52187331]\n",
      " [-0.25502715]] \n",
      "---------\n",
      "activated_output\n",
      " [[0.25814933]\n",
      " [0.33067192]\n",
      " [0.22642076]] \n",
      "---------\n"
     ]
    },
    {
     "data": {
      "text/plain": [
       "[None, None, None, None, None]"
      ]
     },
     "execution_count": 11,
     "metadata": {},
     "output_type": "execute_result"
    }
   ],
   "source": [
    "attributes = ['weights1', 'hidden_sum', 'activated_hidden', 'weights2', 'activated_output']\n",
    "[print(i+'\\n', getattr(nn,i), '\\n'+'---'*3) for i in attributes if i[:2]!= '__'] "
   ]
  },
  {
   "cell_type": "markdown",
   "metadata": {
    "colab_type": "text",
    "id": "16Ujj6vNYQyX"
   },
   "source": [
    "### Backpropagation (Simple Overview)\n",
    "\n",
    "Our model has 9 total weights (6 in the first layer, 3 in the last layer) that could be off.\n",
    "\n",
    "1) Calculate Error for a given each observation\n",
    "\n",
    "2) Does the error indicate that I'm overestimating or underestimating in my prediction?\n",
    "\n",
    "3) Look at final layer weights to get an idea for which weights are helping pass desirable signals and which are stifling desirable signals\n",
    "\n",
    "4) Also go to the previous layer and see what can be done to boost activations that are associated with helpful weights, and limit activations that are associated with unhelpful weights."
   ]
  },
  {
   "cell_type": "markdown",
   "metadata": {
    "colab_type": "text",
    "id": "16Ujj6vNYQyX",
    "toc-hr-collapsed": true
   },
   "source": [
    "### Update Weights Based on Gradient\n",
    "\n",
    "Repeat steps 1-4 for every observation in a given batch, and then given the network's cost function, calculate its gradient using calculus and update weights associated with the (negative) gradient of the cost function. \n",
    "\n",
    "Remember that we have 9 weights in our network therefore the gradient that comes from our gradient descent calculation will be the vector that takes us in the most downward direction along some function in 9-dimensional hyperspace.\n",
    "\n",
    "\\begin{align}\n",
    "C(w1, w2, w3, w4, w5, w6, w7, w8, w9)\n",
    "\\end{align}\n",
    "\n",
    "You should also know that with neural networks it is common to have gradients that are not convex (like what we saw when we applied gradient descent to linear regression). Due to the high complexity of these models and their nonlinearity, it is common for gradient descent to get stuck in a local minimum, but there are ways to combat this:\n",
    "\n",
    "1) Stochastic Gradient Descent\n",
    "\n",
    "2) More advanced Gradient-Descent-based \"Optimizers\" - See Stretch Goals on assignment."
   ]
  },
  {
   "cell_type": "code",
   "execution_count": 12,
   "metadata": {},
   "outputs": [],
   "source": [
    "# I want activations that correspond to negative weights to be lower\n",
    "# and activations that correspond to positive weights to be higher\n",
    "\n",
    "class NeuralNetwork: \n",
    "    \n",
    "    def __init__(self):\n",
    "        # Setup Arch\n",
    "        self.inputs = 2\n",
    "        self.hiddenNodes =3 \n",
    "        self.outputNodes = 1\n",
    "        \n",
    "        # Initialize Weights\n",
    "        # 2x3\n",
    "        self.weights1 = np.random.randn(self.inputs, self.hiddenNodes)\n",
    "        \n",
    "        # 3x1\n",
    "        self.weights2 = np.random.randn(self.hiddenNodes, self.outputNodes)\n",
    "        \n",
    "    def sigmoid(self, s):\n",
    "        return 1 / (1+np.exp(-s))\n",
    "    \n",
    "    def sigmoidPrime(self, s):\n",
    "        sx = self.sigmoid(s)\n",
    "        return sx * (1-sx)\n",
    "    \n",
    "    def feed_forward(self, X):\n",
    "        \"\"\"\n",
    "        Calculate the NN inference using feed forward.\n",
    "        \"\"\"\n",
    "        \n",
    "        # Weight Sum\n",
    "        self.hidden_sum = np.dot(X, self.weights1)\n",
    "        \n",
    "        # Activation\n",
    "        self.activated_hidden = self.sigmoid(self.hidden_sum)\n",
    "        \n",
    "        # Weighted Sum 2\n",
    "        self.output_sum = np.dot(self.activated_hidden, self.weights2)\n",
    "        \n",
    "        # Final Output\n",
    "        self.activated_output = self.sigmoid(self.output_sum)\n",
    "        \n",
    "        return self.activated_output\n",
    "    \n",
    "    def backward(self, X,y,o):\n",
    "        \"\"\"\n",
    "        Back prop thru the network\n",
    "        \"\"\"\n",
    "        \n",
    "        self.o_error = y - o\n",
    "        \n",
    "        # Apply derivative of sigmoid to error\n",
    "        self.o_delta = self.o_error * self.sigmoidPrime(self.output_sum)\n",
    "        \n",
    "        # z2 error: how much were our output layer weights off\n",
    "        self.z2_error = self.o_delta.dot(self.weights2.T)\n",
    "        \n",
    "        # z2 delta: how much were the weights off?\n",
    "        self.z2_delta = self.z2_error*self.sigmoidPrime(self.hidden_sum)\n",
    "\n",
    "        self.weights1 += X.T.dot(self.z2_delta) #Adjust first set (input => hidden) weights\n",
    "        self.weights2 += self.activated_hidden.T.dot(self.o_delta) #adjust second set (hidden => output) weights\n",
    "        \n",
    "    def train(self, X, y):\n",
    "        o = self.feed_forward(X)\n",
    "        self.backward(X,y,o)"
   ]
  },
  {
   "cell_type": "markdown",
   "metadata": {
    "toc-hr-collapsed": true
   },
   "source": [
    "#### Let's look at the shape of the Gradient Componets\n"
   ]
  },
  {
   "cell_type": "code",
   "execution_count": 13,
   "metadata": {},
   "outputs": [],
   "source": [
    "#from reference import NeuralNetwork\n",
    "\n",
    "nn = NeuralNetwork()\n",
    "nn.train(X,y)"
   ]
  },
  {
   "cell_type": "markdown",
   "metadata": {},
   "source": [
    "##### Our Error Associated with Each Observation \n",
    "aka how wrong were we?"
   ]
  },
  {
   "cell_type": "code",
   "execution_count": 14,
   "metadata": {},
   "outputs": [
    {
     "data": {
      "text/plain": [
       "array([[0.60746115],\n",
       "       [0.46613403],\n",
       "       [0.53667427]])"
      ]
     },
     "execution_count": 14,
     "metadata": {},
     "output_type": "execute_result"
    }
   ],
   "source": [
    "nn.o_error"
   ]
  },
  {
   "cell_type": "markdown",
   "metadata": {},
   "source": [
    "##### 1st Gradient \n",
    "Simple interpretation - how much more sigmoid activation would have pushed us towards the right answer?\n",
    "\n",
    "`self.o_delta = self.o_error * self.sigmoidPrime(self.output_sum)`"
   ]
  },
  {
   "cell_type": "code",
   "execution_count": 15,
   "metadata": {},
   "outputs": [
    {
     "data": {
      "text/plain": [
       "array([[-0.88308525],\n",
       "       [-1.07809882],\n",
       "       [-1.02875405]])"
      ]
     },
     "execution_count": 15,
     "metadata": {},
     "output_type": "execute_result"
    }
   ],
   "source": [
    "nn.output_sum"
   ]
  },
  {
   "cell_type": "code",
   "execution_count": 16,
   "metadata": {},
   "outputs": [
    {
     "data": {
      "text/plain": [
       "array([[0.29253885],\n",
       "       [0.25386597],\n",
       "       [0.26332573]])"
      ]
     },
     "execution_count": 16,
     "metadata": {},
     "output_type": "execute_result"
    }
   ],
   "source": [
    "nn.sigmoid(nn.output_sum)"
   ]
  },
  {
   "cell_type": "code",
   "execution_count": 17,
   "metadata": {},
   "outputs": [
    {
     "data": {
      "text/plain": [
       "array([[0.20695987],\n",
       "       [0.18941804],\n",
       "       [0.19398529]])"
      ]
     },
     "execution_count": 17,
     "metadata": {},
     "output_type": "execute_result"
    }
   ],
   "source": [
    "nn.sigmoidPrime(nn.output_sum)"
   ]
  },
  {
   "cell_type": "code",
   "execution_count": 18,
   "metadata": {},
   "outputs": [
    {
     "data": {
      "text/plain": [
       "array([[0.12572008],\n",
       "       [0.08829419],\n",
       "       [0.10410691]])"
      ]
     },
     "execution_count": 18,
     "metadata": {},
     "output_type": "execute_result"
    }
   ],
   "source": [
    "nn.o_delta"
   ]
  },
  {
   "cell_type": "markdown",
   "metadata": {},
   "source": [
    "##### 2nd Error\n",
    "Justice hasn't been served yet - tho. We still have neurons to blame. Let's go back another layer. \n",
    "\n",
    "`self.z2_error = self.o_delta.dot(self.weights2.T)`\n",
    "\n",
    "__Discussion:__ Why is this shape different?"
   ]
  },
  {
   "cell_type": "code",
   "execution_count": 19,
   "metadata": {},
   "outputs": [
    {
     "data": {
      "text/plain": [
       "array([[-0.22405998, -0.1801229 ,  0.07127711],\n",
       "       [-0.15735907, -0.12650171,  0.05005847],\n",
       "       [-0.18554071, -0.14915707,  0.0590235 ]])"
      ]
     },
     "execution_count": 19,
     "metadata": {},
     "output_type": "execute_result"
    }
   ],
   "source": [
    "nn.z2_error"
   ]
  },
  {
   "cell_type": "markdown",
   "metadata": {},
   "source": [
    "##### 2nd Gradient\n",
    "For each observation, how much more sigmoid activation from this layer would have pushed us towards the right answer?\n",
    "\n",
    "`self.z2_delta = self.z2_error * self.sigmoidPrime(self.hidden_sum)`"
   ]
  },
  {
   "cell_type": "code",
   "execution_count": 20,
   "metadata": {},
   "outputs": [
    {
     "data": {
      "text/plain": [
       "array([[-0.05147205, -0.04168453,  0.01780458],\n",
       "       [-0.03808351, -0.03115659,  0.01251457],\n",
       "       [-0.04613442, -0.02419762,  0.01401073]])"
      ]
     },
     "execution_count": 20,
     "metadata": {},
     "output_type": "execute_result"
    }
   ],
   "source": [
    "nn.z2_delta"
   ]
  },
  {
   "cell_type": "code",
   "execution_count": 21,
   "metadata": {},
   "outputs": [
    {
     "data": {
      "text/plain": [
       "True"
      ]
     },
     "execution_count": 21,
     "metadata": {},
     "output_type": "execute_result"
    }
   ],
   "source": [
    "X.T.shape == nn.weights1.shape"
   ]
  },
  {
   "cell_type": "markdown",
   "metadata": {},
   "source": [
    "##### Descent\n",
    "\n",
    "*Discussion:* Input to Hidden Weight Update\n",
    "- We multiply the gradient by the inputs. Why?\n",
    "- Why do we need to transpose the inputs? "
   ]
  },
  {
   "cell_type": "code",
   "execution_count": 22,
   "metadata": {},
   "outputs": [
    {
     "data": {
      "text/plain": [
       "array([[0.66666667, 0.33333333, 1.        ],\n",
       "       [1.        , 0.55555556, 0.66666667]])"
      ]
     },
     "execution_count": 22,
     "metadata": {},
     "output_type": "execute_result"
    }
   ],
   "source": [
    "X.T"
   ]
  },
  {
   "cell_type": "code",
   "execution_count": 23,
   "metadata": {},
   "outputs": [
    {
     "data": {
      "text/plain": [
       "array([[-0.09314363, -0.06237284,  0.03005197],\n",
       "       [-0.10338584, -0.07512549,  0.0340976 ]])"
      ]
     },
     "execution_count": 23,
     "metadata": {},
     "output_type": "execute_result"
    }
   ],
   "source": [
    "X.T.dot(nn.z2_delta)"
   ]
  },
  {
   "cell_type": "code",
   "execution_count": 24,
   "metadata": {},
   "outputs": [
    {
     "data": {
      "text/plain": [
       "array([[-0.09314363, -0.06237284,  0.03005197],\n",
       "       [-0.10338584, -0.07512549,  0.0340976 ]])"
      ]
     },
     "execution_count": 24,
     "metadata": {},
     "output_type": "execute_result"
    }
   ],
   "source": [
    "X.T.dot(nn.z2_delta)"
   ]
  },
  {
   "cell_type": "markdown",
   "metadata": {},
   "source": [
    "*Discussion:* Hidden to Output Weight Update\n",
    "- Why is output the shape 3x1? \n",
    "- We multiply the gradient by the inputs. Why?\n",
    "- Why do we need to transpose the inputs?"
   ]
  },
  {
   "cell_type": "code",
   "execution_count": 25,
   "metadata": {},
   "outputs": [
    {
     "data": {
      "text/plain": [
       "array([[0.13709717],\n",
       "       [0.10570706],\n",
       "       [0.14546975]])"
      ]
     },
     "execution_count": 25,
     "metadata": {},
     "output_type": "execute_result"
    }
   ],
   "source": [
    "nn.activated_hidden.T.dot(nn.o_delta)"
   ]
  },
  {
   "cell_type": "markdown",
   "metadata": {},
   "source": [
    "### Train the Network (fo real this time)"
   ]
  },
  {
   "cell_type": "code",
   "execution_count": 26,
   "metadata": {},
   "outputs": [
    {
     "name": "stdout",
     "output_type": "stream",
     "text": [
      "+---------EPOCH 1---------+\n",
      "Input: \n",
      " [[0.66666667 1.        ]\n",
      " [0.33333333 0.55555556]\n",
      " [1.         0.66666667]]\n",
      "Actual Output: \n",
      " [[0.9 ]\n",
      " [0.72]\n",
      " [0.8 ]]\n",
      "Predicted Output: \n",
      " [[0.37771334]\n",
      " [0.41477855]\n",
      " [0.40348484]]\n",
      "Loss: \n",
      " 0.17438925217089843\n",
      "+---------EPOCH 2---------+\n",
      "Input: \n",
      " [[0.66666667 1.        ]\n",
      " [0.33333333 0.55555556]\n",
      " [1.         0.66666667]]\n",
      "Actual Output: \n",
      " [[0.9 ]\n",
      " [0.72]\n",
      " [0.8 ]]\n",
      "Predicted Output: \n",
      " [[0.46600841]\n",
      " [0.49415696]\n",
      " [0.48831231]]\n",
      "Loss: \n",
      " 0.11216766504960145\n",
      "+---------EPOCH 3---------+\n",
      "Input: \n",
      " [[0.66666667 1.        ]\n",
      " [0.33333333 0.55555556]\n",
      " [1.         0.66666667]]\n",
      "Actual Output: \n",
      " [[0.9 ]\n",
      " [0.72]\n",
      " [0.8 ]]\n",
      "Predicted Output: \n",
      " [[0.54158907]\n",
      " [0.56049596]\n",
      " [0.55974774]]\n",
      "Loss: \n",
      " 0.07054036236129774\n",
      "+---------EPOCH 4---------+\n",
      "Input: \n",
      " [[0.66666667 1.        ]\n",
      " [0.33333333 0.55555556]\n",
      " [1.         0.66666667]]\n",
      "Actual Output: \n",
      " [[0.9 ]\n",
      " [0.72]\n",
      " [0.8 ]]\n",
      "Predicted Output: \n",
      " [[0.59995339]\n",
      " [0.61107483]\n",
      " [0.61445312]]\n",
      "Loss: \n",
      " 0.04544010213424358\n",
      "+---------EPOCH 5---------+\n",
      "Input: \n",
      " [[0.66666667 1.        ]\n",
      " [0.33333333 0.55555556]\n",
      " [1.         0.66666667]]\n",
      "Actual Output: \n",
      " [[0.9 ]\n",
      " [0.72]\n",
      " [0.8 ]]\n",
      "Predicted Output: \n",
      " [[0.6433419 ]\n",
      " [0.6484747 ]\n",
      " [0.65498557]]\n",
      "Loss: \n",
      " 0.030672811712652893\n",
      "+---------EPOCH 1000---------+\n",
      "Input: \n",
      " [[0.66666667 1.        ]\n",
      " [0.33333333 0.55555556]\n",
      " [1.         0.66666667]]\n",
      "Actual Output: \n",
      " [[0.9 ]\n",
      " [0.72]\n",
      " [0.8 ]]\n",
      "Predicted Output: \n",
      " [[0.82268242]\n",
      " [0.78629293]\n",
      " [0.81241377]]\n",
      "Loss: \n",
      " 0.00350895417812754\n",
      "+---------EPOCH 2000---------+\n",
      "Input: \n",
      " [[0.66666667 1.        ]\n",
      " [0.33333333 0.55555556]\n",
      " [1.         0.66666667]]\n",
      "Actual Output: \n",
      " [[0.9 ]\n",
      " [0.72]\n",
      " [0.8 ]]\n",
      "Predicted Output: \n",
      " [[0.82439478]\n",
      " [0.78394768]\n",
      " [0.81150952]]\n",
      "Loss: \n",
      " 0.003312641348226292\n",
      "+---------EPOCH 3000---------+\n",
      "Input: \n",
      " [[0.66666667 1.        ]\n",
      " [0.33333333 0.55555556]\n",
      " [1.         0.66666667]]\n",
      "Actual Output: \n",
      " [[0.9 ]\n",
      " [0.72]\n",
      " [0.8 ]]\n",
      "Predicted Output: \n",
      " [[0.83101491]\n",
      " [0.77214288]\n",
      " [0.81268188]]\n",
      "Loss: \n",
      " 0.0025462174943048596\n",
      "+---------EPOCH 4000---------+\n",
      "Input: \n",
      " [[0.66666667 1.        ]\n",
      " [0.33333333 0.55555556]\n",
      " [1.         0.66666667]]\n",
      "Actual Output: \n",
      " [[0.9 ]\n",
      " [0.72]\n",
      " [0.8 ]]\n",
      "Predicted Output: \n",
      " [[0.84599519]\n",
      " [0.75320748]\n",
      " [0.81206729]]\n",
      "Loss: \n",
      " 0.0013882919781529242\n",
      "+---------EPOCH 5000---------+\n",
      "Input: \n",
      " [[0.66666667 1.        ]\n",
      " [0.33333333 0.55555556]\n",
      " [1.         0.66666667]]\n",
      "Actual Output: \n",
      " [[0.9 ]\n",
      " [0.72]\n",
      " [0.8 ]]\n",
      "Predicted Output: \n",
      " [[0.85837718]\n",
      " [0.74410449]\n",
      " [0.8074435 ]]\n",
      "Loss: \n",
      " 0.0007896304523830267\n",
      "+---------EPOCH 6000---------+\n",
      "Input: \n",
      " [[0.66666667 1.        ]\n",
      " [0.33333333 0.55555556]\n",
      " [1.         0.66666667]]\n",
      "Actual Output: \n",
      " [[0.9 ]\n",
      " [0.72]\n",
      " [0.8 ]]\n",
      "Predicted Output: \n",
      " [[0.86762851]\n",
      " [0.73843862]\n",
      " [0.80423041]]\n",
      "Loss: \n",
      " 0.0004685975146103611\n",
      "+---------EPOCH 7000---------+\n",
      "Input: \n",
      " [[0.66666667 1.        ]\n",
      " [0.33333333 0.55555556]\n",
      " [1.         0.66666667]]\n",
      "Actual Output: \n",
      " [[0.9 ]\n",
      " [0.72]\n",
      " [0.8 ]]\n",
      "Predicted Output: \n",
      " [[0.87444825]\n",
      " [0.73416474]\n",
      " [0.80269207]]\n",
      "Loss: \n",
      " 0.00028692628376692035\n",
      "+---------EPOCH 8000---------+\n",
      "Input: \n",
      " [[0.66666667 1.        ]\n",
      " [0.33333333 0.55555556]\n",
      " [1.         0.66666667]]\n",
      "Actual Output: \n",
      " [[0.9 ]\n",
      " [0.72]\n",
      " [0.8 ]]\n",
      "Predicted Output: \n",
      " [[0.87959742]\n",
      " [0.7309803 ]\n",
      " [0.80187561]]\n",
      "Loss: \n",
      " 0.0001801167224290982\n",
      "+---------EPOCH 9000---------+\n",
      "Input: \n",
      " [[0.66666667 1.        ]\n",
      " [0.33333333 0.55555556]\n",
      " [1.         0.66666667]]\n",
      "Actual Output: \n",
      " [[0.9 ]\n",
      " [0.72]\n",
      " [0.8 ]]\n",
      "Predicted Output: \n",
      " [[0.88356771]\n",
      " [0.72861137]\n",
      " [0.80137658]]\n",
      "Loss: \n",
      " 0.00011535693367094992\n",
      "+---------EPOCH 10000---------+\n",
      "Input: \n",
      " [[0.66666667 1.        ]\n",
      " [0.33333333 0.55555556]\n",
      " [1.         0.66666667]]\n",
      "Actual Output: \n",
      " [[0.9 ]\n",
      " [0.72]\n",
      " [0.8 ]]\n",
      "Predicted Output: \n",
      " [[0.88667507]\n",
      " [0.72682676]\n",
      " [0.80104389]]\n",
      "Loss: \n",
      " 7.50827629346271e-05\n"
     ]
    }
   ],
   "source": [
    "# Train my 'net\n",
    "nn = NeuralNetwork()\n",
    "\n",
    "# Number of Epochs / Iterations\n",
    "for i in range(10000):\n",
    "    if (i+1 in [1,2,3,4,5]) or ((i+1) % 1000 ==0):\n",
    "        print('+' + '---' * 3 + f'EPOCH {i+1}' + '---'*3 + '+')\n",
    "        print('Input: \\n', X)\n",
    "        print('Actual Output: \\n', y)\n",
    "        print('Predicted Output: \\n', str(nn.feed_forward(X)))\n",
    "        print(\"Loss: \\n\", str(np.mean(np.square(y - nn.feed_forward(X)))))\n",
    "    nn.train(X,y)"
   ]
  },
  {
   "cell_type": "markdown",
   "metadata": {},
   "source": [
    "## Challenge\n",
    "\n",
    "In the module project, you will implement backpropagation inside a multi-layer perceptron (aka a feedforward neural network). "
   ]
  },
  {
   "cell_type": "markdown",
   "metadata": {},
   "source": [
    "# Stochastic Gradient Descent (Learn)"
   ]
  },
  {
   "cell_type": "markdown",
   "metadata": {},
   "source": [
    "## Overview\n",
    "\n",
    "The What - Stochastic Gradient Descent calculates an approximation of the gradient over the entire dataset by reviewing the predictions of a random sample. \n",
    "\n",
    "The Why - *Speed*. Calculating the gradient over the entire dataset is extremely expensive computationally. "
   ]
  },
  {
   "cell_type": "markdown",
   "metadata": {
    "colab_type": "text",
    "id": "ZF7UE-KluPsX"
   },
   "source": [
    "## Follow Along\n",
    "\n",
    "A true Stochastic GD-based implementation from [Welch Labs](https://www.youtube.com/watch?v=bxe2T-V8XRs)"
   ]
  },
  {
   "cell_type": "code",
   "execution_count": 27,
   "metadata": {},
   "outputs": [],
   "source": [
    "class Neural_Network(object):\n",
    "    def __init__(self):        \n",
    "        #Define Hyperparameters\n",
    "        self.inputLayerSize = 2\n",
    "        self.outputLayerSize = 1\n",
    "        self.hiddenLayerSize = 3\n",
    "        \n",
    "        #Weights (parameters)\n",
    "        self.W1 = np.random.randn(self.inputLayerSize,self.hiddenLayerSize)\n",
    "        self.W2 = np.random.randn(self.hiddenLayerSize,self.outputLayerSize)\n",
    "        \n",
    "    def forward(self, X):\n",
    "        #Propogate inputs though network\n",
    "        self.z2 = np.dot(X, self.W1)\n",
    "        self.a2 = self.sigmoid(self.z2)\n",
    "        self.z3 = np.dot(self.a2, self.W2)\n",
    "        yHat = self.sigmoid(self.z3) \n",
    "        return yHat\n",
    "        \n",
    "    def sigmoid(self, z):\n",
    "        #Apply sigmoid activation function to scalar, vector, or matrix\n",
    "        return 1/(1+np.exp(-z))\n",
    "    \n",
    "    def sigmoidPrime(self,z):\n",
    "        #Gradient of sigmoid\n",
    "        return np.exp(-z)/((1+np.exp(-z))**2)\n",
    "    \n",
    "    def costFunction(self, X, y):\n",
    "        #Compute cost for given X,y, use weights already stored in class.\n",
    "        self.yHat = self.forward(X)\n",
    "        J = 0.5*sum((y-self.yHat)**2)\n",
    "        return J\n",
    "        \n",
    "    def costFunctionPrime(self, X, y):\n",
    "        #Compute derivative with respect to W and W2 for a given X and y:\n",
    "        self.yHat = self.forward(X)\n",
    "        \n",
    "        delta3 = np.multiply(-(y-self.yHat), self.sigmoidPrime(self.z3))\n",
    "        dJdW2 = np.dot(self.a2.T, delta3)\n",
    "        \n",
    "        delta2 = np.dot(delta3, self.W2.T)*self.sigmoidPrime(self.z2)\n",
    "        dJdW1 = np.dot(X.T, delta2)  \n",
    "        \n",
    "        return dJdW1, dJdW2\n",
    "    \n",
    "    #Helper Functions for interacting with other classes:\n",
    "    def getParams(self):\n",
    "        #Get W1 and W2 unrolled into vector:\n",
    "        params = np.concatenate((self.W1.ravel(), self.W2.ravel()))\n",
    "        return params\n",
    "    \n",
    "    def setParams(self, params):\n",
    "        #Set W1 and W2 using single paramater vector.\n",
    "        W1_start = 0\n",
    "        W1_end = self.hiddenLayerSize * self.inputLayerSize\n",
    "        self.W1 = np.reshape(params[W1_start:W1_end], (self.inputLayerSize , self.hiddenLayerSize))\n",
    "        W2_end = W1_end + self.hiddenLayerSize*self.outputLayerSize\n",
    "        self.W2 = np.reshape(params[W1_end:W2_end], (self.hiddenLayerSize, self.outputLayerSize))\n",
    "        \n",
    "    def computeGradients(self, X, y):\n",
    "        dJdW1, dJdW2 = self.costFunctionPrime(X, y)\n",
    "        return np.concatenate((dJdW1.ravel(), dJdW2.ravel()))"
   ]
  },
  {
   "cell_type": "code",
   "execution_count": 28,
   "metadata": {
    "colab": {},
    "colab_type": "code",
    "id": "uA9LaTgKr6rP"
   },
   "outputs": [],
   "source": [
    "from scipy import optimize\n",
    "class trainer(object):\n",
    "    def __init__(self, N):\n",
    "        #Make Local reference to network:\n",
    "        self.N = N\n",
    "        \n",
    "    def callbackF(self, params):\n",
    "        self.N.setParams(params)\n",
    "        self.J.append(self.N.costFunction(self.X, self.y))   \n",
    "        \n",
    "    def costFunctionWrapper(self, params, X, y):\n",
    "        self.N.setParams(params)\n",
    "        cost = self.N.costFunction(X, y)\n",
    "        grad = self.N.computeGradients(X,y)\n",
    "        \n",
    "        return cost, grad\n",
    "        \n",
    "    def train(self, X, y):\n",
    "        #Make an internal variable for the callback function:\n",
    "        self.X = X\n",
    "        self.y = y\n",
    "\n",
    "        #Make empty list to store costs:\n",
    "        self.J = []\n",
    "        \n",
    "        params0 = self.N.getParams()\n",
    "\n",
    "        options = {'maxiter': 200, 'disp' : True}\n",
    "        _res = optimize.minimize(self.costFunctionWrapper, params0, jac=True, method='BFGS', \\\n",
    "                                 args=(X, y), options=options, callback=self.callbackF)\n",
    "\n",
    "        self.N.setParams(_res.x)\n",
    "        self.optimizationResults = _res"
   ]
  },
  {
   "cell_type": "code",
   "execution_count": 29,
   "metadata": {
    "colab": {},
    "colab_type": "code",
    "id": "g_kHb6Se1u9y"
   },
   "outputs": [],
   "source": [
    "NN = Neural_Network()"
   ]
  },
  {
   "cell_type": "code",
   "execution_count": 30,
   "metadata": {
    "colab": {},
    "colab_type": "code",
    "id": "hYYVhFf4rn3q"
   },
   "outputs": [],
   "source": [
    "T = trainer(NN)"
   ]
  },
  {
   "cell_type": "code",
   "execution_count": 31,
   "metadata": {
    "colab": {
     "base_uri": "https://localhost:8080/",
     "height": 104
    },
    "colab_type": "code",
    "id": "L-gYdVfgrysE",
    "outputId": "ae371bf9-692c-49b4-b165-8562dab9c06e"
   },
   "outputs": [
    {
     "name": "stdout",
     "output_type": "stream",
     "text": [
      "Optimization terminated successfully.\n",
      "         Current function value: 0.000000\n",
      "         Iterations: 67\n",
      "         Function evaluations: 83\n",
      "         Gradient evaluations: 83\n"
     ]
    }
   ],
   "source": [
    "T.train(X,y)"
   ]
  },
  {
   "cell_type": "code",
   "execution_count": 32,
   "metadata": {
    "colab": {
     "base_uri": "https://localhost:8080/",
     "height": 121
    },
    "colab_type": "code",
    "id": "Jyv_L8Z2sKOA",
    "outputId": "08725651-6d21-401b-85c0-3487370b8bc0"
   },
   "outputs": [
    {
     "name": "stdout",
     "output_type": "stream",
     "text": [
      "Predicted Output: \n",
      "[[0.89997748]\n",
      " [0.71999704]\n",
      " [0.80001258]]\n",
      "Loss: \n",
      "2.2470751910666767e-10\n"
     ]
    }
   ],
   "source": [
    "print(\"Predicted Output: \\n\" + str(NN.forward(X))) \n",
    "print(\"Loss: \\n\" + str(np.mean(np.square(y - NN.forward(X))))) # mean sum squared loss"
   ]
  },
  {
   "cell_type": "code",
   "execution_count": 33,
   "metadata": {
    "colab": {
     "base_uri": "https://localhost:8080/",
     "height": 361
    },
    "colab_type": "code",
    "id": "Gtf9WI9FtGPk",
    "outputId": "d062b2a3-5a92-403e-8ce0-c070aa79907b"
   },
   "outputs": [
    {
     "data": {
      "image/png": "[encoded data removed]",
      "text/plain": [
       "<Figure size 432x288 with 1 Axes>"
      ]
     },
     "metadata": {
      "needs_background": "light"
     },
     "output_type": "display_data"
    }
   ],
   "source": [
    "import matplotlib.pyplot as plt\n",
    "plt.plot(T.J)\n",
    "plt.xlabel('Iterations')\n",
    "plt.ylabel('Cost')\n",
    "plt.show()     "
   ]
  },
  {
   "cell_type": "markdown",
   "metadata": {},
   "source": [
    "## Challenge\n",
    "\n",
    "This is a reference implementation for you to explore. You will not be expected to apply it to today's module project. "
   ]
  },
  {
   "cell_type": "code",
   "execution_count": 34,
   "metadata": {},
   "outputs": [],
   "source": [
    "#y = 2*hours_studying + 4*hours_sleeping + 50\n",
    "import numpy as np\n",
    "from tensorflow.keras.models import Sequential\n",
    "from tensorflow.keras.layers import Dense"
   ]
  },
  {
   "cell_type": "code",
   "execution_count": 37,
   "metadata": {},
   "outputs": [],
   "source": [
    "def make_samples(n=1000):\n",
    "    \n",
    "    study = np.random.uniform(1,5,(n,1))\n",
    "    sleep = np.random.uniform(1,6,(n,1))\n",
    "    \n",
    "    y = 2*study + 4*sleep + 50\n",
    "    \n",
    "    X = np.append(study,sleep, axis=1)\n",
    "    \n",
    "    X = X / np.amax(X, axis=0)\n",
    "    y = y / 100\n",
    "    \n",
    "    return X,y"
   ]
  },
  {
   "cell_type": "code",
   "execution_count": 38,
   "metadata": {},
   "outputs": [],
   "source": [
    "X,y = make_samples()"
   ]
  },
  {
   "cell_type": "code",
   "execution_count": 40,
   "metadata": {},
   "outputs": [
    {
     "data": {
      "text/plain": [
       "array([0.70063648, 0.4498957 ])"
      ]
     },
     "execution_count": 40,
     "metadata": {},
     "output_type": "execute_result"
    }
   ],
   "source": [
    "X[0]"
   ]
  },
  {
   "cell_type": "code",
   "execution_count": null,
   "metadata": {},
   "outputs": [],
   "source": [
    "# model = Sequential()\n",
    "# model.add(Dense(....))\n",
    "# model.add(Dense(1))"
   ]
  },
  {
   "cell_type": "code",
   "execution_count": 41,
   "metadata": {},
   "outputs": [
    {
     "name": "stdout",
     "output_type": "stream",
     "text": [
      "Epoch 1/100\n",
      "32/32 [==============================] - 0s 727us/step - loss: 0.0030 - mae: 0.0447 - mse: 0.0030\n",
      "Epoch 2/100\n",
      "32/32 [==============================] - 0s 733us/step - loss: 0.0029 - mae: 0.0443 - mse: 0.0029\n",
      "Epoch 3/100\n",
      "32/32 [==============================] - 0s 658us/step - loss: 0.0029 - mae: 0.0439 - mse: 0.0029\n",
      "Epoch 4/100\n",
      "32/32 [==============================] - 0s 678us/step - loss: 0.0029 - mae: 0.0436 - mse: 0.0029\n",
      "Epoch 5/100\n",
      "32/32 [==============================] - 0s 592us/step - loss: 0.0028 - mae: 0.0433 - mse: 0.0028\n",
      "Epoch 6/100\n",
      "32/32 [==============================] - 0s 463us/step - loss: 0.0028 - mae: 0.0430 - mse: 0.0028\n",
      "Epoch 7/100\n",
      "32/32 [==============================] - 0s 826us/step - loss: 0.0027 - mae: 0.0428 - mse: 0.0027\n",
      "Epoch 8/100\n",
      "32/32 [==============================] - 0s 593us/step - loss: 0.0027 - mae: 0.0426 - mse: 0.0027\n",
      "Epoch 9/100\n",
      "32/32 [==============================] - 0s 486us/step - loss: 0.0027 - mae: 0.0423 - mse: 0.0027\n",
      "Epoch 10/100\n",
      "32/32 [==============================] - 0s 615us/step - loss: 0.0026 - mae: 0.0422 - mse: 0.0026\n",
      "Epoch 11/100\n",
      "32/32 [==============================] - 0s 586us/step - loss: 0.0026 - mae: 0.0420 - mse: 0.0026\n",
      "Epoch 12/100\n",
      "32/32 [==============================] - 0s 602us/step - loss: 0.0026 - mae: 0.0418 - mse: 0.0026\n",
      "Epoch 13/100\n",
      "32/32 [==============================] - 0s 595us/step - loss: 0.0026 - mae: 0.0417 - mse: 0.0026\n",
      "Epoch 14/100\n",
      "32/32 [==============================] - 0s 805us/step - loss: 0.0026 - mae: 0.0416 - mse: 0.0026\n",
      "Epoch 15/100\n",
      "32/32 [==============================] - 0s 640us/step - loss: 0.0025 - mae: 0.0414 - mse: 0.0025\n",
      "Epoch 16/100\n",
      "32/32 [==============================] - 0s 582us/step - loss: 0.0025 - mae: 0.0413 - mse: 0.0025\n",
      "Epoch 17/100\n",
      "32/32 [==============================] - 0s 678us/step - loss: 0.0025 - mae: 0.0412 - mse: 0.0025\n",
      "Epoch 18/100\n",
      "32/32 [==============================] - 0s 636us/step - loss: 0.0025 - mae: 0.0411 - mse: 0.0025\n",
      "Epoch 19/100\n",
      "32/32 [==============================] - 0s 498us/step - loss: 0.0025 - mae: 0.0411 - mse: 0.0025\n",
      "Epoch 20/100\n",
      "32/32 [==============================] - 0s 625us/step - loss: 0.0025 - mae: 0.0410 - mse: 0.0025\n",
      "Epoch 21/100\n",
      "32/32 [==============================] - 0s 603us/step - loss: 0.0025 - mae: 0.0409 - mse: 0.0025\n",
      "Epoch 22/100\n",
      "32/32 [==============================] - 0s 649us/step - loss: 0.0025 - mae: 0.0408 - mse: 0.0025\n",
      "Epoch 23/100\n",
      "32/32 [==============================] - 0s 581us/step - loss: 0.0025 - mae: 0.0408 - mse: 0.0025\n",
      "Epoch 24/100\n",
      "32/32 [==============================] - 0s 582us/step - loss: 0.0025 - mae: 0.0407 - mse: 0.0025\n",
      "Epoch 25/100\n",
      "32/32 [==============================] - 0s 673us/step - loss: 0.0024 - mae: 0.0407 - mse: 0.0024\n",
      "Epoch 26/100\n",
      "32/32 [==============================] - 0s 616us/step - loss: 0.0024 - mae: 0.0406 - mse: 0.0024\n",
      "Epoch 27/100\n",
      "32/32 [==============================] - 0s 651us/step - loss: 0.0024 - mae: 0.0406 - mse: 0.0024\n",
      "Epoch 28/100\n",
      "32/32 [==============================] - 0s 542us/step - loss: 0.0024 - mae: 0.0406 - mse: 0.0024\n",
      "Epoch 29/100\n",
      "32/32 [==============================] - 0s 640us/step - loss: 0.0024 - mae: 0.0405 - mse: 0.0024\n",
      "Epoch 30/100\n",
      "32/32 [==============================] - 0s 514us/step - loss: 0.0024 - mae: 0.0405 - mse: 0.0024\n",
      "Epoch 31/100\n",
      "32/32 [==============================] - 0s 633us/step - loss: 0.0024 - mae: 0.0405 - mse: 0.0024\n",
      "Epoch 32/100\n",
      "32/32 [==============================] - 0s 620us/step - loss: 0.0024 - mae: 0.0405 - mse: 0.0024\n",
      "Epoch 33/100\n",
      "32/32 [==============================] - 0s 574us/step - loss: 0.0024 - mae: 0.0405 - mse: 0.0024\n",
      "Epoch 34/100\n",
      "32/32 [==============================] - 0s 556us/step - loss: 0.0024 - mae: 0.0404 - mse: 0.0024\n",
      "Epoch 35/100\n",
      "32/32 [==============================] - 0s 642us/step - loss: 0.0024 - mae: 0.0404 - mse: 0.0024\n",
      "Epoch 36/100\n",
      "32/32 [==============================] - 0s 626us/step - loss: 0.0024 - mae: 0.0404 - mse: 0.0024\n",
      "Epoch 37/100\n",
      "32/32 [==============================] - 0s 665us/step - loss: 0.0024 - mae: 0.0404 - mse: 0.0024\n",
      "Epoch 38/100\n",
      "32/32 [==============================] - 0s 621us/step - loss: 0.0024 - mae: 0.0404 - mse: 0.0024\n",
      "Epoch 39/100\n",
      "32/32 [==============================] - 0s 546us/step - loss: 0.0024 - mae: 0.0404 - mse: 0.0024\n",
      "Epoch 40/100\n",
      "32/32 [==============================] - 0s 628us/step - loss: 0.0024 - mae: 0.0404 - mse: 0.0024\n",
      "Epoch 41/100\n",
      "32/32 [==============================] - 0s 569us/step - loss: 0.0024 - mae: 0.0403 - mse: 0.0024\n",
      "Epoch 42/100\n",
      "32/32 [==============================] - 0s 557us/step - loss: 0.0024 - mae: 0.0403 - mse: 0.0024\n",
      "Epoch 43/100\n",
      "32/32 [==============================] - 0s 626us/step - loss: 0.0024 - mae: 0.0403 - mse: 0.0024\n",
      "Epoch 44/100\n",
      "32/32 [==============================] - 0s 574us/step - loss: 0.0024 - mae: 0.0403 - mse: 0.0024\n",
      "Epoch 45/100\n",
      "32/32 [==============================] - 0s 572us/step - loss: 0.0024 - mae: 0.0403 - mse: 0.0024\n",
      "Epoch 46/100\n",
      "32/32 [==============================] - 0s 621us/step - loss: 0.0024 - mae: 0.0403 - mse: 0.0024\n",
      "Epoch 47/100\n",
      "32/32 [==============================] - 0s 623us/step - loss: 0.0024 - mae: 0.0403 - mse: 0.0024\n",
      "Epoch 48/100\n",
      "32/32 [==============================] - 0s 622us/step - loss: 0.0024 - mae: 0.0403 - mse: 0.0024\n",
      "Epoch 49/100\n",
      "32/32 [==============================] - 0s 566us/step - loss: 0.0024 - mae: 0.0403 - mse: 0.0024\n",
      "Epoch 50/100\n",
      "32/32 [==============================] - 0s 588us/step - loss: 0.0024 - mae: 0.0403 - mse: 0.0024\n",
      "Epoch 51/100\n",
      "32/32 [==============================] - 0s 616us/step - loss: 0.0024 - mae: 0.0403 - mse: 0.0024\n",
      "Epoch 52/100\n",
      "32/32 [==============================] - 0s 615us/step - loss: 0.0024 - mae: 0.0402 - mse: 0.0024\n",
      "Epoch 53/100\n",
      "32/32 [==============================] - 0s 586us/step - loss: 0.0024 - mae: 0.0402 - mse: 0.0024\n",
      "Epoch 54/100\n",
      "32/32 [==============================] - 0s 544us/step - loss: 0.0024 - mae: 0.0402 - mse: 0.0024\n",
      "Epoch 55/100\n",
      "32/32 [==============================] - 0s 685us/step - loss: 0.0024 - mae: 0.0402 - mse: 0.0024\n",
      "Epoch 56/100\n",
      "32/32 [==============================] - 0s 522us/step - loss: 0.0024 - mae: 0.0402 - mse: 0.0024\n",
      "Epoch 57/100\n",
      "32/32 [==============================] - 0s 670us/step - loss: 0.0024 - mae: 0.0402 - mse: 0.0024\n",
      "Epoch 58/100\n",
      "32/32 [==============================] - 0s 582us/step - loss: 0.0024 - mae: 0.0402 - mse: 0.0024\n",
      "Epoch 59/100\n",
      "32/32 [==============================] - 0s 633us/step - loss: 0.0024 - mae: 0.0402 - mse: 0.0024\n",
      "Epoch 60/100\n",
      "32/32 [==============================] - 0s 645us/step - loss: 0.0024 - mae: 0.0402 - mse: 0.0024\n",
      "Epoch 61/100\n",
      "32/32 [==============================] - 0s 610us/step - loss: 0.0024 - mae: 0.0402 - mse: 0.0024\n",
      "Epoch 62/100\n",
      "32/32 [==============================] - 0s 632us/step - loss: 0.0024 - mae: 0.0402 - mse: 0.0024\n",
      "Epoch 63/100\n",
      "32/32 [==============================] - 0s 651us/step - loss: 0.0024 - mae: 0.0402 - mse: 0.0024\n",
      "Epoch 64/100\n",
      "32/32 [==============================] - 0s 539us/step - loss: 0.0024 - mae: 0.0402 - mse: 0.0024\n",
      "Epoch 65/100\n",
      "32/32 [==============================] - 0s 624us/step - loss: 0.0024 - mae: 0.0402 - mse: 0.0024\n",
      "Epoch 66/100\n",
      "32/32 [==============================] - 0s 560us/step - loss: 0.0024 - mae: 0.0401 - mse: 0.0024\n",
      "Epoch 67/100\n",
      "32/32 [==============================] - 0s 610us/step - loss: 0.0024 - mae: 0.0401 - mse: 0.0024\n",
      "Epoch 68/100\n",
      "32/32 [==============================] - 0s 661us/step - loss: 0.0024 - mae: 0.0401 - mse: 0.0024\n",
      "Epoch 69/100\n",
      "32/32 [==============================] - 0s 552us/step - loss: 0.0024 - mae: 0.0401 - mse: 0.0024\n",
      "Epoch 70/100\n",
      "32/32 [==============================] - 0s 488us/step - loss: 0.0024 - mae: 0.0401 - mse: 0.0024\n",
      "Epoch 71/100\n",
      "32/32 [==============================] - 0s 588us/step - loss: 0.0024 - mae: 0.0401 - mse: 0.0024\n",
      "Epoch 72/100\n",
      "32/32 [==============================] - 0s 744us/step - loss: 0.0024 - mae: 0.0401 - mse: 0.0024\n",
      "Epoch 73/100\n",
      "32/32 [==============================] - 0s 570us/step - loss: 0.0024 - mae: 0.0401 - mse: 0.0024\n",
      "Epoch 74/100\n"
     ]
    },
    {
     "name": "stdout",
     "output_type": "stream",
     "text": [
      "32/32 [==============================] - 0s 562us/step - loss: 0.0024 - mae: 0.0401 - mse: 0.0024\n",
      "Epoch 75/100\n",
      "32/32 [==============================] - 0s 680us/step - loss: 0.0024 - mae: 0.0401 - mse: 0.0024\n",
      "Epoch 76/100\n",
      "32/32 [==============================] - 0s 684us/step - loss: 0.0024 - mae: 0.0401 - mse: 0.0024\n",
      "Epoch 77/100\n",
      "32/32 [==============================] - 0s 565us/step - loss: 0.0024 - mae: 0.0401 - mse: 0.0024\n",
      "Epoch 78/100\n",
      "32/32 [==============================] - 0s 587us/step - loss: 0.0024 - mae: 0.0401 - mse: 0.0024\n",
      "Epoch 79/100\n",
      "32/32 [==============================] - 0s 609us/step - loss: 0.0024 - mae: 0.0401 - mse: 0.0024\n",
      "Epoch 80/100\n",
      "32/32 [==============================] - 0s 584us/step - loss: 0.0023 - mae: 0.0401 - mse: 0.0023\n",
      "Epoch 81/100\n",
      "32/32 [==============================] - 0s 674us/step - loss: 0.0023 - mae: 0.0400 - mse: 0.0023\n",
      "Epoch 82/100\n",
      "32/32 [==============================] - 0s 569us/step - loss: 0.0023 - mae: 0.0400 - mse: 0.0023\n",
      "Epoch 83/100\n",
      "32/32 [==============================] - 0s 622us/step - loss: 0.0023 - mae: 0.0400 - mse: 0.0023\n",
      "Epoch 84/100\n",
      "32/32 [==============================] - 0s 780us/step - loss: 0.0023 - mae: 0.0400 - mse: 0.0023\n",
      "Epoch 85/100\n",
      "32/32 [==============================] - 0s 570us/step - loss: 0.0023 - mae: 0.0400 - mse: 0.0023\n",
      "Epoch 86/100\n",
      "32/32 [==============================] - 0s 594us/step - loss: 0.0023 - mae: 0.0400 - mse: 0.0023\n",
      "Epoch 87/100\n",
      "32/32 [==============================] - 0s 541us/step - loss: 0.0023 - mae: 0.0400 - mse: 0.0023\n",
      "Epoch 88/100\n",
      "32/32 [==============================] - 0s 578us/step - loss: 0.0023 - mae: 0.0400 - mse: 0.0023\n",
      "Epoch 89/100\n",
      "32/32 [==============================] - 0s 608us/step - loss: 0.0023 - mae: 0.0400 - mse: 0.0023\n",
      "Epoch 90/100\n",
      "32/32 [==============================] - 0s 513us/step - loss: 0.0023 - mae: 0.0400 - mse: 0.0023\n",
      "Epoch 91/100\n",
      "32/32 [==============================] - 0s 582us/step - loss: 0.0023 - mae: 0.0400 - mse: 0.0023\n",
      "Epoch 92/100\n",
      "32/32 [==============================] - 0s 660us/step - loss: 0.0023 - mae: 0.0400 - mse: 0.0023\n",
      "Epoch 93/100\n",
      "32/32 [==============================] - 0s 628us/step - loss: 0.0023 - mae: 0.0400 - mse: 0.0023\n",
      "Epoch 94/100\n",
      "32/32 [==============================] - 0s 630us/step - loss: 0.0023 - mae: 0.0400 - mse: 0.0023\n",
      "Epoch 95/100\n",
      "32/32 [==============================] - 0s 606us/step - loss: 0.0023 - mae: 0.0399 - mse: 0.0023\n",
      "Epoch 96/100\n",
      "32/32 [==============================] - 0s 649us/step - loss: 0.0023 - mae: 0.0399 - mse: 0.0023\n",
      "Epoch 97/100\n",
      "32/32 [==============================] - 0s 611us/step - loss: 0.0023 - mae: 0.0399 - mse: 0.0023\n",
      "Epoch 98/100\n",
      "32/32 [==============================] - 0s 563us/step - loss: 0.0023 - mae: 0.0399 - mse: 0.0023\n",
      "Epoch 99/100\n",
      "32/32 [==============================] - 0s 584us/step - loss: 0.0023 - mae: 0.0399 - mse: 0.0023\n",
      "Epoch 100/100\n",
      "32/32 [==============================] - 0s 625us/step - loss: 0.0023 - mae: 0.0399 - mse: 0.0023\n"
     ]
    }
   ],
   "source": [
    "model = Sequential([\n",
    "    Dense(3, activation='sigmoid', input_dim=2),\n",
    "    Dense(1, activation='sigmoid')\n",
    "])\n",
    "\n",
    "# compling is a key part of this - only metrics of the below is optinal\n",
    "model.compile(optimizer='sgd', loss='mse', metrics=['mae', 'mse'])\n",
    "\n",
    "results = model.fit(X,y, epochs=100)"
   ]
  },
  {
   "cell_type": "code",
   "execution_count": 42,
   "metadata": {},
   "outputs": [
    {
     "name": "stdout",
     "output_type": "stream",
     "text": [
      "Epoch 1/100\n",
      "32/32 [==============================] - 0s 602us/step - loss: 0.0653 - mae: 0.2141 - mse: 0.0653\n",
      "Epoch 2/100\n",
      "32/32 [==============================] - 0s 632us/step - loss: 0.0079 - mae: 0.0751 - mse: 0.0079\n",
      "Epoch 3/100\n",
      "32/32 [==============================] - 0s 606us/step - loss: 0.0069 - mae: 0.0704 - mse: 0.0069\n",
      "Epoch 4/100\n",
      "32/32 [==============================] - 0s 630us/step - loss: 0.0064 - mae: 0.0681 - mse: 0.0064\n",
      "Epoch 5/100\n",
      "32/32 [==============================] - 0s 653us/step - loss: 0.0060 - mae: 0.0659 - mse: 0.0060\n",
      "Epoch 6/100\n",
      "32/32 [==============================] - 0s 638us/step - loss: 0.0056 - mae: 0.0640 - mse: 0.0056\n",
      "Epoch 7/100\n",
      "32/32 [==============================] - 0s 604us/step - loss: 0.0053 - mae: 0.0621 - mse: 0.0053\n",
      "Epoch 8/100\n",
      "32/32 [==============================] - 0s 634us/step - loss: 0.0050 - mae: 0.0603 - mse: 0.0050\n",
      "Epoch 9/100\n",
      "32/32 [==============================] - 0s 581us/step - loss: 0.0047 - mae: 0.0585 - mse: 0.0047\n",
      "Epoch 10/100\n",
      "32/32 [==============================] - 0s 593us/step - loss: 0.0044 - mae: 0.0568 - mse: 0.0044\n",
      "Epoch 11/100\n",
      "32/32 [==============================] - 0s 642us/step - loss: 0.0041 - mae: 0.0551 - mse: 0.0041\n",
      "Epoch 12/100\n",
      "32/32 [==============================] - 0s 668us/step - loss: 0.0039 - mae: 0.0537 - mse: 0.0039\n",
      "Epoch 13/100\n",
      "32/32 [==============================] - 0s 646us/step - loss: 0.0037 - mae: 0.0521 - mse: 0.0037\n",
      "Epoch 14/100\n",
      "32/32 [==============================] - 0s 502us/step - loss: 0.0035 - mae: 0.0507 - mse: 0.0035\n",
      "Epoch 15/100\n",
      "32/32 [==============================] - 0s 619us/step - loss: 0.0033 - mae: 0.0492 - mse: 0.0033\n",
      "Epoch 16/100\n",
      "32/32 [==============================] - 0s 576us/step - loss: 0.0031 - mae: 0.0480 - mse: 0.0031\n",
      "Epoch 17/100\n",
      "32/32 [==============================] - 0s 560us/step - loss: 0.0029 - mae: 0.0466 - mse: 0.0029\n",
      "Epoch 18/100\n",
      "32/32 [==============================] - 0s 644us/step - loss: 0.0028 - mae: 0.0453 - mse: 0.0028\n",
      "Epoch 19/100\n",
      "32/32 [==============================] - 0s 633us/step - loss: 0.0026 - mae: 0.0442 - mse: 0.0026\n",
      "Epoch 20/100\n",
      "32/32 [==============================] - 0s 577us/step - loss: 0.0025 - mae: 0.0430 - mse: 0.0025\n",
      "Epoch 21/100\n",
      "32/32 [==============================] - 0s 574us/step - loss: 0.0024 - mae: 0.0419 - mse: 0.0024\n",
      "Epoch 22/100\n",
      "32/32 [==============================] - 0s 618us/step - loss: 0.0023 - mae: 0.0408 - mse: 0.0023\n",
      "Epoch 23/100\n",
      "32/32 [==============================] - 0s 660us/step - loss: 0.0021 - mae: 0.0397 - mse: 0.0021\n",
      "Epoch 24/100\n",
      "32/32 [==============================] - 0s 507us/step - loss: 0.0020 - mae: 0.0387 - mse: 0.0020\n",
      "Epoch 25/100\n",
      "32/32 [==============================] - 0s 468us/step - loss: 0.0019 - mae: 0.0377 - mse: 0.0019\n",
      "Epoch 26/100\n",
      "32/32 [==============================] - 0s 583us/step - loss: 0.0018 - mae: 0.0367 - mse: 0.0018\n",
      "Epoch 27/100\n",
      "32/32 [==============================] - 0s 646us/step - loss: 0.0017 - mae: 0.0357 - mse: 0.0017\n",
      "Epoch 28/100\n",
      "32/32 [==============================] - 0s 634us/step - loss: 0.0016 - mae: 0.0348 - mse: 0.0016\n",
      "Epoch 29/100\n",
      "32/32 [==============================] - 0s 599us/step - loss: 0.0016 - mae: 0.0339 - mse: 0.0016\n",
      "Epoch 30/100\n",
      "32/32 [==============================] - 0s 558us/step - loss: 0.0015 - mae: 0.0330 - mse: 0.0015\n",
      "Epoch 31/100\n",
      "32/32 [==============================] - 0s 594us/step - loss: 0.0014 - mae: 0.0322 - mse: 0.0014  \n",
      "Epoch 32/100\n",
      "32/32 [==============================] - 0s 646us/step - loss: 0.0013 - mae: 0.0314 - mse: 0.0013\n",
      "Epoch 33/100\n",
      "32/32 [==============================] - 0s 595us/step - loss: 0.0013 - mae: 0.0306 - mse: 0.0013\n",
      "Epoch 34/100\n",
      "32/32 [==============================] - 0s 615us/step - loss: 0.0012 - mae: 0.0298 - mse: 0.0012\n",
      "Epoch 35/100\n",
      "32/32 [==============================] - 0s 560us/step - loss: 0.0012 - mae: 0.0290 - mse: 0.0012\n",
      "Epoch 36/100\n",
      "32/32 [==============================] - 0s 616us/step - loss: 0.0011 - mae: 0.0283 - mse: 0.0011\n",
      "Epoch 37/100\n",
      "32/32 [==============================] - 0s 595us/step - loss: 0.0010 - mae: 0.0275 - mse: 0.0010\n",
      "Epoch 38/100\n",
      "32/32 [==============================] - 0s 612us/step - loss: 0.0010 - mae: 0.0269 - mse: 0.0010\n",
      "Epoch 39/100\n",
      "32/32 [==============================] - 0s 602us/step - loss: 9.5449e-04 - mae: 0.0262 - mse: 9.5449e-04\n",
      "Epoch 40/100\n",
      "32/32 [==============================] - 0s 634us/step - loss: 9.1045e-04 - mae: 0.0256 - mse: 9.1045e-04\n",
      "Epoch 41/100\n",
      "32/32 [==============================] - 0s 676us/step - loss: 8.6838e-04 - mae: 0.0249 - mse: 8.6838e-04\n",
      "Epoch 42/100\n",
      "32/32 [==============================] - 0s 575us/step - loss: 8.2862e-04 - mae: 0.0243 - mse: 8.2862e-04\n",
      "Epoch 43/100\n",
      "32/32 [==============================] - 0s 579us/step - loss: 7.9090e-04 - mae: 0.0237 - mse: 7.9090e-04\n",
      "Epoch 44/100\n",
      "32/32 [==============================] - 0s 597us/step - loss: 7.5525e-04 - mae: 0.0231 - mse: 7.5525e-04\n",
      "Epoch 45/100\n",
      "32/32 [==============================] - 0s 636us/step - loss: 7.2069e-04 - mae: 0.0225 - mse: 7.2069e-04\n",
      "Epoch 46/100\n",
      "32/32 [==============================] - 0s 569us/step - loss: 6.8862e-04 - mae: 0.0220 - mse: 6.8862e-04\n",
      "Epoch 47/100\n",
      "32/32 [==============================] - 0s 565us/step - loss: 6.5764e-04 - mae: 0.0214 - mse: 6.5764e-04\n",
      "Epoch 48/100\n",
      "32/32 [==============================] - 0s 683us/step - loss: 6.2877e-04 - mae: 0.0209 - mse: 6.2877e-04\n",
      "Epoch 49/100\n",
      "32/32 [==============================] - 0s 607us/step - loss: 6.0275e-04 - mae: 0.0204 - mse: 6.0275e-04\n",
      "Epoch 50/100\n",
      "32/32 [==============================] - 0s 560us/step - loss: 5.7626e-04 - mae: 0.0199 - mse: 5.7626e-04\n",
      "Epoch 51/100\n",
      "32/32 [==============================] - 0s 601us/step - loss: 5.5171e-04 - mae: 0.0195 - mse: 5.5171e-04\n",
      "Epoch 52/100\n",
      "32/32 [==============================] - 0s 776us/step - loss: 5.2858e-04 - mae: 0.0190 - mse: 5.2858e-04\n",
      "Epoch 53/100\n",
      "32/32 [==============================] - 0s 656us/step - loss: 5.0651e-04 - mae: 0.0185 - mse: 5.0651e-04\n",
      "Epoch 54/100\n",
      "32/32 [==============================] - 0s 594us/step - loss: 4.8504e-04 - mae: 0.0181 - mse: 4.8504e-04\n",
      "Epoch 55/100\n",
      "32/32 [==============================] - 0s 573us/step - loss: 4.6441e-04 - mae: 0.0176 - mse: 4.6441e-04\n",
      "Epoch 56/100\n",
      "32/32 [==============================] - 0s 553us/step - loss: 4.4549e-04 - mae: 0.0172 - mse: 4.4549e-04\n",
      "Epoch 57/100\n",
      "32/32 [==============================] - 0s 583us/step - loss: 4.2703e-04 - mae: 0.0168 - mse: 4.2703e-04\n",
      "Epoch 58/100\n",
      "32/32 [==============================] - 0s 608us/step - loss: 4.0921e-04 - mae: 0.0164 - mse: 4.0921e-04\n",
      "Epoch 59/100\n",
      "32/32 [==============================] - 0s 567us/step - loss: 3.9336e-04 - mae: 0.0160 - mse: 3.9336e-04\n",
      "Epoch 60/100\n",
      "32/32 [==============================] - 0s 616us/step - loss: 3.7679e-04 - mae: 0.0156 - mse: 3.7679e-04\n",
      "Epoch 61/100\n",
      "32/32 [==============================] - 0s 661us/step - loss: 3.6152e-04 - mae: 0.0153 - mse: 3.6152e-04\n",
      "Epoch 62/100\n",
      "32/32 [==============================] - 0s 547us/step - loss: 3.4673e-04 - mae: 0.0149 - mse: 3.4673e-04\n",
      "Epoch 63/100\n",
      "32/32 [==============================] - 0s 549us/step - loss: 3.3294e-04 - mae: 0.0145 - mse: 3.3294e-04\n",
      "Epoch 64/100\n",
      "32/32 [==============================] - 0s 711us/step - loss: 3.2012e-04 - mae: 0.0142 - mse: 3.2012e-04\n",
      "Epoch 65/100\n",
      "32/32 [==============================] - 0s 603us/step - loss: 3.0696e-04 - mae: 0.0139 - mse: 3.0696e-04\n",
      "Epoch 66/100\n",
      "32/32 [==============================] - 0s 563us/step - loss: 2.9503e-04 - mae: 0.0135 - mse: 2.9503e-04\n",
      "Epoch 67/100\n",
      "32/32 [==============================] - 0s 675us/step - loss: 2.8383e-04 - mae: 0.0132 - mse: 2.8383e-04\n",
      "Epoch 68/100\n",
      "32/32 [==============================] - 0s 523us/step - loss: 2.7243e-04 - mae: 0.0129 - mse: 2.7243e-04\n",
      "Epoch 69/100\n",
      "32/32 [==============================] - 0s 618us/step - loss: 2.6226e-04 - mae: 0.0126 - mse: 2.6226e-04\n",
      "Epoch 70/100\n",
      "32/32 [==============================] - 0s 653us/step - loss: 2.5249e-04 - mae: 0.0123 - mse: 2.5249e-04\n",
      "Epoch 71/100\n",
      "32/32 [==============================] - 0s 680us/step - loss: 2.4312e-04 - mae: 0.0120 - mse: 2.4312e-04\n",
      "Epoch 72/100\n"
     ]
    },
    {
     "name": "stdout",
     "output_type": "stream",
     "text": [
      "32/32 [==============================] - 0s 616us/step - loss: 2.3444e-04 - mae: 0.0118 - mse: 2.3444e-04\n",
      "Epoch 73/100\n",
      "32/32 [==============================] - 0s 530us/step - loss: 2.2620e-04 - mae: 0.0115 - mse: 2.2620e-04\n",
      "Epoch 74/100\n",
      "32/32 [==============================] - 0s 640us/step - loss: 2.1809e-04 - mae: 0.0113 - mse: 2.1809e-04\n",
      "Epoch 75/100\n",
      "32/32 [==============================] - 0s 598us/step - loss: 2.1048e-04 - mae: 0.0110 - mse: 2.1048e-04\n",
      "Epoch 76/100\n",
      "32/32 [==============================] - 0s 588us/step - loss: 2.0350e-04 - mae: 0.0108 - mse: 2.0350e-04\n",
      "Epoch 77/100\n",
      "32/32 [==============================] - 0s 537us/step - loss: 1.9662e-04 - mae: 0.0105 - mse: 1.9662e-04\n",
      "Epoch 78/100\n",
      "32/32 [==============================] - 0s 604us/step - loss: 1.8992e-04 - mae: 0.0103 - mse: 1.8992e-04\n",
      "Epoch 79/100\n",
      "32/32 [==============================] - 0s 549us/step - loss: 1.8380e-04 - mae: 0.0101 - mse: 1.8380e-04\n",
      "Epoch 80/100\n",
      "32/32 [==============================] - 0s 589us/step - loss: 1.7765e-04 - mae: 0.0099 - mse: 1.7765e-04\n",
      "Epoch 81/100\n",
      "32/32 [==============================] - 0s 597us/step - loss: 1.7178e-04 - mae: 0.0096 - mse: 1.7178e-04\n",
      "Epoch 82/100\n",
      "32/32 [==============================] - 0s 539us/step - loss: 1.6609e-04 - mae: 0.0094 - mse: 1.6609e-04\n",
      "Epoch 83/100\n",
      "32/32 [==============================] - 0s 596us/step - loss: 1.6119e-04 - mae: 0.0093 - mse: 1.6119e-04\n",
      "Epoch 84/100\n",
      "32/32 [==============================] - 0s 588us/step - loss: 1.5597e-04 - mae: 0.0090 - mse: 1.5597e-04\n",
      "Epoch 85/100\n",
      "32/32 [==============================] - 0s 662us/step - loss: 1.5113e-04 - mae: 0.0088 - mse: 1.5113e-04\n",
      "Epoch 86/100\n",
      "32/32 [==============================] - 0s 607us/step - loss: 1.4641e-04 - mae: 0.0087 - mse: 1.4641e-04\n",
      "Epoch 87/100\n",
      "32/32 [==============================] - 0s 560us/step - loss: 1.4203e-04 - mae: 0.0085 - mse: 1.4203e-04\n",
      "Epoch 88/100\n",
      "32/32 [==============================] - 0s 516us/step - loss: 1.3780e-04 - mae: 0.0083 - mse: 1.3780e-04\n",
      "Epoch 89/100\n",
      "32/32 [==============================] - 0s 598us/step - loss: 1.3371e-04 - mae: 0.0081 - mse: 1.3371e-04\n",
      "Epoch 90/100\n",
      "32/32 [==============================] - 0s 577us/step - loss: 1.2969e-04 - mae: 0.0080 - mse: 1.2969e-04\n",
      "Epoch 91/100\n",
      "32/32 [==============================] - 0s 573us/step - loss: 1.2589e-04 - mae: 0.0078 - mse: 1.2589e-04\n",
      "Epoch 92/100\n",
      "32/32 [==============================] - 0s 551us/step - loss: 1.2225e-04 - mae: 0.0076 - mse: 1.2225e-04\n",
      "Epoch 93/100\n",
      "32/32 [==============================] - 0s 483us/step - loss: 1.1891e-04 - mae: 0.0075 - mse: 1.1891e-04\n",
      "Epoch 94/100\n",
      "32/32 [==============================] - 0s 582us/step - loss: 1.1551e-04 - mae: 0.0073 - mse: 1.1551e-04\n",
      "Epoch 95/100\n",
      "32/32 [==============================] - 0s 627us/step - loss: 1.1208e-04 - mae: 0.0072 - mse: 1.1208e-04\n",
      "Epoch 96/100\n",
      "32/32 [==============================] - 0s 604us/step - loss: 1.0899e-04 - mae: 0.0070 - mse: 1.0899e-04\n",
      "Epoch 97/100\n",
      "32/32 [==============================] - 0s 655us/step - loss: 1.0604e-04 - mae: 0.0069 - mse: 1.0604e-04\n",
      "Epoch 98/100\n",
      "32/32 [==============================] - 0s 616us/step - loss: 1.0300e-04 - mae: 0.0068 - mse: 1.0300e-04\n",
      "Epoch 99/100\n",
      "32/32 [==============================] - 0s 558us/step - loss: 1.0043e-04 - mae: 0.0066 - mse: 1.0043e-04\n",
      "Epoch 100/100\n",
      "32/32 [==============================] - 0s 639us/step - loss: 9.7696e-05 - mae: 0.0065 - mse: 9.7696e-05\n"
     ]
    }
   ],
   "source": [
    "model = Sequential([\n",
    "    Dense(3, activation='relu', input_dim=2),\n",
    "    Dense(1, activation='relu')\n",
    "])\n",
    "\n",
    "# compling is a key part of this - only metrics of the below is optinal\n",
    "model.compile(optimizer='sgd', loss='mse', metrics=['mae', 'mse'])\n",
    "\n",
    "results = model.fit(X,y, epochs=100)"
   ]
  },
  {
   "cell_type": "code",
   "execution_count": 43,
   "metadata": {},
   "outputs": [],
   "source": [
    "import seaborn as sns"
   ]
  },
  {
   "cell_type": "code",
   "execution_count": 44,
   "metadata": {},
   "outputs": [
    {
     "data": {
      "text/plain": [
       "dict_keys(['loss', 'mae', 'mse'])"
      ]
     },
     "execution_count": 44,
     "metadata": {},
     "output_type": "execute_result"
    }
   ],
   "source": [
    "results.history.keys()"
   ]
  },
  {
   "cell_type": "code",
   "execution_count": 45,
   "metadata": {},
   "outputs": [],
   "source": [
    "epochs = [i for i in range(100)]"
   ]
  },
  {
   "cell_type": "code",
   "execution_count": 46,
   "metadata": {},
   "outputs": [
    {
     "data": {
      "text/plain": [
       "100"
      ]
     },
     "execution_count": 46,
     "metadata": {},
     "output_type": "execute_result"
    }
   ],
   "source": [
    "len(epochs)"
   ]
  },
  {
   "cell_type": "code",
   "execution_count": 47,
   "metadata": {},
   "outputs": [
    {
     "data": {
      "text/plain": [
       "[<matplotlib.lines.Line2D at 0x7fae28043e48>]"
      ]
     },
     "execution_count": 47,
     "metadata": {},
     "output_type": "execute_result"
    },
    {
     "data": {
      "image/png": "[encoded data removed]",
      "text/plain": [
       "<Figure size 432x288 with 1 Axes>"
      ]
     },
     "metadata": {
      "needs_background": "light"
     },
     "output_type": "display_data"
    }
   ],
   "source": [
    "plt.plot(results.history['loss'])"
   ]
  },
  {
   "cell_type": "markdown",
   "metadata": {},
   "source": [
    "## Fashion MNIST Example with Tensorflow\n",
    "\n",
    "In this section, we will experiment with a very simple fashion classifier. \n",
    "\n",
    "It uses a data set called \"fashion mnist\", a set of small b&w images of apparel."
   ]
  },
  {
   "cell_type": "code",
   "execution_count": 48,
   "metadata": {},
   "outputs": [
    {
     "name": "stdout",
     "output_type": "stream",
     "text": [
      "Downloading data from https://storage.googleapis.com/tensorflow/tf-keras-datasets/train-labels-idx1-ubyte.gz\n",
      "32768/29515 [=================================] - 0s 2us/step\n",
      "Downloading data from https://storage.googleapis.com/tensorflow/tf-keras-datasets/train-images-idx3-ubyte.gz\n",
      "26427392/26421880 [==============================] - 18s 1us/step\n",
      "Downloading data from https://storage.googleapis.com/tensorflow/tf-keras-datasets/t10k-labels-idx1-ubyte.gz\n",
      "8192/5148 [===============================================] - 0s 0us/step\n",
      "Downloading data from https://storage.googleapis.com/tensorflow/tf-keras-datasets/t10k-images-idx3-ubyte.gz\n",
      "4423680/4422102 [==============================] - 4s 1us/step\n",
      "(60000, 28, 28) (10000, 28, 28)\n"
     ]
    }
   ],
   "source": [
    "from tensorflow.keras.datasets import fashion_mnist\n",
    "\n",
    "# Load data\n",
    "(X_train, y_train), (X_test, y_test) = fashion_mnist.load_data()\n",
    "print(X_train.shape, X_test.shape)"
   ]
  },
  {
   "cell_type": "code",
   "execution_count": 64,
   "metadata": {},
   "outputs": [],
   "source": [
    "# Noprmalize inputs\n",
    "X_train = X_train / 255\n",
    "X_test = X_test / 255"
   ]
  },
  {
   "cell_type": "markdown",
   "metadata": {},
   "source": [
    "Let's take a look at the first few images"
   ]
  },
  {
   "cell_type": "code",
   "execution_count": 65,
   "metadata": {},
   "outputs": [
    {
     "data": {
      "image/png": "[encoded data removed]",
      "text/plain": [
       "<Figure size 432x288 with 9 Axes>"
      ]
     },
     "metadata": {
      "needs_background": "light"
     },
     "output_type": "display_data"
    }
   ],
   "source": [
    "import matplotlib.pyplot as plt\n",
    "\n",
    "for i in range(9):\n",
    "    # Define subplot\n",
    "    plt.subplot(330 + 1 + i)\n",
    "    \n",
    "    # Plot raw pixel data\n",
    "    plt.imshow(X_train[i], cmap=plt.get_cmap('gray'))\n",
    "    plt.axis('off')\n",
    "\n",
    "# Show the figure\n",
    "plt.show()"
   ]
  },
  {
   "cell_type": "code",
   "execution_count": 66,
   "metadata": {},
   "outputs": [
    {
     "data": {
      "text/plain": [
       "array([0, 1, 2, 3, 4, 5, 6, 7, 8, 9], dtype=uint8)"
      ]
     },
     "execution_count": 66,
     "metadata": {},
     "output_type": "execute_result"
    }
   ],
   "source": [
    "# How many unique classes do we have?\n",
    "np.unique(y_train)"
   ]
  },
  {
   "cell_type": "code",
   "execution_count": 67,
   "metadata": {},
   "outputs": [
    {
     "name": "stdout",
     "output_type": "stream",
     "text": [
      "Model: \"sequential_5\"\n",
      "_________________________________________________________________\n",
      "Layer (type)                 Output Shape              Param #   \n",
      "=================================================================\n",
      "flatten_3 (Flatten)          (None, 784)               0         \n",
      "_________________________________________________________________\n",
      "dense_7 (Dense)              (None, 10)                7850      \n",
      "=================================================================\n",
      "Total params: 7,850\n",
      "Trainable params: 7,850\n",
      "Non-trainable params: 0\n",
      "_________________________________________________________________\n"
     ]
    }
   ],
   "source": [
    "from tensorflow.keras.models import Sequential\n",
    "from tensorflow.keras.layers import Dense, Flatten\n",
    "\n",
    "# Create model\n",
    "model = Sequential()\n",
    "model.add(Flatten(input_shape=(28, 28)))\n",
    "model.add(Dense(10, activation='softmax'))\n",
    "model.compile(loss='sparse_categorical_crossentropy', \n",
    "              optimizer='adam',\n",
    "              metrics=['accuracy'])\n",
    "model.summary()"
   ]
  },
  {
   "cell_type": "code",
   "execution_count": 68,
   "metadata": {},
   "outputs": [
    {
     "name": "stdout",
     "output_type": "stream",
     "text": [
      "Epoch 1/10\n",
      "1875/1875 [==============================] - 2s 846us/step - loss: 0.6078 - accuracy: 0.7934 - val_loss: 0.5089 - val_accuracy: 0.8241\n",
      "Epoch 2/10\n",
      "1875/1875 [==============================] - 1s 794us/step - loss: 0.4634 - accuracy: 0.8414 - val_loss: 0.5262 - val_accuracy: 0.8222\n",
      "Epoch 3/10\n",
      "1875/1875 [==============================] - 1s 795us/step - loss: 0.4356 - accuracy: 0.8512 - val_loss: 0.4667 - val_accuracy: 0.8352\n",
      "Epoch 4/10\n",
      "1875/1875 [==============================] - 1s 778us/step - loss: 0.4218 - accuracy: 0.8540 - val_loss: 0.4721 - val_accuracy: 0.8344\n",
      "Epoch 5/10\n",
      "1875/1875 [==============================] - 1s 781us/step - loss: 0.4131 - accuracy: 0.8579 - val_loss: 0.4640 - val_accuracy: 0.8391\n",
      "Epoch 6/10\n",
      "1875/1875 [==============================] - 1s 785us/step - loss: 0.4064 - accuracy: 0.8597 - val_loss: 0.4464 - val_accuracy: 0.8441\n",
      "Epoch 7/10\n",
      "1875/1875 [==============================] - 1s 786us/step - loss: 0.4012 - accuracy: 0.8607 - val_loss: 0.4472 - val_accuracy: 0.8429\n",
      "Epoch 8/10\n",
      "1875/1875 [==============================] - 1s 779us/step - loss: 0.3989 - accuracy: 0.8613 - val_loss: 0.4575 - val_accuracy: 0.8411\n",
      "Epoch 9/10\n",
      "1875/1875 [==============================] - 1s 786us/step - loss: 0.3946 - accuracy: 0.8627 - val_loss: 0.4501 - val_accuracy: 0.8406\n",
      "Epoch 10/10\n",
      "1875/1875 [==============================] - 1s 775us/step - loss: 0.3923 - accuracy: 0.8639 - val_loss: 0.4492 - val_accuracy: 0.8425\n"
     ]
    },
    {
     "data": {
      "text/plain": [
       "<tensorflow.python.keras.callbacks.History at 0x7fadbf5b97f0>"
      ]
     },
     "execution_count": 68,
     "metadata": {},
     "output_type": "execute_result"
    }
   ],
   "source": [
    "# Fit the model\n",
    "model.fit(X_train, y_train, \n",
    "          epochs=10, \n",
    "          validation_data=(X_test, y_test))"
   ]
  },
  {
   "cell_type": "code",
   "execution_count": 69,
   "metadata": {},
   "outputs": [
    {
     "data": {
      "text/plain": [
       "array([[4.0546897e-07, 2.6914696e-08, 1.1043185e-05, ..., 4.7047902e-02,\n",
       "        5.2463179e-03, 8.3305377e-01],\n",
       "       [2.2530479e-04, 7.2598915e-08, 9.4438994e-01, ..., 1.4700241e-27,\n",
       "        4.6328223e-06, 7.6554511e-19],\n",
       "       [1.9596557e-05, 9.9995220e-01, 4.3366440e-06, ..., 4.2341607e-16,\n",
       "        2.6465999e-08, 1.1759338e-13],\n",
       "       ...,\n",
       "       [6.8019703e-02, 3.9748029e-06, 3.0214048e-03, ..., 4.9075570e-06,\n",
       "        4.9096152e-01, 4.6704958e-08],\n",
       "       [1.0791389e-06, 9.9960643e-01, 2.1609869e-06, ..., 1.9563687e-12,\n",
       "        2.7580645e-08, 1.8164409e-08],\n",
       "       [3.4078363e-05, 1.9649524e-05, 6.1797519e-04, ..., 1.9167418e-02,\n",
       "        6.2852702e-03, 3.8262352e-04]], dtype=float32)"
      ]
     },
     "execution_count": 69,
     "metadata": {},
     "output_type": "execute_result"
    }
   ],
   "source": [
    "model.predict(X_test)"
   ]
  }
 ],
 "metadata": {
  "kernelspec": {
   "display_name": "U4-S2-NNF (Python3)",
   "language": "python",
   "name": "u4-s2-nnf"
  },
  "language_info": {
   "codemirror_mode": {
    "name": "ipython",
    "version": 3
   },
   "file_extension": ".py",
   "mimetype": "text/x-python",
   "name": "python",
   "nbconvert_exporter": "python",
   "pygments_lexer": "ipython3",
   "version": "3.7.0"
  }
 },
 "nbformat": 4,
 "nbformat_minor": 4
}
